{
 "cells": [
  {
   "cell_type": "markdown",
   "metadata": {},
   "source": [
    "Extracting User's Google Calendar"
   ]
  },
  {
   "cell_type": "code",
   "execution_count": 1,
   "metadata": {},
   "outputs": [],
   "source": [
    "from google.oauth2.credentials import Credentials\n",
    "from google_auth_oauthlib.flow import InstalledAppFlow\n",
    "from google.auth.transport.requests import Request\n",
    "import googleapiclient.discovery\n",
    "import datetime\n"
   ]
  },
  {
   "cell_type": "code",
   "execution_count": 2,
   "metadata": {},
   "outputs": [],
   "source": [
    "%load_ext autoreload\n",
    "%autoreload 2"
   ]
  },
  {
   "cell_type": "code",
   "execution_count": 3,
   "metadata": {},
   "outputs": [
    {
     "name": "stdout",
     "output_type": "stream",
     "text": [
      "No tasks found.\n"
     ]
    }
   ],
   "source": [
    "import re\n",
    "import ollama\n",
    "import pandas as pd\n",
    "from ollama import Client\n",
    "from ollama import chat\n",
    "import methods\n",
    "import formats\n",
    "import json\n",
    "\n",
    "\n",
    "\n",
    "google_calendar = methods.get_google_calendar_service() #get the google calendar service\n",
    "tasks = methods.get_task_service() \n",
    "tasks_list = methods.extractTasks(tasks)\n",
    "calendar = methods.extractCalendar(google_calendar)\n",
    "now = methods.current_time()"
   ]
  },
  {
   "cell_type": "markdown",
   "metadata": {},
   "source": [
    "Logging Previous Conversation"
   ]
  },
  {
   "cell_type": "code",
   "execution_count": 4,
   "metadata": {},
   "outputs": [],
   "source": [
    "def log_message(role, message):\n",
    "    filename = f\"conversation_log.txt\"\n",
    "    with open(filename, \"a\") as file:\n",
    "        timestamp = datetime.datetime.now().isoformat()\n",
    "        file.write(f\"{timestamp} | {role}: {message}\\n\")"
   ]
  },
  {
   "cell_type": "code",
   "execution_count": 5,
   "metadata": {},
   "outputs": [],
   "source": [
    "def get_past_conversation():\n",
    "    filename = f\"conversation_log.txt\"\n",
    "    try:\n",
    "        with open(filename, \"r\") as file:\n",
    "            return file.read()\n",
    "    except FileNotFoundError:\n",
    "        return \"\""
   ]
  },
  {
   "cell_type": "code",
   "execution_count": 6,
   "metadata": {},
   "outputs": [],
   "source": [
    "def log_activity(role, message):\n",
    "    filename = f\"activity_log.txt\"\n",
    "    with open(filename, \"a\") as file:\n",
    "        timestamp = datetime.datetime.now().isoformat()\n",
    "        file.write(f\"{timestamp} | {role}: {message}\\n\")"
   ]
  },
  {
   "cell_type": "markdown",
   "metadata": {},
   "source": [
    "Get User's Query"
   ]
  },
  {
   "cell_type": "code",
   "execution_count": 7,
   "metadata": {},
   "outputs": [],
   "source": [
    "past_conversation = get_past_conversation()\n",
    "# schedule tasks or calendar events\n",
    "\n",
    "context = f\"Here's my calendar and To-Do list for the week, store it for your reference. Calendar: {calendar}\\n To-Do Tasks: {tasks_list} Today's date and time is: {now}\\n\"\n",
    "instruction = \"\"\"\\nAs my virtual assistant, you are an expert with managing the calendar and scheduling tasks. \n",
    "First, you can create, move, check, list, update, delete, and handle recurring events based on the user's requests.\n",
    "When the user doesn't otherwise provide enough information, you can ask for more details, upto 4 times. Otherwise use your best judgement.\n",
    "When the user wants to create an event or move an event and if the user hasn't specified when they want it scheduled, then refer to the calendar and use your best judgement to schedule the event. Keep in mind when the user would normally eat or sleep. Assume default duration for any event as 1 hour.\n",
    "Check for any conflicts before scheduling an event.\n",
    "Always ask for confirmation before making any changes to the calendar, if the user doesn't agree, then generate another suitable time slot.\n",
    "When you are done, please let the user know that the task has been completed, and don't ask any more questions.\n",
    "Second, you can help me manage my to-do list by using your own judgement and scheduling the things on it onto my calendar.\n",
    "When the user wants to schedule their to-do tasks, reorder the tasks by priority using your judgement and output all the tasks with proposed timeslots for each task. Create a balanced schedule.\n",
    "Check if a task is already in the calendar. \n",
    "Take your time to think and plan the schedule before presenting it to the user.\n",
    "Also use your best guess to determine the length of the tasks. Assume that all the tasks have to be scheduled.\n",
    "If the user agrees, then add the events to the calendar and let the user know that the tasks have been scheduled.\n",
    "If the user doesn't agree, then regenerate the timeslots for the tasks and ask for confirmation again. \n",
    "When you are done, let the user know that you have completed your task. Unless you are done with the task, always end with a question mark.\n",
    "Please perform the necessary actions using the Google Calendar API.\\n\n",
    "Example input: 'schedule all my tasks'\n",
    "Example output: 'Sure! Here's a proposed schedule for all your tasks. Is there anything you'd like to change?\n",
    "- Task 1: Apr 2nd, 10:00 AM - 11:00 AM\n",
    "- Task 2: Apr 2nd, 11:00 AM - 12:00 PM\n",
    "- Task 3: Apr 2nd, 12:00 PM - 1:00 PM\\n\n",
    "Here's the previous conversation with the user, read it and understand user preferences if any, use it to make your best judgement on scheduling.\\n\"\"\"\n",
    "\n",
    "# initial setup\n",
    "\n",
    "initial_prompt = context + instruction + past_conversation"
   ]
  },
  {
   "cell_type": "code",
   "execution_count": 8,
   "metadata": {},
   "outputs": [
    {
     "name": "stdout",
     "output_type": "stream",
     "text": [
      "can you schedule a meeting for me at 5pm tomorrow\n"
     ]
    }
   ],
   "source": [
    "user_request = input()\n",
    "combined_prompt = initial_prompt + \"\\nUser request: \" + user_request\n"
   ]
  },
  {
   "cell_type": "code",
   "execution_count": 9,
   "metadata": {},
   "outputs": [],
   "source": [
    "def llama2(client, messages):\n",
    "    response = ollama.chat(model='llama2', messages=messages)\n",
    "    return response['message']['content']\n",
    "\n",
    "messages = [\n",
    "    {\n",
    "        \"role\": \"system\",\n",
    "        \"content\": initial_prompt\n",
    "    },\n",
    "    {\n",
    "        \"role\": \"user\",\n",
    "        \"content\": user_request\n",
    "    }\n",
    "]\n",
    "log_message(\"user\", user_request)"
   ]
  },
  {
   "cell_type": "code",
   "execution_count": 10,
   "metadata": {},
   "outputs": [
    {
     "data": {
      "text/plain": [
       "{'status': 'success'}"
      ]
     },
     "execution_count": 10,
     "metadata": {},
     "output_type": "execute_result"
    }
   ],
   "source": [
    "ollama.pull(\"llama2\")"
   ]
  },
  {
   "cell_type": "code",
   "execution_count": 11,
   "metadata": {},
   "outputs": [
    {
     "name": "stdout",
     "output_type": "stream",
     "text": [
      "Of course! I'd be happy to help you schedule a meeting. Can you please provide me with more details such as the purpose of the meeting, the duration, and any specific time slots that you prefer? This will help me create a proposed schedule that fits your needs.\n",
      "1 hour duration\n",
      "Great, thank you for letting me know! Based on your request, I have checked your calendar and found a available time slot at 5:00 PM tomorrow. Is this time suitable for the meeting? If not, please let me know any other time slots that you prefer.\n",
      "yes\n",
      "Excellent! I have scheduled the meeting for 5:00 PM tomorrow. Please confirm if there are any changes or cancellations.\n",
      "\n",
      "Is there anything else I can help you with?\n",
      "no\n",
      "Great, thank you for letting me know! I have successfully scheduled the meeting at 5:00 PM tomorrow. If you need any further assistance, please don't hesitate to ask. Have a great day!\n"
     ]
    }
   ],
   "source": [
    "finalized_response = False\n",
    "client = Client(host='http://localhost:11434')\n",
    "#establishing feedback loop to chat with user\n",
    "while not finalized_response:\n",
    "    response = llama2(client, messages)\n",
    "    print(response)\n",
    "    log_message(\"assistant\", response)\n",
    "    messages.append({\n",
    "        \"role\": \"assistant\",\n",
    "        \"content\": response\n",
    "    })\n",
    "    if re.compile(r'\\?').search(response):\n",
    "        finalized_response = False\n",
    "        user_feedback = input()\n",
    "        messages.append({\n",
    "            \"role\": \"user\",\n",
    "            \"content\": user_feedback\n",
    "        })\n",
    "        log_message(\"user\", user_feedback)\n",
    "    else:\n",
    "        finalized_response = True\n"
   ]
  },
  {
   "cell_type": "code",
   "execution_count": 15,
   "metadata": {},
   "outputs": [],
   "source": [
    "#get GPT to output the function calls I need to make to the calendar API\n",
    "instruction2 = \"\"\"\\nBased on the user's request you've just processed, please output the appropriate function call(s) to interact with the Google Calendar API. Format your response as a single string containing one or more function calls separated by semicolons. Do not include explanations or additional text.\n",
    "All dates should be in 'YYYY-MM-DD' format, and times should be in 24-hour format 'HH:MM'. Additionally, assume default duration as 1 hour for any event. Use createEvent for scheduling tasks on the to-do list.\n",
    "Available function templates to include in the response string:\n",
    "- createEvent(description, date, time, duration)\n",
    "- moveEvent(event_id, new_date, new_time)\n",
    "- updateEvent(event_id, new_color, new_duration, new_location)\n",
    "- deleteEvent(event_id)\n",
    "- createRecurringEvent(description, start_date, time, duration, frequency, until_date). Frequency can have the value of DAILY, WEEKLY, MONTHLY, YEARLY.\n",
    "- deleteRecurringEvent(recurring_event_id) \n",
    "- updateRecurringEvent(recurring_event_id, new_color, new_duration, new_location, new_frequency, new_until)\n",
    "For all functions other than createEvent and createRecurringEvent, make sure to fill in the id of the event you are referring to from the calendar provided.\n",
    "Make sure to fill in the required information, such as event names, dates, times, etc., based on the user's request context. Replace placeholders like 'today' or 'tomorrow' with specific dates in the format YYYY-MM-DD. If more details are needed from the user for a function call, use your best judgment to complete the function with the information available.\n",
    "Example input1: 'Schedule a team meeting for Friday afternoon at 3pm'\n",
    "Example output1: 'createEvent(\"Team Meeting\", \"YYYY-MM-DD\", \"15:00\", 1:00)'\n",
    "Example input2: 'Update my team meeting to be two hours'\n",
    "Example output2: 'updateEvent(\"event_id\", '', 2:00, '')\n",
    "Example input3: 'Create a recurring meeting every Wednesday at 2pm until the end of June'\n",
    "Example output3: 'createRecurringEvent(\"Meeting\", \"YYYY-MM-DD\", \"02:00\", \"1:00\", \"WEEKLY\", \"YYYY-MM-DD\")\n",
    "Example input4: 'Update my recurring meeting every Wednesday at 2pm to be every month until the end of August'\n",
    "Example output4: 'updateRecurringEvent(\"RecurringEventId\", \"\", \"02:00\", \"1:00\", \"\", \"MONTHLY\", \"YYYY-MM-DD\")\n",
    "Example input5: 'Move my team meeting to tomorrow at 12pm'\n",
    "Example output5: 'moveEvent(\"event_id\", 'YYYY-MM-DD', '12:00')'\n",
    "Example input6: 'Clear my afternoon'\n",
    "Example output7: 'deleteEvent(\"event_id\");deleteEvent(\"event_id\")'\n",
    "Example input8: 'Schedule all my tasks'\n",
    "Example output8: 'createEvent(\"Task 1\", \"YYYY-MM-DD\", \"10:00\", 1:00);createEvent(\"Task 2\", \"YYYY-MM-DD\", \"11:00\", 1:00);createEvent(\"Task 3\", \"YYYY-MM-DD\", \"12:00\", 1:00)\\n\n",
    "\n",
    "YYYY-MM-DD replace it with the date user want\n",
    "\n",
    "Now, please generate the necessary function call(s) based on the user's request.\"\"\""
   ]
  },
  {
   "cell_type": "code",
   "execution_count": 16,
   "metadata": {},
   "outputs": [],
   "source": [
    "messages.append({\n",
    "    \"role\": \"system\",\n",
    "    \"content\": instruction2\n",
    "})"
   ]
  },
  {
   "cell_type": "code",
   "execution_count": 17,
   "metadata": {},
   "outputs": [
    {
     "name": "stdout",
     "output_type": "stream",
     "text": [
      "Sure! Based on the user's request, here are the appropriate function calls to interact with the Google Calendar API:\n",
      "\n",
      "createEvent(\"Team Meeting\", \"YYYY-MM-DD\", \"15:00\", 1:00);\n",
      "updateEvent(\"event_id\", '', 2:00, '');\n",
      "createRecurringEvent(\"Meeting\", \"YYYY-MM-DD\", \"02:00\", \"1:00\", \"WEEKLY\", \"YYYY-MM-DD\");\n",
      "updateRecurringEvent(\"RecurringEventId\", \"\", \"02:00\", \"1:00\", \"\", \"MONTHLY\", \"YYYY-MM-DD\");\n",
      "moveEvent(\"event_id\", 'YYYY-MM-DD', '12:00');\n",
      "deleteEvent(\"event_id\");deleteEvent(\"event_id\");\n",
      "createEvent(\"Task 1\", \"YYYY-MM-DD\", \"10:00\", 1:00);createEvent(\"Task 2\", \"YYYY-MM-DD\", \"11:00\", 1:00);createEvent(\"Task 3\", \"YYYY-MM-DD\", \"12:00\", 1:00)\n",
      "\n",
      "Note that the `YYYY-MM-DD` format is used for dates, and the `YYYY-MM-DD` format is used for recurring events. Also, make sure to fill in the required information based on the user's request context.\n"
     ]
    }
   ],
   "source": [
    "log_activity(\"system\", instruction2)\n",
    "function_call = llama2(client, messages)\n",
    "log_activity(\"assistant\", function_call)\n",
    "print(function_call)\n"
   ]
  },
  {
   "cell_type": "code",
   "execution_count": null,
   "metadata": {},
   "outputs": [],
   "source": []
  },
  {
   "cell_type": "code",
   "execution_count": 13,
   "metadata": {},
   "outputs": [
    {
     "name": "stdout",
     "output_type": "stream",
     "text": [
      "['Sure! Based on your input, I suggest scheduling the jogging event for tomorrow at 12pm and moving the team meeting to tomorrow at 12pm. Here are the appropriate function calls:\\n\\ncreateEvent(\"Jogging\", \"YYYY-MM-DD\", \"12:00\", 1:00)', 'moveEvent(\"event_id\", \\'YYYY-MM-DD\\', \\'12:00\\')', '']\n",
      "Function 'Sure! Based on your input, I suggest scheduling the jogging event for tomorrow at 12pm and moving the team meeting to tomorrow at 12pm. Here are the appropriate function calls:\n",
      "\n",
      "createEvent' not found.\n",
      "Error: <HttpError 404 when requesting https://www.googleapis.com/calendar/v3/calendars/primary/events/event_id?alt=json returned \"Not Found\". Details: \"[{'domain': 'global', 'reason': 'notFound', 'message': 'Not Found'}]\">\n"
     ]
    }
   ],
   "source": [
    "function_calls = [line.strip() for line in function_call.split(';')]\n",
    "print(function_calls)\n",
    "\n",
    "# Define a dictionary mapping function names to their corresponding Python functions\n",
    "functions = {\n",
    "    \"createEvent\": methods.createEvent,\n",
    "    \"moveEvent\": methods.moveEvent,\n",
    "    \"checkSchedule\": methods.checkSchedule,\n",
    "}\n",
    "\n",
    "#TODO: works for createEvent, gotta change other functions in methods file to accept arguments as strings and convert them to appropriate data types\n",
    "# Iterate through the function calls\n",
    "for call in function_calls:\n",
    "    # Split the string to extract function name and arguments\n",
    "    if call == '': continue\n",
    "    parts = call.split('(')\n",
    "    function_name = parts[0]\n",
    "\n",
    "    arguments = parts[1].rstrip(')').split(', ')\n",
    "    \n",
    "\n",
    "    # Call the corresponding function with the provided arguments\n",
    "    if function_name in functions:\n",
    "        functions[function_name](*arguments)\n",
    "    else:\n",
    "        print(f\"Function '{function_name}' not found.\")"
   ]
  },
  {
   "cell_type": "code",
   "execution_count": null,
   "metadata": {},
   "outputs": [],
   "source": []
  }
 ],
 "metadata": {
  "kernelspec": {
   "display_name": "Python 3 (ipykernel)",
   "language": "python",
   "name": "python3"
  },
  "language_info": {
   "codemirror_mode": {
    "name": "ipython",
    "version": 3
   },
   "file_extension": ".py",
   "mimetype": "text/x-python",
   "name": "python",
   "nbconvert_exporter": "python",
   "pygments_lexer": "ipython3",
   "version": "3.11.5"
  }
 },
 "nbformat": 4,
 "nbformat_minor": 2
}
