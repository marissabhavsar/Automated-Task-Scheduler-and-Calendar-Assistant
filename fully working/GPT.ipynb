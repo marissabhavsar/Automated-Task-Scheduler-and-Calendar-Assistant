{
 "cells": [
  {
   "cell_type": "markdown",
   "metadata": {},
   "source": [
    "Extracting User's Google Calendar"
   ]
  },
  {
   "cell_type": "code",
   "execution_count": 1,
   "metadata": {},
   "outputs": [
    {
     "name": "stdout",
     "output_type": "stream",
     "text": [
      "Here are the events for today:\n",
      "1. EECS 545: Machine Learning from 9:00 AM to 10:30 AM\n",
      "2. Run from 10:00 AM to 11:00 AM"
     ]
    }
   ],
   "source": [
    "import methods \n",
    "import formats\n",
    "import json\n",
    "\n",
    "google_calendar = methods.get_google_calendar_service()\n",
    "calendar = methods.extractCalendar(google_calendar)\n",
    "client = methods.set_up_ChatGPT(calendar)"
   ]
  },
  {
   "cell_type": "markdown",
   "metadata": {},
   "source": [
    "Pass calendar and prompt to GPT "
   ]
  },
  {
   "cell_type": "markdown",
   "metadata": {},
   "source": [
    "Query"
   ]
  },
  {
   "cell_type": "code",
   "execution_count": 2,
   "metadata": {},
   "outputs": [
    {
     "name": "stdout",
     "output_type": "stream",
     "text": [
      "Move my run to 1pm tomorrow\n"
     ]
    }
   ],
   "source": [
    "query = input()\n",
    "print(query)"
   ]
  },
  {
   "cell_type": "code",
   "execution_count": 3,
   "metadata": {},
   "outputs": [
    {
     "name": "stdout",
     "output_type": "stream",
     "text": [
      "moveEvent\n"
     ]
    }
   ],
   "source": [
    "prompt2 = \"Extract intent from the following query meant for a virtual calendar assitant - \" + query + \". Your response should be a single word that describes the intent of the query, and should be one of the following: createEvent, moveEvent, deleteEvent, checkSchedule, listEvents, updateEvent.\"\n",
    "stream = client.chat.completions.create(\n",
    "    model=\"gpt-3.5-turbo\",\n",
    "    messages=[{\"role\": \"user\", \"content\": prompt2}],\n",
    "    stream=True,\n",
    ")\n",
    "intent = ''\n",
    "for chunk in stream:\n",
    "    intent += chunk.choices[0].delta.content or \"\"\n",
    "print(intent)   "
   ]
  },
  {
   "cell_type": "code",
   "execution_count": 4,
   "metadata": {},
   "outputs": [
    {
     "name": "stdout",
     "output_type": "stream",
     "text": [
      "{'name': 'run', 'time': '1:00 PM', 'new_date': '2024-03-19'}\n",
      "Please specify the time to move the event to.\n"
     ]
    }
   ],
   "source": [
    "if intent == 'moveEvent':\n",
    "    response = client.chat.completions.create(\n",
    "        model = 'gpt-3.5-turbo',\n",
    "        messages = [{'role': 'user', 'content': query}],\n",
    "        functions = formats.moveEvent_format,\n",
    "    )\n",
    "\n",
    "\n",
    "    json_response = json.loads(response.choices[0].message.function_call.arguments)\n",
    "    print(json_response)\n",
    "    entities = dict(json_response)\n",
    "    methods.moveEvent(entities)\n"
   ]
  },
  {
   "cell_type": "code",
   "execution_count": 5,
   "metadata": {},
   "outputs": [],
   "source": [
    "if intent == 'createEvent':\n",
    "    response = client.chat.completions.create(\n",
    "        model = 'gpt-3.5-turbo',\n",
    "        messages = [{'role': 'user', 'content': query}],\n",
    "        functions = formats.createEvent_format,\n",
    "    )\n",
    "\n",
    "    json_response = json.loads(response.choices[0].message.function_call.arguments)\n",
    "    print(json_response)\n",
    "    entities = dict(json_response)\n",
    "    methods.createEvent(entities)"
   ]
  },
  {
   "cell_type": "code",
   "execution_count": 6,
   "metadata": {},
   "outputs": [],
   "source": [
    "#TODO: Add deleteEvent, listEvents, updateEvent, RecurringEvents intents "
   ]
  },
  {
   "cell_type": "code",
   "execution_count": 7,
   "metadata": {},
   "outputs": [],
   "source": [
    "if intent == \"checkSchedule\":\n",
    "    response = client.chat.completions.create(\n",
    "        model=\"gpt-3.5-turbo\",\n",
    "        messages=[{\"role\": \"user\", \"content\": query}],\n",
    "        functions= formats.checkSchedule_format,\n",
    "    )\n",
    "    json_response = json.loads(response.choices[0].message.function_call.arguments)\n",
    "    entities = dict(json_response)\n",
    "    st.write(\"Entities: \", entities)\n",
    "    methods.checkSchedule(entities)\n"
   ]
  }
 ],
 "metadata": {
  "kernelspec": {
   "display_name": "venv",
   "language": "python",
   "name": "python3"
  },
  "language_info": {
   "codemirror_mode": {
    "name": "ipython",
    "version": 3
   },
   "file_extension": ".py",
   "mimetype": "text/x-python",
   "name": "python",
   "nbconvert_exporter": "python",
   "pygments_lexer": "ipython3",
   "version": "3.11.5"
  }
 },
 "nbformat": 4,
 "nbformat_minor": 2
}
