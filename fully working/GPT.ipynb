{
 "cells": [
  {
   "cell_type": "markdown",
   "metadata": {},
   "source": [
    "Extracting User's Google Calendar"
   ]
  },
  {
   "cell_type": "code",
   "execution_count": 1,
   "metadata": {},
   "outputs": [
    {
     "name": "stdout",
     "output_type": "stream",
     "text": [
      "Based on the calendar information provided, there is one event scheduled for today:\n",
      "\n",
      "1. Event: 545 Project Meeting\n",
      "   Start Time: 2024-03-25T16:00:00-04:00\n",
      "   End Time: 2024-03-25T18:00:00-04:00"
     ]
    }
   ],
   "source": [
    "import methods\n",
    "import formats\n",
    "import json\n",
    "\n",
    "google_calendar = methods.get_google_calendar_service()\n",
    "calendar = methods.extractCalendar(google_calendar)\n",
    "client = methods.set_up_ChatGPT(calendar)"
   ]
  },
  {
   "cell_type": "code",
   "execution_count": 11,
   "metadata": {},
   "outputs": [
    {
     "name": "stdout",
     "output_type": "stream",
     "text": [
      "The autoreload extension is already loaded. To reload it, use:\n",
      "  %reload_ext autoreload\n"
     ]
    }
   ],
   "source": [
    "%load_ext autoreload\n",
    "%autoreload 2"
   ]
  },
  {
   "cell_type": "markdown",
   "metadata": {},
   "source": [
    "Get User's Query"
   ]
  },
  {
   "cell_type": "code",
   "execution_count": 4,
   "metadata": {},
   "outputs": [
    {
     "name": "stdout",
     "output_type": "stream",
     "text": [
      "createEvent\n"
     ]
    }
   ],
   "source": [
    "query = input()\n",
    "prompt2 = \"Extract intent from the following query meant for a virtual calendar assistant - \" + query + \". Your response should be a single word that describes the intent of the query, and should be one of the following: createEvent, moveEvent, deleteEvent, checkSchedule, listEvents, updateEvent.\"\n",
    "stream = client.chat.completions.create(\n",
    "    model=\"gpt-3.5-turbo\",\n",
    "    messages=[{\"role\": \"user\", \"content\": prompt2}],\n",
    "    stream=True,\n",
    ")\n",
    "intent = ''\n",
    "for chunk in stream:\n",
    "    intent += chunk.choices[0].delta.content or \"\"\n",
    "print(intent)"
   ]
  },
  {
   "cell_type": "code",
   "execution_count": 18,
   "metadata": {},
   "outputs": [],
   "source": [
    "if intent == 'moveEvent':\n",
    "    response = client.chat.completions.create(\n",
    "        model = 'gpt-3.5-turbo',\n",
    "        messages = [{'role': 'user', 'content': query}],\n",
    "        functions = formats.moveEvent_format,\n",
    "    )\n",
    "\n",
    "\n",
    "    json_response = json.loads(response.choices[0].message.function_call.arguments)\n",
    "\n",
    "\n",
    "    entities = dict(json_response)\n",
    "    if not entities.get('new_time', ''):\n",
    "        prompt = 'Here is my calendar for the week: ' + calendar + '\\n' + ' Use it to find a new time to schedule the following event, taking into account the type of event (name)' + str(json_response) + 'Your response should only output new_time as a single string where new_time represents The time to which the event is to be moved. Use 12HR format, example output: 10:00 AM.'\n",
    "        response2 = client.chat.completions.create(\n",
    "            model = 'gpt-3.5-turbo',\n",
    "            messages = [{'role': 'user', 'content': prompt}],\n",
    "        )\n",
    "        output = response2.choices[0].message.content\n",
    "        print(output)\n",
    "        entities['new_time'] = output\n",
    "        methods.moveEvent(entities)\n",
    "    else:\n",
    "        methods.moveEvent(entities)\n",
    "\n",
    "\n",
    "\n",
    "\n"
   ]
  },
  {
   "cell_type": "code",
   "execution_count": 6,
   "metadata": {},
   "outputs": [
    {
     "name": "stdout",
     "output_type": "stream",
     "text": [
      "{'description': 'Dinner with friends', 'date': '2024-03-26', 'time': '6:00 PM', 'duration': '3 hours'}\n",
      "2024-03-26 18:00:00\n",
      "Event created: Dinner with friends on 2024-03-26 at 6:00 PM for 3 hours hours.\n"
     ]
    }
   ],
   "source": [
    "if intent == 'createEvent':\n",
    "    response = client.chat.completions.create(\n",
    "        model = 'gpt-3.5-turbo',\n",
    "        messages = [{'role': 'user', 'content': query + \"based on \" + calendar}],\n",
    "        functions = formats.createEvent_format,\n",
    "    )\n",
    "\n",
    "    json_response = json.loads(response.choices[0].message.function_call.arguments)\n",
    "    print(json_response)\n",
    "    entities = dict(json_response)\n",
    "\n",
    "\n",
    "    if not entities.get('time', ''):\n",
    "        prompt = 'Here is my calendar for the week: ' + calendar + '\\n' + ' Use it to find a time to schedule the following event, taking into account the type of event (name)' + str(json_response) + 'Your response should only output new_time as a single string where new_time represents The time to which the event is to be moved. Use 12HR format, example output: 10:00 AM.'\n",
    "        response2 = client.chat.completions.create(\n",
    "            model = 'gpt-3.5-turbo',\n",
    "            messages = [{'role': 'user', 'content': prompt}],\n",
    "        )\n",
    "        output = response2.choices[0].message.content\n",
    "        print(output)\n",
    "        entities['time'] = output\n",
    "        methods.createEvent(entities)\n",
    "    else:\n",
    "        methods.createEvent(entities)\n"
   ]
  },
  {
   "cell_type": "code",
   "execution_count": null,
   "metadata": {},
   "outputs": [],
   "source": [
    "#TODO: Add deleteEvent, listEvents, updateEvent, RecurringEvents intents"
   ]
  },
  {
   "cell_type": "code",
   "execution_count": null,
   "metadata": {},
   "outputs": [],
   "source": [
    "if intent == \"checkSchedule\":\n",
    "    response = client.chat.completions.create(\n",
    "        model=\"gpt-3.5-turbo\",\n",
    "        messages=[{\"role\": \"user\", \"content\": query}],\n",
    "        functions= formats.checkSchedule_format,\n",
    "    )\n",
    "    json_response = json.loads(response.choices[0].message.function_call.arguments)\n",
    "    entities = dict(json_response)\n",
    "    st.write(\"Entities: \", entities)\n",
    "    methods.checkSchedule(entities)\n"
   ]
  }
 ],
 "metadata": {
  "kernelspec": {
   "display_name": "venv",
   "language": "python",
   "name": "python3"
  },
  "language_info": {
   "codemirror_mode": {
    "name": "ipython",
    "version": 3
   },
   "file_extension": ".py",
   "mimetype": "text/x-python",
   "name": "python",
   "nbconvert_exporter": "python",
   "pygments_lexer": "ipython3",
   "version": "3.10.8"
  }
 },
 "nbformat": 4,
 "nbformat_minor": 2
}
