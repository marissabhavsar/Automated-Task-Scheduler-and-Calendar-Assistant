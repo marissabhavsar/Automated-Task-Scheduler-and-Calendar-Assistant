{
 "cells": [
  {
   "cell_type": "markdown",
   "metadata": {},
   "source": [
    "Extracting User's Google Calendar"
   ]
  },
  {
   "cell_type": "code",
   "execution_count": 1,
   "metadata": {},
   "outputs": [],
   "source": [
    "from google.oauth2.credentials import Credentials\n",
    "from google_auth_oauthlib.flow import InstalledAppFlow\n",
    "from google.auth.transport.requests import Request\n",
    "import googleapiclient.discovery\n",
    "import datetime\n"
   ]
  },
  {
   "cell_type": "code",
   "execution_count": 2,
   "metadata": {},
   "outputs": [],
   "source": [
    "%load_ext autoreload\n",
    "%autoreload 2"
   ]
  },
  {
   "cell_type": "code",
   "execution_count": 3,
   "metadata": {},
   "outputs": [
    {
     "name": "stdout",
     "output_type": "stream",
     "text": [
      "Here are the events and tasks for the week:\n",
      "\n",
      "Events:\n",
      "1. 📅 545 Project Meeting on 2024-04-15 from 4:00 PM to 6:00 PM\n",
      "2. 🏓 Pickle ball on 2024-04-15 from 6:00 PM to 7:00 PM\n",
      "3. 😚😋😋 Doms on 2024-04-15 from 7:30 PM to 9:00 PM\n",
      "4. Trivia @unionrec on 2024-04-16 from 7:00 PM to 9:00 PM\n",
      "5. Dinner on 2024-04-17 from 6:00 PM to 7:00 PM\n",
      "6. Jog on 2024-04-18 from 9:00 AM to 10:00 AM\n",
      "7. 598 Project and Study on 2024-04-18 from 7:00 PM to 9:00 PM\n",
      "8. Cooking on 2024-04-19 from 6:00 PM to 8:00 PM\n",
      "\n",
      "Tasks:\n",
      "- No tasks scheduled for the week"
     ]
    }
   ],
   "source": [
    "import methods #file containing functions to interact with Google calendar like add event, create event, etc\n",
    "import json\n",
    "import re\n",
    "\n",
    "google_calendar = methods.get_google_calendar_service() #get the google calendar service\n",
    "tasks = methods.get_task_service() #get the task service\n",
    "tasks_list = methods.extractTasks(tasks)\n",
    "calendar = methods.extractCalendar(google_calendar) #extract the calendar from the service\n",
    "client = methods.set_up_ChatGPT(calendar, tasks_list) #set up the ChatGPT model\n",
    "now = methods.current_time()"
   ]
  },
  {
   "cell_type": "markdown",
   "metadata": {},
   "source": [
    "Logging Previous Conversation"
   ]
  },
  {
   "cell_type": "code",
   "execution_count": 4,
   "metadata": {},
   "outputs": [],
   "source": [
    "def log_message(role, message):\n",
    "    filename = f\"conversation_log.txt\"\n",
    "    with open(filename, \"a\") as file:\n",
    "        timestamp = datetime.datetime.now().isoformat()\n",
    "        file.write(f\"{timestamp} | {role}: {message}\\n\")"
   ]
  },
  {
   "cell_type": "code",
   "execution_count": 5,
   "metadata": {},
   "outputs": [],
   "source": [
    "def get_past_conversation():\n",
    "    filename = f\"conversation_log.txt\"\n",
    "    try:\n",
    "        with open(filename, \"r\") as file:\n",
    "            return file.read()\n",
    "    except FileNotFoundError:\n",
    "        return \"\""
   ]
  },
  {
   "cell_type": "markdown",
   "metadata": {},
   "source": [
    "Get User's Query"
   ]
  },
  {
   "cell_type": "code",
   "execution_count": 6,
   "metadata": {},
   "outputs": [
    {
     "name": "stdout",
     "output_type": "stream",
     "text": [
      "calendar:  {'name': '545 Project Meeting', 'datetime_start': '2024-04-15T16:00:00-04:00', 'datetime_end': '2024-04-15T18:00:00-04:00', 'id': '33pmlrcvmobnp4oc9t4d64ib2o_20240415T200000Z'}\n",
      "{'name': 'pickle ball🏓', 'datetime_start': '2024-04-15T18:00:00-04:00', 'datetime_end': '2024-04-15T19:00:00-04:00', 'id': 'ktfa5lvsrlot6b9vrbrj10kbk4'}\n",
      "{'name': 'doms😚😋😋', 'datetime_start': '2024-04-15T19:30:00-04:00', 'datetime_end': '2024-04-15T21:00:00-04:00', 'id': 'ogmf7qgagmj778a951k8dalrgk'}\n",
      "{'name': 'trivia @unionrec', 'datetime_start': '2024-04-16T19:00:00-04:00', 'datetime_end': '2024-04-16T21:00:00-04:00', 'id': '6mofg02ph0irf5vu39gdlhcltk'}\n",
      "{'name': 'dinner', 'datetime_start': '2024-04-17T18:00:00-04:00', 'datetime_end': '2024-04-17T19:00:00-04:00', 'id': '526lbe7gfm8f0rltfrimpd7hsj'}\n",
      "{'name': 'Jog', 'datetime_start': '2024-04-18T09:00:00-04:00', 'datetime_end': '2024-04-18T10:00:00-04:00', 'id': '9801kc07c3plj6cklpjspt80i0'}\n",
      "{'name': '598 Project and Study', 'datetime_start': '2024-04-18T19:00:00-04:00', 'datetime_end': '2024-04-18T21:00:00-04:00', 'id': 'k2tpv346v5hk5r9e71m671gvuk'}\n",
      "{'name': 'Cooking', 'datetime_start': '2024-04-19T18:00:00-04:00', 'datetime_end': '2024-04-19T20:00:00-04:00', 'id': 'l753db11ijcfa4iqejg91qvut4'}\n",
      "\n"
     ]
    }
   ],
   "source": [
    "past_conversation = get_past_conversation()\n",
    "# schedule tasks or calendar events\n",
    "\n",
    "context = f\"Here's my calendar and tasks for the week, store it for your reference.{calendar}\\n{tasks_list} Today's date and time is: {now}\\n\"\n",
    "instruction = \"\"\"\\nAs my virtual assistant, you are an expert with managing my calendar and tasks.\n",
    "You can create, move, check, list, update, delete, and handle recurring events associated with my calendar based on the user's requests.\n",
    "You can also manage my tasks by prioritizing them based on deadlines and scheduling them by creating an event.\n",
    "When the user doesn't provide enough information, you can ask for more details, upto 3 times. Otherwise use your best judgement.\n",
    "When the user wants to schedule their tasks, use your judgement for when tasks should be scheduled based on their deadline provided. Schedule a task as an event.\n",
    "When the user wants to create an event or move an event and if the user hasn't specified when they want it scheduled, then refer to the calendar and use your best judgement to schedule the event. Keep in mind when the user would normally eat or sleep. Assume default duration for any event as 1 hour.\n",
    "ALWAYS check for any conflicts before scheduling an event and notify the user if they are scheduling something that conflicts with another event.\n",
    "Always ask for confirmation before making any changes to the calendar, if the user doesn't agree, then generate another suitable time slot.\n",
    "When you are done, please let the user know that the task has been completed, and don't ask any more questions. If you aren't done, end with a question mark.\n",
    "Please perform the necessary actions using the Google Calendar API. Here's the previous conversation with the user, read it and understand user preferences if any, use it to make your best judgement on scheduling.\\n\"\"\"\n",
    "print('calendar: ', calendar)\n",
    "# initial setup\n",
    "initial_prompt = context + instruction + past_conversation"
   ]
  },
  {
   "cell_type": "code",
   "execution_count": 7,
   "metadata": {},
   "outputs": [],
   "source": [
    "user_request = input()\n",
    "combined_prompt = initial_prompt + \"\\nUser request: \" + user_request\n"
   ]
  },
  {
   "cell_type": "code",
   "execution_count": 8,
   "metadata": {},
   "outputs": [],
   "source": [
    "def chat_gpt(client, messages):\n",
    "    response = client.chat.completions.create(\n",
    "        model=\"gpt-3.5-turbo\",\n",
    "        messages=messages,\n",
    "        max_tokens=500\n",
    "    )\n",
    "    return response.choices[0].message.content\n",
    "\n",
    "messages = [\n",
    "    {\n",
    "        \"role\": \"system\",\n",
    "        \"content\": initial_prompt\n",
    "    },\n",
    "    {\n",
    "        \"role\": \"user\",\n",
    "        \"content\": user_request\n",
    "    }\n",
    "]\n",
    "\n",
    "log_message(\"user\", user_request)"
   ]
  },
  {
   "cell_type": "code",
   "execution_count": 9,
   "metadata": {},
   "outputs": [
    {
     "name": "stdout",
     "output_type": "stream",
     "text": [
      "I see that you have your \"598 Project and Study\" session currently scheduled for Thursday night at 7:00 PM. Would you like me to reschedule this session to tomorrow at 3:00 PM instead?\n",
      "Great! I will reschedule your \"598 Project and Study\" session to tomorrow at 3:00 PM.\n",
      "\n",
      "Your session has been successfully moved accordingly.\n",
      "\n",
      "Is there anything else you would like me to assist with?\n",
      "Great! If you need any further assistance, feel free to ask. Have a fantastic day!\n"
     ]
    }
   ],
   "source": [
    "finalized_response = False\n",
    "\n",
    "#establishing feedback loop to chat with user\n",
    "while not finalized_response:\n",
    "    response = chat_gpt(client, messages)\n",
    "    print(response)\n",
    "    log_message(\"assistant\", response)\n",
    "    messages.append({\n",
    "        \"role\": \"assistant\",\n",
    "        \"content\": response\n",
    "    })\n",
    "    if re.compile(r'\\?').search(response):\n",
    "        finalized_response = False\n",
    "        user_feedback = input()\n",
    "        messages.append({\n",
    "            \"role\": \"user\",\n",
    "            \"content\": user_feedback\n",
    "        })\n",
    "        log_message(\"user\", user_feedback)\n",
    "    else:\n",
    "        finalized_response = True\n"
   ]
  },
  {
   "cell_type": "code",
   "execution_count": 18,
   "metadata": {},
   "outputs": [],
   "source": [
    "#get GPT to output the function calls I need to make to the calendar API\n",
    "instruction2 = \"\"\"\\nBased on the user's request you've just processed, please output the appropriate function call(s) to interact with the Google Calendar API. Format your response as a single string containing one or more function calls separated by semicolons. Do not include explanations or additional text.\n",
    "All dates should be in 'YYYY-MM-DD' format, and times should be in 24-hour format 'HH:MM'. Additionally, for functions requiring a datetime range (such as 'checkSchedule' and 'ListEvents'), the datetime should be in ISO 8601 format 'YYYY-MM-DDTHH:MM:SSZ'.\n",
    "Available function templates to include in the response string:\n",
    "- createEvent(description, date:default=today, time, duration:default=1)\n",
    "- moveEvent(event_id, new_date, new_time)\n",
    "- updateEvent(event_id, new_description, new_duration, new_location)\n",
    "- deleteEvent(event_id)\n",
    "- createRecurringEvent(description, date, time, duration, frequency, until)\n",
    "- deleteRecurringEvent(event_id)\n",
    "- updateRecurringEvent(event_id, new_description, new_duration, new_location)\n",
    "\n",
    "Make sure to fill in the required information, such as event names, IDs, dates, times, etc., based on the user's request context. Replace placeholders like 'today' or 'tomorrow' with specific dates in the format YYYY-MM-DD. If more details are needed from the user for a function call, use your best judgment to complete the function with the information available.\n",
    "Please also make sure the event_id is for the corresponding event we are working with.\n",
    "Make sure to actually fill out the event_id, not just write <event_id>\n",
    "Example input: 'Schedule a team meeting for Friday afternoon at 3pm'\n",
    "Example output: 'createEvent(\"Team Meeting\", \"YYYY-MM-DD\", \"15:00\", 1)'\n",
    "Example input: 'Update my team meeting to be two hours'\n",
    "Example output 'updateEvent(<event_id>, '', 2, '')\n",
    "Example input: 'Move my team meeting to tomorrow at 12pm'\n",
    "Example output (Assuming today's date is 2024-15-04) 'moveEvent(<event_id>, '2024-16-04', '12:00')\n",
    "\n",
    "Now, please generate the necessary function call(s) based on the user's request.\"\"\""
   ]
  },
  {
   "cell_type": "code",
   "execution_count": 19,
   "metadata": {},
   "outputs": [
    {
     "name": "stdout",
     "output_type": "stream",
     "text": [
      "moveEvent(6mofg02ph0irf5vu39gdlhcltk, 2024-04-16, 15:00)\n"
     ]
    }
   ],
   "source": [
    "messages.append({\n",
    "    \"role\": \"system\",\n",
    "    \"content\": instruction2\n",
    "})\n",
    "function_call = chat_gpt(client, messages)\n",
    "print(function_call)\n",
    "#Example of function call: createEvent(\"Meeting with John\", \"2022-12-31\", \"10:00 AM\", 2)"
   ]
  },
  {
   "cell_type": "code",
   "execution_count": 20,
   "metadata": {},
   "outputs": [
    {
     "name": "stdout",
     "output_type": "stream",
     "text": [
      "['moveEvent(6mofg02ph0irf5vu39gdlhcltk, 2024-04-16, 15:00)']\n",
      "{'name': '545 Project Meeting', 'datetime_start': '2024-04-15T16:00:00-04:00', 'datetime_end': '2024-04-15T18:00:00-04:00', 'id': '33pmlrcvmobnp4oc9t4d64ib2o_20240415T200000Z'}\n",
      "{'name': 'pickle ball🏓', 'datetime_start': '2024-04-15T18:00:00-04:00', 'datetime_end': '2024-04-15T19:00:00-04:00', 'id': 'ktfa5lvsrlot6b9vrbrj10kbk4'}\n",
      "{'name': 'doms😚😋😋', 'datetime_start': '2024-04-15T19:30:00-04:00', 'datetime_end': '2024-04-15T21:00:00-04:00', 'id': 'ogmf7qgagmj778a951k8dalrgk'}\n",
      "{'name': 'trivia @unionrec', 'datetime_start': '2024-04-16T19:00:00-04:00', 'datetime_end': '2024-04-16T21:00:00-04:00', 'id': '6mofg02ph0irf5vu39gdlhcltk'}\n",
      "{'name': 'dinner', 'datetime_start': '2024-04-17T18:00:00-04:00', 'datetime_end': '2024-04-17T19:00:00-04:00', 'id': '526lbe7gfm8f0rltfrimpd7hsj'}\n",
      "{'name': 'Jog', 'datetime_start': '2024-04-18T09:00:00-04:00', 'datetime_end': '2024-04-18T10:00:00-04:00', 'id': '9801kc07c3plj6cklpjspt80i0'}\n",
      "{'name': '598 Project and Study', 'datetime_start': '2024-04-18T19:00:00-04:00', 'datetime_end': '2024-04-18T21:00:00-04:00', 'id': 'k2tpv346v5hk5r9e71m671gvuk'}\n",
      "{'name': 'Cooking', 'datetime_start': '2024-04-19T18:00:00-04:00', 'datetime_end': '2024-04-19T20:00:00-04:00', 'id': 'l753db11ijcfa4iqejg91qvut4'}\n",
      "\n",
      "duration:  2:00:00\n",
      "UTC start time:  2024-04-16 19:00:00+00:00 UTC end time:  2024-04-16 21:00:00+00:00\n",
      "Event \"{'kind': 'calendar#event', 'etag': '\"3426430339382000\"', 'id': '6mofg02ph0irf5vu39gdlhcltk', 'status': 'confirmed', 'htmlLink': 'https://www.google.com/calendar/event?eid=Nm1vZmcwMnBoMGlyZjV2dTM5Z2RsaGNsdGsgbWJoYXZzYXJAdW1pY2guZWR1', 'created': '2024-03-26T01:06:21.000Z', 'updated': '2024-04-15T21:06:09.691Z', 'summary': 'trivia @unionrec', 'creator': {'email': 'mbhavsar@umich.edu', 'self': True}, 'organizer': {'email': 'mbhavsar@umich.edu', 'self': True}, 'start': {'dateTime': '2024-04-16T19:00:00+00:00', 'timeZone': 'America/New_York'}, 'end': {'dateTime': '2024-04-16T21:00:00+00:00', 'timeZone': 'America/New_York'}, 'iCalUID': '6mofg02ph0irf5vu39gdlhcltk@google.com', 'sequence': 2, 'attendees': [{'email': 'brosherm@umich.edu', 'responseStatus': 'needsAction'}, {'email': 'abajwa@umich.edu', 'responseStatus': 'needsAction'}, {'email': 'jillvai@umich.edu', 'responseStatus': 'needsAction'}, {'email': 'mbhavsar@umich.edu', 'organizer': True, 'self': True, 'responseStatus': 'accepted'}], 'reminders': {'useDefault': True}, 'eventType': 'default'}\" moved to 2024-04-16 15:00:00-04:00\n"
     ]
    }
   ],
   "source": [
    "function_calls = [line.strip() for line in function_call.split(';')]\n",
    "print(function_calls)\n",
    "print(calendar)\n",
    "\n",
    "# Define a dictionary mapping function names to their corresponding Python functions\n",
    "functions = {\n",
    "    \"createEvent\": methods.createEvent,\n",
    "    \"moveEvent\": methods.moveEvent,\n",
    "    \"checkSchedule\": methods.checkSchedule,\n",
    "    \"updateEvent\": methods.updateEvent,\n",
    "}\n",
    "\n",
    "#TODO: works for createEvent, gotta change other functions in methods file to accept arguments as strings and convert them to appropriate data types\n",
    "# Iterate through the function calls\n",
    "for call in function_calls:\n",
    "    # Split the string to extract function name and arguments\n",
    "    if call != '':\n",
    "        parts = call.split('(')\n",
    "        function_name = parts[0]\n",
    "        arguments = parts[1].rstrip(')').split(', ')\n",
    "\n",
    "    # Call the corresponding function with the provided arguments\n",
    "    if function_name in functions:\n",
    "        functions[function_name](*arguments)\n",
    "    else:\n",
    "        print(f\"Function '{function_name}' not found.\")"
   ]
  }
 ],
 "metadata": {
  "kernelspec": {
   "display_name": "venv",
   "language": "python",
   "name": "python3"
  },
  "language_info": {
   "codemirror_mode": {
    "name": "ipython",
    "version": 3
   },
   "file_extension": ".py",
   "mimetype": "text/x-python",
   "name": "python",
   "nbconvert_exporter": "python",
   "pygments_lexer": "ipython3",
   "version": "3.10.14"
  }
 },
 "nbformat": 4,
 "nbformat_minor": 2
}
