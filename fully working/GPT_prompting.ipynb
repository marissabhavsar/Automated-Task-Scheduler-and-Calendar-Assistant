{
 "cells": [
  {
   "cell_type": "markdown",
   "metadata": {},
   "source": [
    "Extracting User's Google Calendar"
   ]
  },
  {
   "cell_type": "code",
   "execution_count": 23,
   "metadata": {},
   "outputs": [],
   "source": [
    "from google.oauth2.credentials import Credentials\n",
    "from google_auth_oauthlib.flow import InstalledAppFlow\n",
    "from google.auth.transport.requests import Request\n",
    "import googleapiclient.discovery\n",
    "import datetime\n"
   ]
  },
  {
   "cell_type": "code",
   "execution_count": 25,
   "metadata": {},
   "outputs": [
    {
     "name": "stdout",
     "output_type": "stream",
     "text": [
      "The autoreload extension is already loaded. To reload it, use:\n",
      "  %reload_ext autoreload\n"
     ]
    }
   ],
   "source": [
    "%load_ext autoreload\n",
    "%autoreload 2"
   ]
  },
  {
   "cell_type": "code",
   "execution_count": 26,
   "metadata": {},
   "outputs": [
    {
     "name": "stdout",
     "output_type": "stream",
     "text": [
      "{'kind': 'tasks#taskLists', 'etag': '\"LTgyNjg4ODUyOQ\"', 'items': [{'kind': 'tasks#taskList', 'id': 'MDI1MDE5NTQzMjg1MzkzNDg1Mjk6MDow', 'etag': '\"LTY0MTU3MzgzNg\"', 'title': 'My Tasks', 'updated': '2024-04-13T23:19:37.627Z', 'selfLink': 'https://www.googleapis.com/tasks/v1/users/@me/lists/MDI1MDE5NTQzMjg1MzkzNDg1Mjk6MDow'}]}\n",
      "My Tasks\n",
      "Events for the week:\n",
      "1. 4/13/2024 10:00 PM - 4/14/2024 12:00 AM: babs🕺🏽🕺🏽🕺🏽 w ketaki\n",
      "2. 4/14/2024 7:00 PM - 10:00 PM: wendy's x movie night\n",
      "3. 4/15/2024 10:50 AM - 11:10 AM: [EECS 583] Research Paper Presentations W24 (Marissa Bhavsar)\n",
      "4. 4/15/2024 4:00 PM - 6:00 PM: 545 Project Meeting\n",
      "5. 4/15/2024 7:00 PM - 9:00 PM: doms😚😋😋\n",
      "6. 4/16/2024 7:00 PM - 9:00 PM: trivia @unionrec\n",
      "7. 4/19/2024 6:00 PM - 8:00 PM: Cooking\n",
      "\n",
      "Tasks for the week:\n",
      "1. 598 project - Due: 4/15/2024\n",
      "2. Study for 598 - Due: 4/15/2024\n",
      "3. Practice presentation - Due: 4/14/2024\n",
      "4. Finish EECS 583 Slides - Due: 4/15/2024"
     ]
    }
   ],
   "source": [
    "import methods #file containing functions to interact with Google calendar like add event, create event, etc\n",
    "import json\n",
    "import re\n",
    "\n",
    "google_calendar = methods.get_google_calendar_service() #get the google calendar service\n",
    "tasks = methods.get_task_service() #get the task service\n",
    "tasks_list = methods.extractTasks(tasks)\n",
    "calendar = methods.extractCalendar(google_calendar) #extract the calendar from the service\n",
    "client = methods.set_up_ChatGPT(calendar, tasks_list) #set up the ChatGPT model\n",
    "now = methods.current_time()"
   ]
  },
  {
   "cell_type": "markdown",
   "metadata": {},
   "source": [
    "Logging Previous Conversation"
   ]
  },
  {
   "cell_type": "code",
   "execution_count": 27,
   "metadata": {},
   "outputs": [],
   "source": [
    "def log_message(role, message):\n",
    "    filename = f\"conversation_log.txt\"\n",
    "    with open(filename, \"a\") as file:\n",
    "        timestamp = datetime.datetime.now().isoformat()\n",
    "        file.write(f\"{timestamp} | {role}: {message}\\n\")"
   ]
  },
  {
   "cell_type": "code",
   "execution_count": 28,
   "metadata": {},
   "outputs": [],
   "source": [
    "def get_past_conversation():\n",
    "    filename = f\"conversation_log.txt\"\n",
    "    try:\n",
    "        with open(filename, \"r\") as file:\n",
    "            return file.read()\n",
    "    except FileNotFoundError:\n",
    "        return \"\""
   ]
  },
  {
   "cell_type": "markdown",
   "metadata": {},
   "source": [
    "Get User's Query"
   ]
  },
  {
   "cell_type": "code",
   "execution_count": 29,
   "metadata": {},
   "outputs": [],
   "source": [
    "past_conversation = get_past_conversation()\n",
    "# schedule tasks or calendar events\n",
    "\n",
    "context = f\"Here's my calendar and tasks for the week, store it for your reference.{calendar}\\n{tasks_list} Today's date and time is: {now}\\n\"\n",
    "instruction = \"\"\"\\nAs my virtual assistant, you are an expert with managing my calendar and tasks.\n",
    "You can create, move, check, list, update, delete, and handle recurring events associated with my calendar based on the user's requests.\n",
    "You can also manage my tasks by prioritizing them based on deadlines and scheduling them by creating an event.\n",
    "When the user doesn't provide enough information, you can ask for more details, upto 3 times. Otherwise use your best judgement.\n",
    "When the user wants to schedule their tasks, use your judgement for when tasks should be scheduled based on their deadline provided. Schedule a task as an event.\n",
    "When the user wants to create an event or move an event and if the user hasn't specified when they want it scheduled, then refer to the calendar and use your best judgement to schedule the event. Keep in mind when the user would normally eat or sleep. Assume default duration for any event as 1 hour.\n",
    "Check for any conflicts before scheduling an event.\n",
    "Always ask for confirmation before making any changes to the calendar, if the user doesn't agree, then generate another suitable time slot.\n",
    "When you are done, please let the user know that the task has been completed, and don't ask any more questions. If you aren't done, end with a question mark.\n",
    "Please perform the necessary actions using the Google Calendar API. Here's the previous conversation with the user, read it and understand user preferences if any, use it to make your best judgement on scheduling.\\n\"\"\"\n",
    "\n",
    "# initial setup\n",
    "initial_prompt = context + instruction + past_conversation"
   ]
  },
  {
   "cell_type": "code",
   "execution_count": 30,
   "metadata": {},
   "outputs": [],
   "source": [
    "user_request = input()\n",
    "combined_prompt = initial_prompt + \"\\nUser request: \" + user_request\n"
   ]
  },
  {
   "cell_type": "code",
   "execution_count": 32,
   "metadata": {},
   "outputs": [],
   "source": [
    "def chat_gpt(client, messages):\n",
    "    response = client.chat.completions.create(\n",
    "        model=\"gpt-3.5-turbo\",\n",
    "        messages=messages,\n",
    "        max_tokens=500\n",
    "    )\n",
    "    return response.choices[0].message.content\n",
    "\n",
    "messages = [\n",
    "    {\n",
    "        \"role\": \"system\",\n",
    "        \"content\": initial_prompt\n",
    "    },\n",
    "    {\n",
    "        \"role\": \"user\",\n",
    "        \"content\": user_request\n",
    "    }\n",
    "]\n",
    "\n",
    "log_message(\"user\", user_request)"
   ]
  },
  {
   "cell_type": "code",
   "execution_count": 33,
   "metadata": {},
   "outputs": [
    {
     "name": "stdout",
     "output_type": "stream",
     "text": [
      "I have the following tasks to schedule for the week:\n",
      "1. 598 project\n",
      "2. study for 598\n",
      "3. practice presentation\n",
      "4. Finish EECS 583 Slides\n",
      "\n",
      "Let me find suitable time slots for these tasks throughout the week. \n",
      "\n",
      "Would you like me to start scheduling these tasks now?\n",
      "I will start scheduling your tasks for the week based on their deadlines and your existing calendar. \n",
      "\n",
      "Let's begin with scheduling the tasks. \n",
      "\n",
      "1. **598 project:** I suggest scheduling this task on Thursday, April 18th, between 3:00 PM to 5:00 PM as it aligns with your availability.\n",
      "\n",
      "2. **study for 598:** I recommend scheduling this task on Tuesday, April 16th, after trivia at UnionRec, around 9:00 PM for an uninterrupted study session.\n",
      "\n",
      "3. **practice presentation:** This task can be scheduled on Thursday, April 18th, from 12:00 PM to 1:00 PM to prepare before your project meeting.\n",
      "\n",
      "4. **Finish EECS 583 Slides:** For this task, I propose scheduling it on Monday, April 15th, after your research paper presentations, around 11:30 AM. \n",
      "\n",
      "Would you like me to proceed with these suggestions and schedule these tasks accordingly?\n",
      "Thank you for the reminder about the task deadlines. Let's adjust the scheduling based on the deadlines provided.\n",
      "\n",
      "1. **Finish EECS 583 Slides:** Since this task has a deadline of April 15th, and you have your research paper presentations in the morning, I suggest scheduling this task before your project meeting on Monday, April 15th, from 9:00 AM to 10:30 AM to ensure it's completed before the deadline.\n",
      "\n",
      "2. **practice presentation:** Given that this task is essential for your project meeting, I recommend scheduling it on Thursday, April 18th, from 2:00 PM to 3:00 PM to allow ample time for practice.\n",
      "\n",
      "3. **598 project and study for 598:** Considering the priority and deadlines, I suggest scheduling these tasks together on Thursday, April 18th, from 3:30 PM to 5:30 PM, creating a block of focused time for both tasks.\n",
      "\n",
      "Would you like me to proceed with these updated suggestions and schedule your tasks accordingly?\n",
      "Great! I will schedule your tasks accordingly based on the updated information. \n",
      "\n",
      "1. **Finish EECS 583 Slides:** Scheduled for Monday, April 15th, from 9:00 AM to 10:30 AM.\n",
      "2. **practice presentation:** Scheduled for Thursday, April 18th, from 2:00 PM to 3:00 PM.\n",
      "3. **598 project and study for 598:** Scheduled for Thursday, April 18th, from 3:30 PM to 5:30 PM.\n",
      "\n",
      "All the tasks have been successfully scheduled. \n",
      "\n",
      "Is there anything else you would like me to assist with?\n",
      "Great! If you need any further assistance in the future, feel free to ask. Have a productive week ahead!\n"
     ]
    }
   ],
   "source": [
    "finalized_response = False\n",
    "\n",
    "#establishing feedback loop to chat with user\n",
    "while not finalized_response:\n",
    "    response = chat_gpt(client, messages)\n",
    "    print(response)\n",
    "    log_message(\"assistant\", response)\n",
    "    messages.append({\n",
    "        \"role\": \"assistant\",\n",
    "        \"content\": response\n",
    "    })\n",
    "    if re.compile(r'\\?').search(response):\n",
    "        finalized_response = False\n",
    "        user_feedback = input()\n",
    "        messages.append({\n",
    "            \"role\": \"user\",\n",
    "            \"content\": user_feedback\n",
    "        })\n",
    "        log_message(\"user\", user_feedback)\n",
    "    else:\n",
    "        finalized_response = True\n"
   ]
  },
  {
   "cell_type": "code",
   "execution_count": 34,
   "metadata": {},
   "outputs": [],
   "source": [
    "#get GPT to output the function calls I need to make to the calendar API\n",
    "instruction2 = \"\"\"\\nBased on the user's request you've just processed, please output the appropriate function call(s) to interact with the Google Calendar API. Format your response as a single string containing one or more function calls separated by semicolons. Do not include explanations or additional text.\n",
    "All dates should be in 'YYYY-MM-DD' format, and times should be in 24-hour format 'HH:MM'. Additionally, for functions requiring a datetime range (such as 'checkSchedule' and 'ListEvents'), the datetime should be in ISO 8601 format 'YYYY-MM-DDTHH:MM:SSZ'.\n",
    "Available function templates to include in the response string:\n",
    "- createEvent(description, date:default=today, time, duration:default=1)\n",
    "- moveEvent(event_id, new_date, new_time)\n",
    "- updateEvent(event_id, new_description, new_duration, new_location)\n",
    "- deleteEvent(event_id)\n",
    "- createRecurringEvent(description, date, time, duration, frequency, until)\n",
    "- deleteRecurringEvent(event_id)\n",
    "- updateRecurringEvent(event_id, new_description, new_duration, new_location)\n",
    "\n",
    "Make sure to fill in the required information, such as event names, IDs, dates, times, etc., based on the user's request context. Replace placeholders like 'today' or 'tomorrow' with specific dates in the format YYYY-MM-DD. If more details are needed from the user for a function call, use your best judgment to complete the function with the information available.\n",
    "\n",
    "Example input: 'Schedule a team meeting for Friday afternoon at 3pm'\n",
    "Example output: 'createEvent(\"Team Meeting\", \"YYYY-MM-DD\", \"15:00\", 1)'\n",
    "\n",
    "Now, please generate the necessary function call(s) based on the user's request.\"\"\""
   ]
  },
  {
   "cell_type": "code",
   "execution_count": 35,
   "metadata": {},
   "outputs": [
    {
     "name": "stdout",
     "output_type": "stream",
     "text": [
      "updateEvent(\"b16livsvbvqnqdlhvc35sakkdo\", \"Finish EECS 583 Slides\", 1, \"\");\n",
      "updateEvent(\"33pmlrcvmobnp4oc9t4d64ib2o_20240415T200000Z\", \"545 Project Meeting and Study for 598\", 2, \"\");\n",
      "updateEvent(\"ogmf7qgagmj778a951k8dalrgk\", \"Practice Presentation\", 1, \"\");\n",
      "createEvent(\"598 Project and Study\", \"2024-04-18\", \"15:30\", 2);\n"
     ]
    }
   ],
   "source": [
    "messages.append({\n",
    "    \"role\": \"system\",\n",
    "    \"content\": instruction2\n",
    "})\n",
    "function_call = chat_gpt(client, messages)\n",
    "print(function_call)\n",
    "#Example of function call: createEvent(\"Meeting with John\", \"2022-12-31\", \"10:00 AM\", 2)"
   ]
  },
  {
   "cell_type": "code",
   "execution_count": 36,
   "metadata": {},
   "outputs": [
    {
     "name": "stdout",
     "output_type": "stream",
     "text": [
      "['updateEvent(\"b16livsvbvqnqdlhvc35sakkdo\", \"Finish EECS 583 Slides\", 1, \"\")', 'updateEvent(\"33pmlrcvmobnp4oc9t4d64ib2o_20240415T200000Z\", \"545 Project Meeting and Study for 598\", 2, \"\")', 'updateEvent(\"ogmf7qgagmj778a951k8dalrgk\", \"Practice Presentation\", 1, \"\")', 'createEvent(\"598 Project and Study\", \"2024-04-18\", \"15:30\", 2)', '']\n",
      "Function 'updateEvent' not found.\n",
      "Function 'updateEvent' not found.\n",
      "Function 'updateEvent' not found.\n",
      "Create event called\n",
      "The data and time is  2024-04-18 / 15:30\n",
      "UTC start time:  2024-04-18 19:30:00+00:00 UTC end time:  2024-04-18 21:30:00+00:00\n",
      "Event created: 598 Project and Study on 2024-04-18 at 15:30 for duration of 2 hours.\n"
     ]
    },
    {
     "ename": "IndexError",
     "evalue": "list index out of range",
     "output_type": "error",
     "traceback": [
      "\u001b[0;31m---------------------------------------------------------------------------\u001b[0m",
      "\u001b[0;31mIndexError\u001b[0m                                Traceback (most recent call last)",
      "Cell \u001b[0;32mIn[36], line 17\u001b[0m\n\u001b[1;32m     15\u001b[0m parts \u001b[38;5;241m=\u001b[39m call\u001b[38;5;241m.\u001b[39msplit(\u001b[38;5;124m'\u001b[39m\u001b[38;5;124m(\u001b[39m\u001b[38;5;124m'\u001b[39m)\n\u001b[1;32m     16\u001b[0m function_name \u001b[38;5;241m=\u001b[39m parts[\u001b[38;5;241m0\u001b[39m]\n\u001b[0;32m---> 17\u001b[0m arguments \u001b[38;5;241m=\u001b[39m \u001b[43mparts\u001b[49m\u001b[43m[\u001b[49m\u001b[38;5;241;43m1\u001b[39;49m\u001b[43m]\u001b[49m\u001b[38;5;241m.\u001b[39mrstrip(\u001b[38;5;124m'\u001b[39m\u001b[38;5;124m)\u001b[39m\u001b[38;5;124m'\u001b[39m)\u001b[38;5;241m.\u001b[39msplit(\u001b[38;5;124m'\u001b[39m\u001b[38;5;124m, \u001b[39m\u001b[38;5;124m'\u001b[39m)\n\u001b[1;32m     19\u001b[0m \u001b[38;5;66;03m# Call the corresponding function with the provided arguments\u001b[39;00m\n\u001b[1;32m     20\u001b[0m \u001b[38;5;28;01mif\u001b[39;00m function_name \u001b[38;5;129;01min\u001b[39;00m functions:\n",
      "\u001b[0;31mIndexError\u001b[0m: list index out of range"
     ]
    }
   ],
   "source": [
    "function_calls = [line.strip() for line in function_call.split(';')]\n",
    "print(function_calls)\n",
    "\n",
    "# Define a dictionary mapping function names to their corresponding Python functions\n",
    "functions = {\n",
    "    \"createEvent\": methods.createEvent,\n",
    "    \"moveEvent\": methods.moveEvent,\n",
    "    \"checkSchedule\": methods.checkSchedule,\n",
    "}\n",
    "\n",
    "#TODO: works for createEvent, gotta change other functions in methods file to accept arguments as strings and convert them to appropriate data types\n",
    "# Iterate through the function calls\n",
    "for call in function_calls:\n",
    "    # Split the string to extract function name and arguments\n",
    "    parts = call.split('(')\n",
    "    function_name = parts[0]\n",
    "    arguments = parts[1].rstrip(')').split(', ')\n",
    "\n",
    "    # Call the corresponding function with the provided arguments\n",
    "    if function_name in functions:\n",
    "        functions[function_name](*arguments)\n",
    "    else:\n",
    "        print(f\"Function '{function_name}' not found.\")"
   ]
  }
 ],
 "metadata": {
  "kernelspec": {
   "display_name": "venv",
   "language": "python",
   "name": "python3"
  },
  "language_info": {
   "codemirror_mode": {
    "name": "ipython",
    "version": 3
   },
   "file_extension": ".py",
   "mimetype": "text/x-python",
   "name": "python",
   "nbconvert_exporter": "python",
   "pygments_lexer": "ipython3",
   "version": "3.10.14"
  }
 },
 "nbformat": 4,
 "nbformat_minor": 2
}
