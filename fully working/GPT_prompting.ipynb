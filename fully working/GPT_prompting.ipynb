{
 "cells": [
  {
   "cell_type": "markdown",
   "metadata": {},
   "source": [
    "Extracting User's Google Calendar"
   ]
  },
  {
   "cell_type": "code",
   "execution_count": 19,
   "metadata": {},
   "outputs": [],
   "source": [
    "from google.oauth2.credentials import Credentials\n",
    "from google_auth_oauthlib.flow import InstalledAppFlow\n",
    "from google.auth.transport.requests import Request\n",
    "import googleapiclient.discovery\n",
    "import datetime\n"
   ]
  },
  {
   "cell_type": "code",
   "execution_count": 20,
   "metadata": {},
   "outputs": [
    {
     "name": "stdout",
     "output_type": "stream",
     "text": [
      "The autoreload extension is already loaded. To reload it, use:\n",
      "  %reload_ext autoreload\n"
     ]
    }
   ],
   "source": [
    "%load_ext autoreload\n",
    "%autoreload 2"
   ]
  },
  {
   "cell_type": "code",
   "execution_count": 21,
   "metadata": {},
   "outputs": [
    {
     "name": "stdout",
     "output_type": "stream",
     "text": [
      "To-Do List for the week:\n",
      "1. GPT prompt engineering - make GPT refine prompt\n",
      "2. Ask coe to mail degree certificate to umich\n",
      "3. Jacket and bag zip repair\n",
      "4. Send emails to professors for research in summer\n",
      "\n",
      "Events for today:\n",
      "- SI 649 from 4:00 PM to 5:30 PM"
     ]
    }
   ],
   "source": [
    "import methods #file containing functions to interact with Google calendar like add event, create event, etc\n",
    "import json\n",
    "import re\n",
    "\n",
    "google_calendar = methods.get_google_calendar_service() #get the google calendar service\n",
    "tasks = methods.get_task_service() #get the task service\n",
    "tasks_list = methods.extractTasks(tasks)\n",
    "calendar = methods.extractCalendar(google_calendar) #extract the calendar from the service\n",
    "client = methods.set_up_ChatGPT(calendar, tasks_list) #set up the ChatGPT model\n",
    "now = methods.current_time()"
   ]
  },
  {
   "cell_type": "markdown",
   "metadata": {},
   "source": [
    "Logging Previous Conversation"
   ]
  },
  {
   "cell_type": "code",
   "execution_count": 22,
   "metadata": {},
   "outputs": [],
   "source": [
    "def log_message(role, message):\n",
    "    filename = f\"conversation_log.txt\"\n",
    "    with open(filename, \"a\") as file:\n",
    "        timestamp = datetime.datetime.now().isoformat()\n",
    "        file.write(f\"{timestamp} | {role}: {message}\\n\")"
   ]
  },
  {
   "cell_type": "code",
   "execution_count": 23,
   "metadata": {},
   "outputs": [],
   "source": [
    "def get_past_conversation():\n",
    "    filename = f\"conversation_log.txt\"\n",
    "    try:\n",
    "        with open(filename, \"r\") as file:\n",
    "            return file.read()\n",
    "    except FileNotFoundError:\n",
    "        return \"\""
   ]
  },
  {
   "cell_type": "markdown",
   "metadata": {},
   "source": [
    "Get User's Query"
   ]
  },
  {
   "cell_type": "code",
   "execution_count": 24,
   "metadata": {},
   "outputs": [],
   "source": [
    "past_conversation = get_past_conversation()\n",
    "# schedule tasks or calendar events\n",
    "\n",
    "context = f\"Here's my calendar and To-Do list for the week, store it for your reference. Calendar: {calendar}\\n To-Do Tasks: {tasks_list} Today's date and time is: {now}\\n\"\n",
    "instruction = \"\"\"\\nAs my virtual assistant, you are an expert with managing the calendar. You can do two things for me: schedule tasks and manage my calendar.\n",
    "First, you can create, move, check, list, update, delete, and handle recurring events based on the user's requests.\n",
    "You can also help me with the tasks on my to-do list by scheduling them on my calendar.\n",
    "When the user wants to create an event or move an event and if the user hasn't specified when they want it scheduled, then refer to the calendar and use your best judgement to schedule the event. Keep in mind when the user would normally eat or sleep. Assume default duration for any event as 1 hour.\n",
    "When the user doesn't otherwise provide enough information, you can ask for more details, upto 3 times. Otherwise use your best judgement.\n",
    "Always check for any conflicts before scheduling an event.\n",
    "Always ask for confirmation before making any changes to the calendar, if the user doesn't agree, then generate another suitable time slot.\n",
    "When you are done, please let the user know that the task has been completed, and don't ask any more questions. If you aren't done, end with a question mark.\n",
    "Second, when the user wants to schedule their to-do tasks, output all the tasks with proposed timeslots for each task. Create a balanced schedule.\n",
    "Use your judgement to decide which tasks to schedule first based on the due dates and the nature of the tasks. Prioritize professional tasks over personal tasks.\n",
    "Also use your best guess to determine the length of the tasks. Assume that all the tasks have to be scheduled.\n",
    "If the user agrees, then add the events to the calendar and let the user know that the tasks have been scheduled.\n",
    "If the user doesn't agree, then regenerate the timeslots for the tasks and ask for confirmation again.\n",
    "Please perform the necessary actions using the Google Calendar API. Here's the previous conversation with the user, read it and understand the user's preferences if any, and use it to make your best judgement on scheduling.\\n\n",
    "Example input: 'schedule all my tasks'\n",
    "Example output: 'Sure! Here's a proposed schedule for all your tasks. Is there anything you'd like to change?\n",
    "- Task 1: Apr 2nd, 10:00 AM - 11:00 AM\n",
    "- Task 2: Apr 2nd, 11:00 AM - 12:00 PM\n",
    "- Task 3: Apr 2nd, 12:00 PM - 1:00 PM\\n\"\"\"\n",
    "\n",
    "# initial setup\n",
    "initial_prompt = context + instruction + past_conversation"
   ]
  },
  {
   "cell_type": "code",
   "execution_count": 25,
   "metadata": {},
   "outputs": [],
   "source": [
    "user_request = input()\n",
    "combined_prompt = initial_prompt + \"\\nUser request: \" + user_request\n"
   ]
  },
  {
   "cell_type": "code",
   "execution_count": 26,
   "metadata": {},
   "outputs": [],
   "source": [
    "def chat_gpt(client, messages):\n",
    "    response = client.chat.completions.create(\n",
    "        model=\"gpt-3.5-turbo\",\n",
    "        messages=messages,\n",
    "        max_tokens=500\n",
    "    )\n",
    "    return response.choices[0].message.content\n",
    "\n",
    "messages = [\n",
    "    {\n",
    "        \"role\": \"system\",\n",
    "        \"content\": initial_prompt\n",
    "    },\n",
    "    {\n",
    "        \"role\": \"user\",\n",
    "        \"content\": user_request\n",
    "    }\n",
    "]\n",
    "\n",
    "log_message(\"user\", user_request)"
   ]
  },
  {
   "cell_type": "code",
   "execution_count": 27,
   "metadata": {},
   "outputs": [
    {
     "name": "stdout",
     "output_type": "stream",
     "text": [
      "Sure! Here's a proposed schedule for all your tasks. Please let me know if you agree with the following timeslots:\n",
      "\n",
      "1. Task: GPT prompt engineering - make GPT refine prompt\n",
      "   - Proposed Time: Monday, April 22nd, 2024, from 10:30 AM to 11:30 AM\n",
      "\n",
      "2. Task: Ask coe to mail degree certificate to UMICH\n",
      "   - Proposed Time: Tuesday, April 16th, 2024, from 9:00 AM to 10:00 AM\n",
      "\n",
      "3. Task: Jacket and bag zip repair\n",
      "   - Proposed Time: Tuesday, April 16th, 2024, from 10:00 AM to 11:00 AM\n",
      "\n",
      "4. Task: Send emails to professors for research in summer\n",
      "   - Proposed Time: Tuesday, April 16th, 2024, from 11:00 AM to 12:00 PM\n",
      "\n",
      "Do these times work for you?\n",
      "Sure! Here's a revised proposed schedule for all your tasks with breaks in between and reordered by priority:\n",
      "\n",
      "1. Task: GPT prompt engineering - make GPT refine prompt\n",
      "   - Proposed Time: Monday, April 22nd, 2024, from 10:30 AM to 11:30 AM\n",
      "\n",
      "2. Task: Send emails to professors for research in summer\n",
      "   - Proposed Time: Tuesday, April 16th, 2024, from 9:00 AM to 10:00 AM\n",
      "\n",
      "3. Task: Jacket and bag zip repair\n",
      "   - Proposed Time: Tuesday, April 16th, 2024, from 11:00 AM to 12:00 PM\n",
      "\n",
      "4. Task: Ask coe to mail degree certificate to UMICH\n",
      "   - Proposed Time: Tuesday, April 16th, 2024, from 12:00 PM to 1:00 PM\n",
      "\n",
      "Would you like to proceed with scheduling these tasks in this order with breaks in between?\n",
      "Sure! Here's a revised proposed schedule for all your tasks with breaks in between:\n",
      "\n",
      "1. Task: GPT prompt engineering - make GPT refine prompt\n",
      "   - Proposed Time: Monday, April 22nd, 2024, from 10:30 AM to 11:30 AM\n",
      "\n",
      "- Break: Monday, April 22nd, 2024, from 11:30 AM to 12:00 PM\n",
      "\n",
      "2. Task: Send emails to professors for research in summer\n",
      "   - Proposed Time: Monday, April 22nd, 2024, from 12:00 PM to 1:00 PM\n",
      "\n",
      "- Break: Monday, April 22nd, 2024, from 1:00 PM to 2:00 PM\n",
      "\n",
      "3. Task: Jacket and bag zip repair\n",
      "   - Proposed Time: Monday, April 22nd, 2024, from 2:00 PM to 3:00 PM\n",
      "\n",
      "- Break: Monday, April 22nd, 2024, from 3:00 PM to 4:00 PM\n",
      "\n",
      "4. Task: Ask coe to mail degree certificate to UMICH\n",
      "   - Proposed Time: Monday, April 22nd, 2024, from 4:00 PM to 5:00 PM\n",
      "\n",
      "Do these times with breaks in between work for you?\n",
      "Great! All your tasks have been successfully scheduled with breaks in between. Your calendar has been updated accordingly. If you have any more tasks or changes to your calendar in the future, feel free to let me know. \n",
      "\n",
      "Is there anything else I can assist you with?\n",
      "It seems like you might not need any further assistance. If you have any more tasks or changes in the future, feel free to reach out. Have a wonderful day!\n"
     ]
    }
   ],
   "source": [
    "finalized_response = False\n",
    "\n",
    "#establishing feedback loop to chat with user\n",
    "while not finalized_response:\n",
    "    response = chat_gpt(client, messages)\n",
    "    print(response)\n",
    "    log_message(\"assistant\", response)\n",
    "    messages.append({\n",
    "        \"role\": \"assistant\",\n",
    "        \"content\": response\n",
    "    })\n",
    "    if re.compile(r'\\?').search(response):\n",
    "        finalized_response = False\n",
    "        user_feedback = input()\n",
    "        messages.append({\n",
    "            \"role\": \"user\",\n",
    "            \"content\": user_feedback\n",
    "        })\n",
    "        log_message(\"user\", user_feedback)\n",
    "    else:\n",
    "        finalized_response = True\n"
   ]
  },
  {
   "cell_type": "code",
   "execution_count": 30,
   "metadata": {},
   "outputs": [],
   "source": [
    "#get GPT to output the function calls I need to make to the calendar API\n",
    "instruction2 = \"\"\"\\nBased on the user's request you've just processed, please output the appropriate function call(s) to interact with the Google Calendar API. Format your response as a single string containing one or more function calls separated by semicolons. Do not include explanations or additional text.\n",
    "All dates should be in 'YYYY-MM-DD' format, and times should be in 24-hour format 'HH:MM'. Additionally, for functions requiring a datetime range (such as 'checkSchedule' and 'ListEvents'), the datetime should be in ISO 8601 format 'YYYY-MM-DDTHH:MM:SSZ'. Use createEvent for scheduling tasks.\n",
    "Available function templates to include in the response string:\n",
    "- createEvent(description, date:default=today, time, duration:default=1)\n",
    "- moveEvent(event_id, new_date, new_time)\n",
    "- updateEvent(event_id, new_color, new_duration, new_location)\n",
    "- deleteEvent(event_id)\n",
    "- createRecurringEvent(description, date, time, duration, frequency, until)\n",
    "- deleteRecurringEvent(event_id)\n",
    "- updateRecurringEvent(event_id, new_color, new_duration, new_location)\n",
    "Make sure to fill in the event IDs from the calendar provided. \n",
    "Make sure to fill in the required information, such as event names, dates, times, etc., based on the user's request context. Replace placeholders like 'today' or 'tomorrow' with specific dates in the format YYYY-MM-DD. If more details are needed from the user for a function call, use your best judgment to complete the function with the information available.\n",
    "Example input: 'Schedule a team meeting for Friday afternoon at 3pm'\n",
    "Example output: 'createEvent(\"Team Meeting\", \"YYYY-MM-DD\", \"15:00\", 1)'\n",
    "Example input2: 'Update my team meeting to be two hours'\n",
    "Example output2: 'updateEvent(\"event_id\", '', 2, '')\n",
    "Example input3: 'Move my team meeting to tomorrow at 12pm'\n",
    "Example output3: 'moveEvent(\"event_id\", 'YYYY-MM-DD', '12:00')'\n",
    "Example input4: 'Clear my afternoon'\n",
    "Example output4: 'deleteEvent(\"event_id\");deleteEvent(\"event_id\")'\n",
    "Example input5: 'Schedule all my tasks'\n",
    "Example output5: 'createEvent(\"Task 1\", \"YYYY-MM-DD\", \"10:00\", 1);createEvent(\"Task 2\", \"YYYY-MM-DD\", \"11:00\", 1);createEvent(\"Task 3\", \"YYYY-MM-DD\", \"12:00\", 1)\\n\n",
    "\n",
    "Now, please generate the necessary function call(s) based on the user's request.\"\"\""
   ]
  },
  {
   "cell_type": "code",
   "execution_count": 31,
   "metadata": {},
   "outputs": [
    {
     "name": "stdout",
     "output_type": "stream",
     "text": [
      "createEvent(\"GPT prompt engineering - make GPT refine prompt\", \"2024-04-22\", \"10:30\", 1);createEvent(\"Send emails to professors for research in summer\", \"2024-04-22\", \"12:00\", 1);createEvent(\"Jacket and bag zip repair\", \"2024-04-22\", \"14:00\", 1);createEvent(\"Ask coe to mail degree certificate to UMICH\", \"2024-04-22\", \"16:00\", 1)\n"
     ]
    }
   ],
   "source": [
    "messages.append({\n",
    "    \"role\": \"system\",\n",
    "    \"content\": instruction2\n",
    "})\n",
    "function_call = chat_gpt(client, messages)\n",
    "print(function_call)\n",
    "#Example of function call: createEvent(\"Meeting with John\", \"2022-12-31\", \"10:00 AM\", 2)"
   ]
  },
  {
   "cell_type": "code",
   "execution_count": 12,
   "metadata": {},
   "outputs": [
    {
     "name": "stdout",
     "output_type": "stream",
     "text": [
      "['createEvent(\"GPT prompt engineering - make GPT refine prompt\", \"2024-04-22\", \"10:30\", 1)', 'createEvent(\"Ask coe to mail degree certificate to umich\", \"2024-04-22\", \"09:00\", 1)', 'createEvent(\"Jacket and bag zip repair\", \"2024-04-22\", \"11:30\", 1)', 'createEvent(\"Send emails to professors for research in summer\", \"2024-04-22\", \"13:00\", 1)']\n",
      "Event created: GPT prompt engineering - make GPT refine prompt on 2024-04-22 at 10:30 for duration of 1 hours.\n",
      "Event created: Ask coe to mail degree certificate to umich on 2024-04-22 at 09:00 for duration of 1 hours.\n",
      "Event created: Jacket and bag zip repair on 2024-04-22 at 11:30 for duration of 1 hours.\n",
      "Event created: Send emails to professors for research in summer on 2024-04-22 at 13:00 for duration of 1 hours.\n"
     ]
    }
   ],
   "source": [
    "function_calls = [line.strip() for line in function_call.split(';')]\n",
    "print(function_calls)\n",
    "\n",
    "# Define a dictionary mapping function names to their corresponding Python functions\n",
    "functions = {\n",
    "    \"createEvent\": methods.createEvent,\n",
    "    \"moveEvent\": methods.moveEvent,\n",
    "    \"checkSchedule\": methods.checkSchedule,\n",
    "    \"updateEvent\": methods.updateEvent,\n",
    "}\n",
    "\n",
    "#TODO: works for createEvent, gotta change other functions in methods file to accept arguments as strings and convert them to appropriate data types\n",
    "# Iterate through the function calls\n",
    "for call in function_calls:\n",
    "    # Split the string to extract function name and arguments\n",
    "    if call != '':\n",
    "        parts = call.split('(')\n",
    "        function_name = parts[0]\n",
    "        arguments = parts[1].rstrip(')').split(', ')\n",
    "\n",
    "    # Call the corresponding function with the provided arguments\n",
    "    if function_name in functions:\n",
    "        functions[function_name](*arguments)\n",
    "    else:\n",
    "        print(f\"Function '{function_name}' not found.\")"
   ]
  }
 ],
 "metadata": {
  "kernelspec": {
   "display_name": "venv",
   "language": "python",
   "name": "python3"
  },
  "language_info": {
   "codemirror_mode": {
    "name": "ipython",
    "version": 3
   },
   "file_extension": ".py",
   "mimetype": "text/x-python",
   "name": "python",
   "nbconvert_exporter": "python",
   "pygments_lexer": "ipython3",
   "version": "3.11.8"
  }
 },
 "nbformat": 4,
 "nbformat_minor": 2
}
