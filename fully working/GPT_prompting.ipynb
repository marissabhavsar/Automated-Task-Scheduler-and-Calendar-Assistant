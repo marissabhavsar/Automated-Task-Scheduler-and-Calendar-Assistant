{
 "cells": [
  {
   "cell_type": "markdown",
   "metadata": {},
   "source": [
    "Extracting User's Google Calendar"
   ]
  },
  {
   "cell_type": "code",
   "execution_count": 13,
   "metadata": {},
   "outputs": [],
   "source": [
    "from google.oauth2.credentials import Credentials\n",
    "from google_auth_oauthlib.flow import InstalledAppFlow\n",
    "from google.auth.transport.requests import Request\n",
    "import googleapiclient.discovery\n",
    "import datetime\n"
   ]
  },
  {
   "cell_type": "code",
   "execution_count": 14,
   "metadata": {},
   "outputs": [
    {
     "name": "stdout",
     "output_type": "stream",
     "text": [
      "The autoreload extension is already loaded. To reload it, use:\n",
      "  %reload_ext autoreload\n"
     ]
    }
   ],
   "source": [
    "%load_ext autoreload\n",
    "%autoreload 2"
   ]
  },
  {
   "cell_type": "code",
   "execution_count": 15,
   "metadata": {},
   "outputs": [
    {
     "name": "stdout",
     "output_type": "stream",
     "text": [
      "To-Do list for the week:\n",
      "1. Study for 598 - Due on 2024-04-15\n",
      "2. Finish EECS 583 Slides - Due on 2024-04-15\n",
      "3. 598 exam - Due on 2024-04-17\n",
      "4. 545 testing - Due on 2024-04-17\n",
      "5. 545 poster - Due on 2024-04-18\n",
      "6. Finish setting up tasks API - Due on 2024-04-13\n",
      "\n",
      "Events for today:\n",
      "1. Run - 8:00 AM to 9:00 AM\n",
      "2. 598 exam - 10:00 AM to 11:00 AM\n",
      "3. 545 testing - 11:00 AM to 12:00 PM\n",
      "4. Dinner - 6:00 PM to 8:00 PM"
     ]
    }
   ],
   "source": [
    "import methods #file containing functions to interact with Google calendar like add event, create event, etc\n",
    "import json\n",
    "import re\n",
    "\n",
    "google_calendar = methods.get_google_calendar_service() #get the google calendar service\n",
    "tasks = methods.get_task_service() #get the task service\n",
    "tasks_list = methods.extractTasks(tasks)\n",
    "calendar = methods.extractCalendar(google_calendar) #extract the calendar from the service\n",
    "client = methods.set_up_ChatGPT(calendar, tasks_list) #set up the ChatGPT model\n",
    "now = methods.current_time()"
   ]
  },
  {
   "cell_type": "markdown",
   "metadata": {},
   "source": [
    "Logging Previous Conversation"
   ]
  },
  {
   "cell_type": "code",
   "execution_count": 16,
   "metadata": {},
   "outputs": [],
   "source": [
    "def log_message(role, message):\n",
    "    filename = f\"conversation_log.txt\"\n",
    "    with open(filename, \"a\") as file:\n",
    "        timestamp = datetime.datetime.now().isoformat()\n",
    "        file.write(f\"{timestamp} | {role}: {message}\\n\")"
   ]
  },
  {
   "cell_type": "code",
   "execution_count": 17,
   "metadata": {},
   "outputs": [],
   "source": [
    "def get_past_conversation():\n",
    "    filename = f\"conversation_log.txt\"\n",
    "    try:\n",
    "        with open(filename, \"r\") as file:\n",
    "            return file.read()\n",
    "    except FileNotFoundError:\n",
    "        return \"\""
   ]
  },
  {
   "cell_type": "markdown",
   "metadata": {},
   "source": [
    "Get User's Query"
   ]
  },
  {
   "cell_type": "code",
   "execution_count": 18,
   "metadata": {},
   "outputs": [],
   "source": [
    "past_conversation = get_past_conversation()\n",
    "# schedule tasks or calendar events\n",
    "\n",
    "context = f\"Here's my calendar and To-Do list for the week, store it for your reference. Calendar: {calendar}\\n To-Do Tasks: {tasks_list} Today's date and time is: {now}\\n\"\n",
    "instruction = \"\"\"\\nAs my virtual assistant, you are an expert with managing the calendar. You can do two things for me: schedule tasks and manage my calendar.\n",
    "First, you can create, move, check, list, update, delete, and handle recurring events based on the user's requests.\n",
    "You can also help me with the tasks on my to-do list by scheduling them on my calendar.\n",
    "When the user wants to create an event or move an event and if the user hasn't specified when they want it scheduled, then refer to the calendar and use your best judgement to schedule the event. Keep in mind when the user would normally eat or sleep. Assume default duration for any event as 1 hour.\n",
    "When the user doesn't otherwise provide enough information, you can ask for more details, upto 3 times. Otherwise use your best judgement.\n",
    "Always check for any conflicts before scheduling an event.\n",
    "Always ask for confirmation before making any changes to the calendar, if the user doesn't agree, then generate another suitable time slot.\n",
    "When you are done, please let the user know that the task has been completed, and don't ask any more questions. If you aren't done, end with a question mark.\n",
    "Second, when the user wants to schedule their to-do tasks, output all the tasks with proposed timeslots for each task. Create a balanced schedule.\n",
    "Use your judgement to decide which tasks to schedule first based on the due dates and the nature of the tasks. Prioritize professional tasks over personal tasks.\n",
    "Also use your best guess to determine the length of the tasks. Assume that all the tasks have to be scheduled.\n",
    "If the user agrees, then add the events to the calendar and let the user know that the tasks have been scheduled.\n",
    "If the user doesn't agree, then regenerate the timeslots for the tasks and ask for confirmation again.\n",
    "Please perform the necessary actions using the Google Calendar API. Here's the previous conversation with the user, read it and understand the user's preferences if any, and use it to make your best judgement on scheduling.\\n\n",
    "Example input: 'schedule all my tasks'\n",
    "Example output: 'Sure! Here's a proposed schedule for all your tasks. Is there anything you'd like to change?\n",
    "- Task 1: Apr 2nd, 10:00 AM - 11:00 AM\n",
    "- Task 2: Apr 2nd, 11:00 AM - 12:00 PM\n",
    "- Task 3: Apr 2nd, 12:00 PM - 1:00 PM\\n\"\"\"\n",
    "\n",
    "# initial setup\n",
    "initial_prompt = context + instruction + past_conversation"
   ]
  },
  {
   "cell_type": "code",
   "execution_count": 19,
   "metadata": {},
   "outputs": [],
   "source": [
    "user_request = input()\n",
    "combined_prompt = initial_prompt + \"\\nUser request: \" + user_request\n"
   ]
  },
  {
   "cell_type": "code",
   "execution_count": 20,
   "metadata": {},
   "outputs": [],
   "source": [
    "def chat_gpt(client, messages):\n",
    "    response = client.chat.completions.create(\n",
    "        model=\"gpt-3.5-turbo\",\n",
    "        messages=messages,\n",
    "        max_tokens=500\n",
    "    )\n",
    "    return response.choices[0].message.content\n",
    "\n",
    "messages = [\n",
    "    {\n",
    "        \"role\": \"system\",\n",
    "        \"content\": initial_prompt\n",
    "    },\n",
    "    {\n",
    "        \"role\": \"user\",\n",
    "        \"content\": user_request\n",
    "    }\n",
    "]\n",
    "\n",
    "log_message(\"user\", user_request)"
   ]
  },
  {
   "cell_type": "code",
   "execution_count": 21,
   "metadata": {},
   "outputs": [
    {
     "name": "stdout",
     "output_type": "stream",
     "text": [
      "Sure! I will create a recurring workout session every Friday at 8am until the end of May. Task completed.\n"
     ]
    }
   ],
   "source": [
    "finalized_response = False\n",
    "\n",
    "#establishing feedback loop to chat with user\n",
    "while not finalized_response:\n",
    "    response = chat_gpt(client, messages)\n",
    "    print(response)\n",
    "    log_message(\"assistant\", response)\n",
    "    messages.append({\n",
    "        \"role\": \"assistant\",\n",
    "        \"content\": response\n",
    "    })\n",
    "    if re.compile(r'\\?').search(response):\n",
    "        finalized_response = False\n",
    "        user_feedback = input()\n",
    "        messages.append({\n",
    "            \"role\": \"user\",\n",
    "            \"content\": user_feedback\n",
    "        })\n",
    "        log_message(\"user\", user_feedback)\n",
    "    else:\n",
    "        finalized_response = True\n"
   ]
  },
  {
   "cell_type": "code",
   "execution_count": 22,
   "metadata": {},
   "outputs": [],
   "source": [
    "#get GPT to output the function calls I need to make to the calendar API\n",
    "instruction2 = \"\"\"\\nBased on the user's request you've just processed, please output the appropriate function call(s) to interact with the Google Calendar API. Format your response as a single string containing one or more function calls separated by semicolons. Do not include explanations or additional text.\n",
    "All dates should be in 'YYYY-MM-DD' format (unless otherwise stated), and times should be in 24-hour format 'HH:MM'. Additionally, for functions requiring a datetime range (such as 'checkSchedule' and 'ListEvents'), the datetime should be in ISO 8601 format 'YYYY-MM-DDTHH:MM:SSZ'. Use createEvent for scheduling tasks.\n",
    "Available function templates to include in the response string:\n",
    "- createEvent(description, date:default=today, time, duration:default=1:00)\n",
    "- moveEvent(event_id, new_date, new_time)\n",
    "- updateEvent(event_id, new_description, new_duration, new_location)\n",
    "- deleteEvent(event_id)\n",
    "- createRecurringEvent(description, date, time, duration:default=1:00, frequency, until)  // frequency can have the value of DAILY, WEEKLY, MONTHLY, YEARLY\n",
    "- deleteRecurringEvent(<recurringEventId>) // make sure the event_id is the recurring event id\n",
    "- updateRecurringEvent(<recurringEventId>, new_description, new_duration, new_location, new_frequency, new_until) // make sure the event_id is the recurring event ID\n",
    "- inviteEmail(event_id, attendees)\n",
    "Make sure to fill in the event IDs from the calendar provided.\n",
    "Make sure to fill in the required information, such as event names, dates, times, etc., based on the user's request context. Replace placeholders like 'today' or 'tomorrow' with specific dates in the format YYYY-MM-DD. If more details are needed from the user for a function call, use your best judgment to complete the function with the information available.\n",
    "Example input: 'Schedule a team meeting for Friday afternoon at 3pm'\n",
    "Example output: 'createEvent(\"Team Meeting\", \"YYYY-MM-DD\", \"15:00\", 1:00)'\n",
    "Example input: 'Update my team meeting to be two hours'\n",
    "Example output 'updateEvent(<event_id>, \"\", 2:00, \"\")\n",
    "Example input: 'Create a recurring meeting every Wednesday at 2pm until the end of June'\n",
    "Example output: 'createRecurringEvent(\"Meeting\", \"YYYY-MM-DD\", \"02:00\", \"1:00\", \"WEEKLY\", \"YYYYMMDD\"). Make sure until parameter has no dashes and follows the format YYYYMMDD.\n",
    "Example input: 'Update my recurring meeting every Wednesday at 2pm to be every month until the end of August'\n",
    "Example output: 'createRecurringEvent(<RecurringEventId>, \"\", \"02:00\", \"1:00\", \"\", \"MONTHLY\", \"YYYYMMDD\"). Make sure until parameter has no dashes and follows the format YYYYMMDD.\n",
    "Example input: 'Invite person@gmail.com to my Team Meeting'\n",
    "Example output: 'inviteEmail(<event_id>, \"person@gmail.com\")'\n",
    "Example input: 'Move my team meeting to tomorrow at 12pm'\n",
    "Example output: 'moveEvent(\"event_id\", 'YYYY-MM-DD', '12:00')'\n",
    "Example input: 'Clear my afternoon'\n",
    "Example output: 'deleteEvent(\"event_id\");deleteEvent(\"event_id\")'\n",
    "Example input: 'Schedule all my tasks'\n",
    "Example output: 'createEvent(\"Task 1\", \"YYYY-MM-DD\", \"10:00\", 1:00);createEvent(\"Task 2\", \"YYYY-MM-DD\", \"11:00\", 1:00);createEvent(\"Task 3\", \"YYYY-MM-DD\", \"12:00\", 1:00)\\n\n",
    "\n",
    "Now, please generate the necessary function call(s) based on the user's request.\"\"\""
   ]
  },
  {
   "cell_type": "code",
   "execution_count": 23,
   "metadata": {},
   "outputs": [
    {
     "name": "stdout",
     "output_type": "stream",
     "text": [
      "createRecurringEvent(\"Workout Session\", \"2024-04-19\", \"08:00\", \"1:00\", \"WEEKLY\", \"2024-05-31\")\n"
     ]
    }
   ],
   "source": [
    "messages.append({\n",
    "    \"role\": \"system\",\n",
    "    \"content\": instruction2\n",
    "})\n",
    "function_call = chat_gpt(client, messages)\n",
    "print(function_call)\n",
    "#Example of function call: createEvent(\"Meeting with John\", \"2022-12-31\", \"10:00 AM\", 2)"
   ]
  },
  {
   "cell_type": "code",
   "execution_count": 24,
   "metadata": {},
   "outputs": [
    {
     "name": "stdout",
     "output_type": "stream",
     "text": [
      "['createRecurringEvent(\"Workout Session\", \"2024-04-19\", \"08:00\", \"1:00\", \"WEEKLY\", \"2024-05-31\")']\n",
      "{'name': 'Run', 'datetime_start': '2024-04-17T08:00:00-04:00', 'datetime_end': '2024-04-17T09:00:00-04:00', 'id': 'b8dtvgie4rhb9qsq323nbf92ag'}\n",
      "{'name': '598 exam', 'datetime_start': '2024-04-17T10:00:00-04:00', 'datetime_end': '2024-04-17T11:00:00-04:00', 'id': 'dffvi0rkp97ukaqh3oerb4nuo0'}\n",
      "{'name': '545 testing', 'datetime_start': '2024-04-17T11:00:00-04:00', 'datetime_end': '2024-04-17T12:00:00-04:00', 'id': 'evfr48j3ujgqtc4pkgf0nivj2s'}\n",
      "{'name': 'dinner', 'datetime_start': '2024-04-17T18:00:00-04:00', 'datetime_end': '2024-04-17T20:00:00-04:00', 'id': '526lbe7gfm8f0rltfrimpd7hsj'}\n",
      "{'name': '598 Project and Study', 'datetime_start': '2024-04-18T19:00:00-04:00', 'datetime_end': '2024-04-18T21:00:00-04:00', 'id': 'k2tpv346v5hk5r9e71m671gvuk'}\n",
      "{'name': 'Cooking', 'datetime_start': '2024-04-19T18:00:00-04:00', 'datetime_end': '2024-04-19T20:00:00-04:00', 'id': 'l753db11ijcfa4iqejg91qvut4'}\n",
      "{'name': '545 Project Meeting', 'datetime_start': '2024-04-22T16:00:00-04:00', 'datetime_end': '2024-04-22T18:00:00-04:00', 'id': '33pmlrcvmobnp4oc9t4d64ib2o_20240422T200000Z'}\n",
      "\n",
      "Create recurring event called\n",
      "Event created: Workout Session on 2024-04-19 at 08:00 for duration of 1:00 hours WEEKLY until 20240531.\n"
     ]
    }
   ],
   "source": [
    "function_calls = [line.strip() for line in function_call.split(';')]\n",
    "print(function_calls)\n",
    "print(calendar)\n",
    "\n",
    "# Define a dictionary mapping function names to their corresponding Python functions\n",
    "functions = {\n",
    "    \"createEvent\": methods.createEvent,\n",
    "    \"moveEvent\": methods.moveEvent,\n",
    "    \"checkSchedule\": methods.checkSchedule,\n",
    "    \"updateEvent\": methods.updateEvent,\n",
    "    \"createRecurringEvent\": methods.createRecurringEvent,\n",
    "    \"updateRecurringEvent\": methods.updateRecurringEvent,\n",
    "    \"deleteRecurringEvent\": methods.deleteRecurringEvent,\n",
    "    \"inviteEmail\": methods.inviteEmail,\n",
    "}\n",
    "\n",
    "#TODO: works for createEvent, gotta change other functions in methods file to accept arguments as strings and convert them to appropriate data types\n",
    "# Iterate through the function calls\n",
    "for call in function_calls:\n",
    "    # Split the string to extract function name and arguments\n",
    "    if call != '':\n",
    "        parts = call.split('(')\n",
    "        function_name = parts[0]\n",
    "        arguments = parts[1].rstrip(')').split(', ')\n",
    "\n",
    "    # Call the corresponding function with the provided arguments\n",
    "    if function_name in functions:\n",
    "        functions[function_name](*arguments)\n",
    "    else:\n",
    "        print(f\"Function '{function_name}' not found.\")"
   ]
  }
 ],
 "metadata": {
  "kernelspec": {
   "display_name": "venv",
   "language": "python",
   "name": "python3"
  },
  "language_info": {
   "codemirror_mode": {
    "name": "ipython",
    "version": 3
   },
   "file_extension": ".py",
   "mimetype": "text/x-python",
   "name": "python",
   "nbconvert_exporter": "python",
   "pygments_lexer": "ipython3",
   "version": "3.11.8"
  }
 },
 "nbformat": 4,
 "nbformat_minor": 2
}
