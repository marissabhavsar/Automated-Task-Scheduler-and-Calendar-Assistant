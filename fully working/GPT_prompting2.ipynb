{
 "cells": [
  {
   "cell_type": "markdown",
   "metadata": {},
   "source": [
    "Extracting User's Google Calendar"
   ]
  },
  {
   "cell_type": "code",
   "execution_count": 153,
   "metadata": {},
   "outputs": [],
   "source": [
    "from google.oauth2.credentials import Credentials\n",
    "from google_auth_oauthlib.flow import InstalledAppFlow\n",
    "from google.auth.transport.requests import Request\n",
    "import googleapiclient.discovery\n",
    "import datetime\n"
   ]
  },
  {
   "cell_type": "code",
   "execution_count": 154,
   "metadata": {},
   "outputs": [
    {
     "name": "stdout",
     "output_type": "stream",
     "text": [
      "The autoreload extension is already loaded. To reload it, use:\n",
      "  %reload_ext autoreload\n"
     ]
    }
   ],
   "source": [
    "%load_ext autoreload\n",
    "%autoreload 2"
   ]
  },
  {
   "cell_type": "code",
   "execution_count": 155,
   "metadata": {},
   "outputs": [
    {
     "name": "stdout",
     "output_type": "stream",
     "text": [
      "To-Do list for the week:\n",
      "1. GPT prompt engineering - make GPT refine prompt\n",
      "2. Ask COE to mail degree certificate to Umich\n",
      "3. Jacket and bag zip repair\n",
      "4. Send emails to professors for research in summer\n",
      "\n",
      "Events for today:\n",
      "- SI 649 - DIS from 4:00 PM to 5:30 PM"
     ]
    }
   ],
   "source": [
    "import methods #file containing functions to interact with Google calendar like add event, create event, etc\n",
    "import json\n",
    "import re\n",
    "\n",
    "google_calendar = methods.get_google_calendar_service() #get the google calendar service\n",
    "tasks = methods.get_task_service() #get the task service\n",
    "tasks_list = methods.extractTasks(tasks)\n",
    "calendar = methods.extractCalendar(google_calendar) #extract the calendar from the service\n",
    "client = methods.set_up_ChatGPT(calendar, tasks_list) #set up the ChatGPT model\n",
    "now = methods.current_time()"
   ]
  },
  {
   "cell_type": "markdown",
   "metadata": {},
   "source": [
    "Logging Previous Conversation"
   ]
  },
  {
   "cell_type": "code",
   "execution_count": 156,
   "metadata": {},
   "outputs": [],
   "source": [
    "def log_activity(role, message):\n",
    "    filename = f\"activity_log.txt\"\n",
    "    with open(filename, \"a\") as file:\n",
    "        timestamp = datetime.datetime.now().isoformat()\n",
    "        file.write(f\"{timestamp} | {role}: {message}\\n\")"
   ]
  },
  {
   "cell_type": "code",
   "execution_count": 157,
   "metadata": {},
   "outputs": [],
   "source": [
    "def log_message(role, message):\n",
    "    filename = f\"conversation_log.txt\"\n",
    "    with open(filename, \"a\") as file:\n",
    "        timestamp = datetime.datetime.now().isoformat()\n",
    "        file.write(f\"{timestamp} | {role}: {message}\\n\")"
   ]
  },
  {
   "cell_type": "code",
   "execution_count": 158,
   "metadata": {},
   "outputs": [],
   "source": [
    "def get_past_conversation():\n",
    "    filename = f\"conversation_log.txt\"\n",
    "    try:\n",
    "        with open(filename, \"r\") as file:\n",
    "            return file.read()\n",
    "    except FileNotFoundError:\n",
    "        return \"\""
   ]
  },
  {
   "cell_type": "markdown",
   "metadata": {},
   "source": [
    "Get User's Query"
   ]
  },
  {
   "cell_type": "code",
   "execution_count": 159,
   "metadata": {},
   "outputs": [
    {
     "name": "stdout",
     "output_type": "stream",
     "text": [
      "2024-04-17T17:48:28.509201 | user: schedule me a jog for when I'm free\n",
      "2024-04-17T17:48:32.196634 | assistant: I see that you have some free time today after your SI 649 - DIS class at 5:30 PM. Would you like to schedule a jog for after that, around 6:00 PM?\n",
      "2024-04-17T17:48:38.217797 | user: yes\n",
      "2024-04-17T17:48:39.141651 | assistant: Great! I have scheduled a jog for you today at 6:00 PM. Your calendar is now updated. Is there anything else you'd like to schedule or modify?\n",
      "2024-04-17T17:48:42.896164 | user: no\n",
      "2024-04-17T17:48:43.450716 | assistant: Task completed. Let me know if you need any further assistance.\n",
      "2024-04-17T17:50:33.775964 | user: reschedule my jog to tomorrow \n",
      "2024-04-17T17:50:35.316351 | assistant: I see that you have some free time tomorrow after your EECS 545 project meeting at 2:30 PM. Would you like to schedule the jog for after that, around 3:30 PM?\n",
      "2024-04-17T17:50:47.979421 | user: yes\n",
      "2024-04-17T17:50:49.058129 | assistant: Great! I have rescheduled your jog for tomorrow at 3:30 PM. Your calendar has been updated. Is there anything else you'd like to schedule or modify?\n",
      "2024-04-17T17:50:53.090251 | user: no\n",
      "2024-04-17T17:50:53.676029 | assistant: Task completed. Let me know if you need any further assistance.\n",
      "2024-04-17T17:53:57.197472 | user: move my jog to day after \n",
      "2024-04-17T17:53:58.525485 | assistant: When would you like to reschedule your jog?\n",
      "2024-04-17T17:54:10.592569 | user: day after tomorrow\n",
      "2024-04-17T17:54:11.677047 | assistant: I have moved your jog to the day after tomorrow. Is there anything else you would like to do?\n",
      "2024-04-17T17:54:16.358156 | user: no\n",
      "2024-04-17T17:54:16.856644 | assistant: Great! Let me know if you need any further assistance.\n",
      "2024-04-17T19:02:05.407288 | user: \n",
      "2024-04-17T20:37:42.627330 | user: Schedule me a jog for when I'm free\n",
      "2024-04-17T20:37:43.865364 | assistant: I see that you have some free time today after your SI 649 - DIS class at 5:30 PM. Would you like to schedule a jog for after that, around 6:00 PM?\n",
      "2024-04-17T20:37:56.629225 | user: No, tomorrow\n",
      "2024-04-17T20:37:58.074810 | assistant: I see that you have some free time tomorrow after your EECS 545 project meeting at 2:30 PM. Would you like to schedule the jog for after that, around 3:30 PM?\n",
      "2024-04-17T20:38:05.503098 | user: \n",
      "2024-04-17T20:38:06.606037 | assistant: Great! I have rescheduled your jog for tomorrow at 3:30 PM. Your calendar has been updated. Is there anything else you'd like to schedule or modify?\n",
      "2024-04-17T20:38:20.081057 | user: no\n",
      "2024-04-17T20:38:20.986865 | assistant: Task completed. Let me know if you need any further assistance.\n",
      "2024-04-17T20:52:38.546534 | user: schedule me a jog for when I'm free\n",
      "2024-04-17T20:52:39.977754 | assistant: I see that you have some free time today after your SI 649 - DIS class at 5:30 PM. Would you like to schedule a jog for after that, around 6:00 PM?\n",
      "2024-04-17T20:52:45.751021 | user: No, tomorrow\n",
      "2024-04-17T20:52:46.872449 | assistant: I see that you have some free time tomorrow after your EECS 545 project meeting at 2:30 PM. Would you like to schedule the jog for after that, around 3:30 PM?\n",
      "2024-04-17T20:52:50.208854 | user: yes\n",
      "2024-04-17T20:52:51.364064 | assistant: Great! I have rescheduled your jog for tomorrow at 3:30 PM. Your calendar has been updated. Is there anything else you'd like to schedule or modify?\n",
      "2024-04-17T20:52:53.626429 | user: no\n",
      "2024-04-17T20:52:54.316991 | assistant: Task completed. Let me know if you need any further assistance.\n",
      "2024-04-17T20:53:35.619170 | user: Move my jog to day after tomorrow\n",
      "2024-04-17T20:53:36.476423 | assistant: When would you like to reschedule your jog for the day after tomorrow?\n",
      "2024-04-17T20:53:41.168720 | user: morning \n",
      "2024-04-17T20:53:42.300814 | assistant: I see that you have some free time on the day after tomorrow in the morning from 9:00 AM to 10:00 AM. Would you like to schedule the jog for that time slot?\n",
      "2024-04-17T20:53:45.405329 | user: yes\n",
      "2024-04-17T20:53:46.510035 | assistant: Great! Your jog has been rescheduled for the day after tomorrow in the morning from 9:00 AM to 10:00 AM. Your calendar has been updated. Is there anything else you'd like to schedule or modify?\n",
      "2024-04-17T20:53:49.446774 | user: no\n",
      "2024-04-17T20:53:50.418916 | assistant: Task completed. Let me know if you need any further assistance.\n",
      "2024-04-17T20:54:18.459245 | user: Schedule me a team meeting on Monday at 2\n",
      "2024-04-17T20:54:19.665702 | assistant: I see that you have the \"EECS 545 project meeting\" scheduled on Monday at 2:00 PM. Would you like me to schedule the team meeting before or after that?\n",
      "2024-04-17T20:54:27.839352 | user: \n",
      "2024-04-17T20:54:29.082391 | assistant: It seems like you didn't provide any specific details for the team meeting. Could you please provide more information about the team meeting so I can assist you better?\n",
      "2024-04-17T20:54:43.760996 | user: after that \n",
      "2024-04-17T20:54:45.834716 | assistant: Great! I have scheduled the team meeting for Monday at 3:00 PM, right after your \"EECS 545 project meeting.\" Your calendar has been updated. Is there anything else you'd like to schedule or modify?\n",
      "2024-04-17T20:55:47.285623 | user: actually don't schedule it right after my eecs meeting, give me a break \n",
      "2024-04-17T20:55:48.550019 | assistant: Understood! Let's find a suitable time slot for the team meeting. Is there a specific time you prefer after your EECS 545 project meeting for the team meeting to take place?\n",
      "2024-04-17T20:56:11.732726 | user: not my eecs meeting, my team meeting that you just scheduled at 3 pm \n",
      "2024-04-17T20:56:13.110165 | assistant: Got it! Let's find a better time slot for the team meeting. Would you prefer the team meeting to be scheduled later in the day or in the morning?\n",
      "2024-04-17T20:56:19.275900 | user: later in the day\n",
      "2024-04-17T20:56:20.845267 | assistant: I have rescheduled the team meeting for Monday at 4:30 PM, giving you a break after your \"EECS 545 project meeting.\" Your calendar has been updated. Is there anything else you'd like to schedule or modify?\n",
      "2024-04-17T20:56:29.212333 | user: no\n",
      "2024-04-17T20:56:30.210399 | assistant: Task completed. Let me know if you need any further assistance.\n",
      "2024-04-17T20:58:43.560307 | user: Update the location for my team meeting to conference room\n",
      "2024-04-17T20:58:45.025520 | assistant: When would you like to schedule the team meeting in the conference room?\n",
      "2024-04-17T20:59:17.327904 | user: no, the team meeting that's already scheduled, update its location\n",
      "2024-04-17T20:59:18.383017 | assistant: Got it! I will update the location for your team meeting that is already scheduled. Let me make that change for you.\n",
      "2024-04-17T21:01:20.148982 | user: When am I free tomorrow?\n",
      "2024-04-17T21:01:22.091463 | assistant: You have free time tomorrow after your EECS 545 project meeting from 3:00 PM onwards. Would you like to schedule any specific tasks or events during that time slot?\n",
      "2024-04-17T21:01:29.343423 | user: no\n",
      "2024-04-17T21:01:30.312324 | assistant: Got it! Let me know if you need any further assistance.\n",
      "2024-04-17T21:05:45.965871 | user: Clear my entire schedule tomorrow\n",
      "2024-04-17T21:05:48.518642 | assistant: I see that you have a busy day tomorrow with the \"EECS 545 project meeting\" from 2:00 PM to 3:00 PM, \"STATS 426\" from 2:30 PM to 4:00 PM, and \"SI 649 - DIS\" from 4:00 PM to 5:30 PM. Are you sure you want me to clear your entire schedule for tomorrow?\n",
      "2024-04-17T21:05:53.262611 | user: \n",
      "2024-04-17T21:05:54.014362 | assistant: Got it! Let me know if you need any further assistance.\n",
      "2024-04-17T21:07:00.701875 | user: schedule a date night every Friday evening \n",
      "2024-04-17T21:07:02.445184 | assistant: I see that you'd like to schedule a recurring event for a date night every Friday evening. Could you please provide me with the preferred start and end time for your date night so I can set it up for you? If you don't have a specific time in mind, I can suggest a suitable time based on your typical schedule.\n",
      "2024-04-17T21:07:22.848911 | user: suggest me one\n",
      "2024-04-17T21:07:24.213536 | assistant: Based on your typical schedule, a good time for a date night every Friday evening could be from 7:00 PM to 9:00 PM. Would that work for you, or would you like to adjust the timing?\n",
      "2024-04-17T21:07:35.747709 | user: yes that works\n",
      "2024-04-17T21:07:37.090092 | assistant: Great! I have scheduled a recurring event for a date night every Friday evening from 7:00 PM to 9:00 PM. Your calendar has been updated. Is there anything else you'd like to schedule or modify?\n",
      "2024-04-17T21:07:41.148912 | user: no\n",
      "2024-04-17T21:07:41.905813 | assistant: Task completed. Let me know if you need any further assistance.\n",
      "2024-04-17T21:11:07.882387 | user: schedule me a study session sometime this week \n",
      "2024-04-17T21:11:09.513361 | assistant: I see that you have some free time on Wednesday after your EECS 545 project meeting at 2:00 PM. Would you like to schedule a study session for after that, around 3:00 PM? Or would you prefer a different day or time for the study session this week? Let me know!\n",
      "2024-04-17T21:11:36.544932 | user: I was thinking over the weekend\n",
      "2024-04-17T21:11:37.783831 | assistant: I see that you have some free time on Saturday and Sunday. Would you like to schedule the study session on Saturday or Sunday during the afternoon? Let me know your preference so we can find a suitable time for your study session this weekend.\n",
      "2024-04-17T21:11:43.067894 | user: saturday\n",
      "2024-04-17T21:11:44.785487 | assistant: Great choice! I have scheduled a study session for you on Saturday during the afternoon. Your study session will be on Saturday, April 20th, from 2:00 PM to 3:00 PM. Your calendar has been updated. Is there anything else you'd like to schedule or modify?\n",
      "2024-04-17T21:11:53.309912 | user: no\n",
      "2024-04-17T21:11:54.365016 | assistant: Task completed. Let me know if you need any further assistance.\n",
      "2024-04-17T21:12:34.535272 | user: Am I free on Tuesday at 4 pm?\n",
      "2024-04-17T21:12:35.917572 | assistant: You have a block party scheduled on Tuesday from 5:00 PM to 7:00 PM. Would you like me to check for availability before or after the block party at 4 pm on Tuesday?\n",
      "2024-04-17T21:12:52.537570 | user: \n",
      "2024-04-17T21:12:53.991597 | assistant: I see that you're looking for your availability on Tuesday at 4 PM. You are currently free at 4 PM on Tuesday. Would you like to schedule anything for that time slot?\n",
      "2024-04-17T21:13:00.912482 | user: no\n",
      "2024-04-17T21:13:02.037278 | assistant: Got it! If you have any other questions or need assistance, feel free to let me know.\n",
      "2024-04-17T21:18:54.320013 | user: schedule all my tasks \n",
      "2024-04-17T21:18:58.272560 | assistant: Sure! Here's a proposed schedule for all your tasks:\n",
      "\n",
      "1. **Jacket and bag zip repair**:\n",
      "   - Proposed Time: April 22nd, 11:30 AM - 12:30 PM\n",
      "\n",
      "2. **Send emails to professors for research in summer**:\n",
      "   - Proposed Time: April 22nd, 1:00 PM - 2:00 PM\n",
      "\n",
      "3. **Ask COE to mail degree certificate to Umich**:\n",
      "   - Proposed Time: April 22nd, 9:00 AM - 10:00 AM\n",
      "\n",
      "4. **GPT prompt engineering - make GPT refine prompt**:\n",
      "   - Proposed Time: April 22nd, 10:30 AM - 11:30 AM\n",
      "\n",
      "If you agree with the proposed schedule, I'll add these tasks to your calendar. Let me know if you have any changes in mind!\n",
      "\n"
     ]
    }
   ],
   "source": [
    "past_conversation = get_past_conversation()\n",
    "# schedule tasks or calendar events\n",
    "\n",
    "context = f\"Here's my calendar and To-Do list for the week, store it for your reference. Calendar: {calendar}\\n To-Do Tasks: {tasks_list} Today's date and time is: {now}\\n\"\n",
    "instruction = \"\"\"\\nAs my virtual assistant, you are an expert with managing the calendar and scheduling tasks. \n",
    "First, you can create, move, check, list, update, delete, and handle recurring events based on the user's requests.\n",
    "When the user doesn't otherwise provide enough information, you can ask for more details, upto 4 times. Otherwise use your best judgement.\n",
    "When the user wants to create an event or move an event and if the user hasn't specified when they want it scheduled, then refer to the calendar and use your best judgement to schedule the event. Keep in mind when the user would normally eat or sleep. Assume default duration for any event as 1 hour.\n",
    "Check for any conflicts before scheduling an event.\n",
    "Always ask for confirmation before making any changes to the calendar, if the user doesn't agree, then generate another suitable time slot.\n",
    "When you are done, please let the user know that the task has been completed, and don't ask any more questions.\n",
    "Second, you can help me manage my to-do list by using your own judgement and scheduling the things on it onto my calendar.\n",
    "When the user wants to schedule their to-do tasks, reorder the tasks by priority using your judgement and output all the tasks with proposed timeslots for each task. Create a balanced schedule.\n",
    "Check if a task is already in the calendar. \n",
    "Take your time to think and plan the schedule before presenting it to the user.\n",
    "Also use your best guess to determine the length of the tasks. Assume that all the tasks have to be scheduled.\n",
    "If the user agrees, then add the events to the calendar and let the user know that the tasks have been scheduled.\n",
    "If the user doesn't agree, then regenerate the timeslots for the tasks and ask for confirmation again. \n",
    "When you are done, let the user know that you have completed your task. Unless you are done with the task, always end with a question mark.\n",
    "Please perform the necessary actions using the Google Calendar API.\\n\n",
    "Example input: 'schedule all my tasks'\n",
    "Example output: 'Sure! Here's a proposed schedule for all your tasks. Is there anything you'd like to change?\n",
    "- Task 1: Apr 2nd, 10:00 AM - 11:00 AM\n",
    "- Task 2: Apr 2nd, 11:00 AM - 12:00 PM\n",
    "- Task 3: Apr 2nd, 12:00 PM - 1:00 PM\\n\n",
    "Here's the previous conversation with the user, read it and understand user preferences if any, use it to make your best judgement on scheduling.\\n\"\"\"\n",
    "\n",
    "# initial setup\n",
    "\n",
    "initial_prompt = context + instruction + past_conversation"
   ]
  },
  {
   "cell_type": "code",
   "execution_count": 160,
   "metadata": {},
   "outputs": [],
   "source": [
    "user_request = input()\n",
    "combined_prompt = initial_prompt + \"\\nUser request: \" + user_request\n"
   ]
  },
  {
   "cell_type": "code",
   "execution_count": 161,
   "metadata": {},
   "outputs": [],
   "source": [
    "def chat_gpt(client, messages):\n",
    "    response = client.chat.completions.create(\n",
    "        model=\"gpt-3.5-turbo\",\n",
    "        messages=messages,\n",
    "        max_tokens=500\n",
    "    )\n",
    "    return response.choices[0].message.content\n",
    "\n",
    "messages = [\n",
    "    {\n",
    "        \"role\": \"system\",\n",
    "        \"content\": initial_prompt\n",
    "    },\n",
    "    {\n",
    "        \"role\": \"user\",\n",
    "        \"content\": user_request\n",
    "    }\n",
    "]\n",
    "log_activity(\"system\", context+instruction)\n",
    "log_activity(\"user\", user_request)\n",
    "\n",
    "log_message(\"user\", user_request)"
   ]
  },
  {
   "cell_type": "code",
   "execution_count": 162,
   "metadata": {},
   "outputs": [
    {
     "name": "stdout",
     "output_type": "stream",
     "text": [
      "Sure! Let's organize your to-do list based on priority and schedule them onto your calendar for this week. Here's a proposed schedule for your tasks:\n",
      "\n",
      "1. **Jacket and bag zip repair**:\n",
      "   - Proposed Time: April 22nd, 11:30 AM - 12:30 PM\n",
      "\n",
      "2. **Send emails to professors for research in summer**:\n",
      "   - Proposed Time: April 22nd, 1:00 PM - 2:00 PM\n",
      "\n",
      "3. **Ask COE to mail degree certificate to Umich**:\n",
      "   - Proposed Time: April 22nd, 9:00 AM - 10:00 AM\n",
      "\n",
      "4. **GPT prompt engineering - make GPT refine prompt**:\n",
      "   - Proposed Time: April 22nd, 10:30 AM - 11:30 AM\n",
      "\n",
      "Would you like me to add these tasks to your calendar as proposed?\n",
      "Sure! Let's organize your to-do list based on priority and schedule them onto your calendar for this week. Here's a proposed schedule for your tasks:\n",
      "\n",
      "1. **Jacket and bag zip repair**:\n",
      "   - Proposed Time: April 22nd, 11:30 AM - 12:30 PM\n",
      "\n",
      "2. **Send emails to professors for research in summer**:\n",
      "   - Proposed Time: April 22nd, 1:00 PM - 2:00 PM\n",
      "\n",
      "3. **Ask COE to mail degree certificate to Umich**:\n",
      "   - Proposed Time: April 22nd, 9:00 AM - 10:00 AM\n",
      "\n",
      "4. **GPT prompt engineering - make GPT refine prompt**:\n",
      "   - Proposed Time: April 22nd, 10:30 AM - 11:30 AM\n",
      "\n",
      "Would you like me to add these tasks to your calendar as proposed?\n",
      "Great! Your to-do list tasks have been scheduled on your calendar as proposed. If you have any more tasks or need further assistance, feel free to let me know! Task completed.\n"
     ]
    }
   ],
   "source": [
    "finalized_response = False\n",
    "\n",
    "#establishing feedback loop to chat with user\n",
    "while not finalized_response:\n",
    "    response = chat_gpt(client, messages)\n",
    "    log_activity(\"assistant\", response)\n",
    "    print(response)\n",
    "    log_message(\"assistant\", response)\n",
    "    messages.append({\n",
    "        \"role\": \"assistant\",\n",
    "        \"content\": response\n",
    "    })\n",
    "    if re.compile(r'\\?').search(response):\n",
    "        finalized_response = False\n",
    "        user_feedback = input()\n",
    "        messages.append({\n",
    "            \"role\": \"user\",\n",
    "            \"content\": user_feedback\n",
    "        })\n",
    "        log_message(\"user\", user_feedback)\n",
    "        log_activity(\"user\", user_feedback)\n",
    "    else:\n",
    "        finalized_response = True\n"
   ]
  },
  {
   "cell_type": "code",
   "execution_count": 163,
   "metadata": {},
   "outputs": [],
   "source": [
    "#get GPT to output the function calls I need to make to the calendar API\n",
    "instruction2 = \"\"\"\\nBased on the user's request you've just processed, please output the appropriate function call(s) to interact with the Google Calendar API. Format your response as a single string containing one or more function calls separated by semicolons. Do not include explanations or additional text.\n",
    "All dates should be in 'YYYY-MM-DD' format, and times should be in 24-hour format 'HH:MM'. Additionally, assume default duration as 1 hour for any event. Use createEvent for scheduling tasks on the to-do list.\n",
    "Available function templates to include in the response string:\n",
    "- createEvent(description, date, time, duration)\n",
    "- moveEvent(event_id, new_date, new_time)\n",
    "- updateEvent(event_id, new_color, new_duration, new_location)\n",
    "- deleteEvent(event_id)\n",
    "- createRecurringEvent(description, start_date, time, duration, frequency, until_date). Frequency can have the value of DAILY, WEEKLY, MONTHLY, YEARLY.\n",
    "- deleteRecurringEvent(recurring_event_id) \n",
    "- updateRecurringEvent(recurring_event_id, new_color, new_duration, new_location, new_frequency, new_until)\n",
    "For all functions other than createEvent and createRecurringEvent, make sure to fill in the id of the event you are referring to from the calendar provided.\n",
    "Make sure to fill in the required information, such as event names, dates, times, etc., based on the user's request context. Replace placeholders like 'today' or 'tomorrow' with specific dates in the format YYYY-MM-DD. If more details are needed from the user for a function call, use your best judgment to complete the function with the information available.\n",
    "Example input1: 'Schedule a team meeting for Friday afternoon at 3pm'\n",
    "Example output1: 'createEvent(\"Team Meeting\", \"YYYY-MM-DD\", \"15:00\", 1:00)'\n",
    "Example input2: 'Update my team meeting to be two hours'\n",
    "Example output2: 'updateEvent(\"event_id\", '', 2:00, '')\n",
    "Example input3: 'Create a recurring meeting every Wednesday at 2pm until the end of June'\n",
    "Example output3: 'createRecurringEvent(\"Meeting\", \"YYYY-MM-DD\", \"02:00\", \"1:00\", \"WEEKLY\", \"YYYY-MM-DD\")\n",
    "Example input4: 'Update my recurring meeting every Wednesday at 2pm to be every month until the end of August'\n",
    "Example output4: 'updateRecurringEvent(\"RecurringEventId\", \"\", \"02:00\", \"1:00\", \"\", \"MONTHLY\", \"YYYY-MM-DD\")\n",
    "Example input5: 'Move my team meeting to tomorrow at 12pm'\n",
    "Example output5: 'moveEvent(\"event_id\", 'YYYY-MM-DD', '12:00')'\n",
    "Example input6: 'Clear my afternoon'\n",
    "Example output7: 'deleteEvent(\"event_id\");deleteEvent(\"event_id\")'\n",
    "Example input8: 'Schedule all my tasks'\n",
    "Example output8: 'createEvent(\"Task 1\", \"YYYY-MM-DD\", \"10:00\", 1:00);createEvent(\"Task 2\", \"YYYY-MM-DD\", \"11:00\", 1:00);createEvent(\"Task 3\", \"YYYY-MM-DD\", \"12:00\", 1:00)\\n\n",
    "\n",
    "Now, please generate the necessary function call(s) based on the user's request.\"\"\""
   ]
  },
  {
   "cell_type": "code",
   "execution_count": 164,
   "metadata": {},
   "outputs": [
    {
     "name": "stdout",
     "output_type": "stream",
     "text": [
      "createEvent(\"Jacket and bag zip repair\", \"2024-04-22\", \"11:30\", 1:00);createEvent(\"Send emails to professors for research in summer\", \"2024-04-22\", \"13:00\", 1:00);createEvent(\"Ask COE to mail degree certificate to Umich\", \"2024-04-22\", \"09:00\", 1:00);createEvent(\"GPT prompt engineering - make GPT refine prompt\", \"2024-04-22\", \"10:30\", 1:00)\n"
     ]
    }
   ],
   "source": [
    "messages.append({\n",
    "    \"role\": \"system\",\n",
    "    \"content\": instruction2\n",
    "})\n",
    "log_activity(\"system\", instruction2)\n",
    "function_call = chat_gpt(client, messages)\n",
    "log_activity(\"assistant\", function_call)\n",
    "print(function_call)\n",
    "#Example of function call: createEvent(\"Meeting with John\", \"2022-12-31\", \"10:00 AM\", 2)"
   ]
  },
  {
   "cell_type": "code",
   "execution_count": 165,
   "metadata": {},
   "outputs": [
    {
     "name": "stdout",
     "output_type": "stream",
     "text": [
      "['createEvent(\"Jacket and bag zip repair\", \"2024-04-22\", \"11:30\", 1:00)', 'createEvent(\"Send emails to professors for research in summer\", \"2024-04-22\", \"13:00\", 1:00)', 'createEvent(\"Ask COE to mail degree certificate to Umich\", \"2024-04-22\", \"09:00\", 1:00)', 'createEvent(\"GPT prompt engineering - make GPT refine prompt\", \"2024-04-22\", \"10:30\", 1:00)']\n",
      "Create event called\n",
      "The data and time is  2024-04-22 / 11:30\n",
      "UTC start time:  2024-04-22 15:30:00+00:00 UTC end time:  2024-04-22 16:30:00+00:00\n",
      "Event created: Jacket and bag zip repair on 2024-04-22 at 11:30 for duration of 1:00 hours.\n",
      "Create event called\n",
      "The data and time is  2024-04-22 / 13:00\n",
      "UTC start time:  2024-04-22 17:00:00+00:00 UTC end time:  2024-04-22 18:00:00+00:00\n",
      "Event created: Send emails to professors for research in summer on 2024-04-22 at 13:00 for duration of 1:00 hours.\n",
      "Create event called\n",
      "The data and time is  2024-04-22 / 09:00\n",
      "UTC start time:  2024-04-22 13:00:00+00:00 UTC end time:  2024-04-22 14:00:00+00:00\n",
      "Event created: Ask COE to mail degree certificate to Umich on 2024-04-22 at 09:00 for duration of 1:00 hours.\n",
      "Create event called\n",
      "The data and time is  2024-04-22 / 10:30\n",
      "UTC start time:  2024-04-22 14:30:00+00:00 UTC end time:  2024-04-22 15:30:00+00:00\n",
      "Event created: GPT prompt engineering - make GPT refine prompt on 2024-04-22 at 10:30 for duration of 1:00 hours.\n"
     ]
    }
   ],
   "source": [
    "if '(' in function_call:\n",
    "    function_calls = [line.strip() for line in function_call.split(';')]\n",
    "    print(function_calls)\n",
    "\n",
    "    # Define a dictionary mapping function names to their corresponding Python functions\n",
    "    functions = {\n",
    "        \"createEvent\": methods.createEvent,\n",
    "        \"moveEvent\": methods.moveEvent,\n",
    "        \"updateEvent\": methods.updateEvent,\n",
    "        \"deleteEvent\": methods.deleteEvent,\n",
    "        \"createRecurringEvent\": methods.createRecurringEvent,\n",
    "        \"updateRecurringEvent\": methods.updateRecurringEvent,\n",
    "        \"deleteRecurringEvent\": methods.deleteRecurringEvent,\n",
    "    }\n",
    "\n",
    "    # Iterate through the function calls\n",
    "    for call in function_calls:\n",
    "        # Split the string to extract function name and arguments\n",
    "        if call != '':\n",
    "            parts = call.split('(')\n",
    "            function_name = parts[0]\n",
    "            arguments = parts[1].rstrip(')').split(', ')\n",
    "\n",
    "        # Call the corresponding function with the provided arguments\n",
    "        if function_name in functions:\n",
    "            functions[function_name](*arguments)\n",
    "        else:\n",
    "            print(f\"Function '{function_name}' not found.\")"
   ]
  }
 ],
 "metadata": {
  "kernelspec": {
   "display_name": "venv",
   "language": "python",
   "name": "python3"
  },
  "language_info": {
   "codemirror_mode": {
    "name": "ipython",
    "version": 3
   },
   "file_extension": ".py",
   "mimetype": "text/x-python",
   "name": "python",
   "nbconvert_exporter": "python",
   "pygments_lexer": "ipython3",
   "version": "3.11.8"
  }
 },
 "nbformat": 4,
 "nbformat_minor": 2
}
