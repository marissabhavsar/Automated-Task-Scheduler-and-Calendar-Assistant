{
 "cells": [
  {
   "cell_type": "markdown",
   "metadata": {},
   "source": [
    "Extracting User's Google Calendar"
   ]
  },
  {
   "cell_type": "code",
   "execution_count": 1,
   "metadata": {},
   "outputs": [],
   "source": [
    "from google.oauth2.credentials import Credentials\n",
    "from google_auth_oauthlib.flow import InstalledAppFlow\n",
    "from google.auth.transport.requests import Request\n",
    "import googleapiclient.discovery\n",
    "import datetime\n"
   ]
  },
  {
   "cell_type": "code",
   "execution_count": 2,
   "metadata": {},
   "outputs": [],
   "source": [
    "%load_ext autoreload\n",
    "%autoreload 2"
   ]
  },
  {
   "cell_type": "code",
   "execution_count": 3,
   "metadata": {},
   "outputs": [],
   "source": [
    "import re\n",
    "import ollama\n",
    "import pandas as pd\n",
    "from ollama import Client\n",
    "from ollama import chat\n",
    "import methods\n",
    "import formats\n",
    "import json\n",
    "\n",
    "google_calendar = methods.get_google_calendar_service() #get the google calendar service\n",
    "calendar = methods.extractCalendar(google_calendar) #extract the calendar from the service\n",
    "now = methods.current_time()"
   ]
  },
  {
   "cell_type": "markdown",
   "metadata": {},
   "source": [
    "Logging Previous Conversation"
   ]
  },
  {
   "cell_type": "code",
   "execution_count": 4,
   "metadata": {},
   "outputs": [],
   "source": [
    "def log_message(role, message):\n",
    "    filename = f\"conversation_log.txt\"\n",
    "    with open(filename, \"a\") as file:\n",
    "        timestamp = datetime.datetime.now().isoformat()\n",
    "        file.write(f\"{timestamp} | {role}: {message}\\n\")"
   ]
  },
  {
   "cell_type": "code",
   "execution_count": 14,
   "metadata": {},
   "outputs": [],
   "source": [
    "def get_past_conversation():\n",
    "    filename = f\"conversation_log.txt\"\n",
    "    try:\n",
    "        with open(filename, \"r\") as file:\n",
    "            return file.read()\n",
    "    except FileNotFoundError:\n",
    "        return \"\""
   ]
  },
  {
   "cell_type": "markdown",
   "metadata": {},
   "source": [
    "Get User's Query"
   ]
  },
  {
   "cell_type": "code",
   "execution_count": 5,
   "metadata": {},
   "outputs": [],
   "source": [
    "#past_conversation = get_past_conversation()\n",
    "context = f\"Here's my calendar for the week, store it for your reference. Today's date and time is: {now}\\n{calendar}\"\n",
    "instruction = \"\"\"\\nAs my virtual assistant, you are an expert with managing the calendar.\n",
    "You can create, move, check, list, update, delete, and handle recurring events based on the user's requests.\n",
    "When the user doesn't provide enough information, you can ask for more details, up to 3 times. Otherwise use your best judgement.\n",
    "When the user wants to create an event or move an event and if the user hasn't specified when they want it scheduled, then refer to the calendar and use your best judgement to schedule the event. Keep in mind when the user would normally eat or sleep. Assume default duration for any event as 1 hour.\n",
    "Check for any conflicts before scheduling an event.\n",
    "Always ask for confirmation before making any changes to the calendar, if the user doesn't agree, then generate another suitable time slot.\n",
    "When you are done, please let the user know that the task has been completed, and don't ask any more questions. If you aren't done, end with a question mark.\n",
    "Please perform the necessary actions using the Google Calendar API.\\n\"\"\"\n",
    "\n",
    "# initial setup\n",
    "initial_prompt = context + instruction\n",
    "# past conversation confuses llama2"
   ]
  },
  {
   "cell_type": "code",
   "execution_count": 6,
   "metadata": {},
   "outputs": [],
   "source": [
    "user_request = input()\n",
    "combined_prompt = initial_prompt + \"\\nUser request: \" + user_request\n"
   ]
  },
  {
   "cell_type": "code",
   "execution_count": 7,
   "metadata": {},
   "outputs": [],
   "source": [
    "def llama2(client, messages):\n",
    "    response = ollama.chat(model='llama2', messages=messages)\n",
    "    print(response)\n",
    "    return response['message']['content']\n",
    "\n",
    "messages = [\n",
    "    {\n",
    "        \"role\": \"system\",\n",
    "        \"content\": initial_prompt\n",
    "    },\n",
    "    {\n",
    "        \"role\": \"user\",\n",
    "        \"content\": user_request\n",
    "    }\n",
    "]\n",
    "log_message(\"user\", user_request)"
   ]
  },
  {
   "cell_type": "code",
   "execution_count": 37,
   "metadata": {},
   "outputs": [
    {
     "data": {
      "text/plain": [
       "{'status': 'success'}"
      ]
     },
     "execution_count": 37,
     "metadata": {},
     "output_type": "execute_result"
    }
   ],
   "source": [
    "ollama.pull(\"llama2\")"
   ]
  },
  {
   "cell_type": "code",
   "execution_count": 8,
   "metadata": {},
   "outputs": [
    {
     "name": "stdout",
     "output_type": "stream",
     "text": [
      "{'model': 'llama2', 'created_at': '2024-04-03T21:15:59.71137Z', 'message': {'role': 'assistant', 'content': \"Great, I'm happy to help! Based on your calendar information, it looks like there are no conflicts for a jog tomorrow morning. How about we schedule the jog for 7:00 AM tomorrow? Would that work for you?\"}, 'done': True, 'total_duration': 99401285479, 'load_duration': 3229377756, 'prompt_eval_count': 960, 'prompt_eval_duration': 78630384000, 'eval_count': 53, 'eval_duration': 17535850000}\n",
      "Great, I'm happy to help! Based on your calendar information, it looks like there are no conflicts for a jog tomorrow morning. How about we schedule the jog for 7:00 AM tomorrow? Would that work for you?\n",
      "{'model': 'llama2', 'created_at': '2024-04-03T21:32:38.814676Z', 'message': {'role': 'assistant', 'content': 'Great! I\\'ve created an event named \"Jog\" with a start time of 7:00 AM tomorrow (April 4th) and an end time of 8:00 AM. The event id is \"545 Project Meeting\". Is that correct?\\n\\nPlease let me know if you want to make any changes or if you\\'re ready for me to move on to the next task.'}, 'done': True, 'total_duration': 115121047947, 'load_duration': 4500053209, 'prompt_eval_count': 1032, 'prompt_eval_duration': 81317176000, 'eval_count': 92, 'eval_duration': 29300649000}\n",
      "Great! I've created an event named \"Jog\" with a start time of 7:00 AM tomorrow (April 4th) and an end time of 8:00 AM. The event id is \"545 Project Meeting\". Is that correct?\n",
      "\n",
      "Please let me know if you want to make any changes or if you're ready for me to move on to the next task.\n",
      "{'model': 'llama2', 'created_at': '2024-04-03T21:33:44.830632Z', 'message': {'role': 'assistant', 'content': 'My apologies! Let me create the event for you.\\n\\nI have created an event named \"Jog\" with a start time of 7:00 AM tomorrow (April 4th) and an end time of 8:00 AM. The event ID is \"6d851ccms5kfjmfgn9rj3cg515\". Is that correct?\\n\\nPlease let me know if you want to make any changes or if you\\'re ready for me to move on to the next task'}, 'done': True, 'total_duration': 26407876225, 'load_duration': 5595939, 'prompt_eval_count': 25, 'prompt_eval_duration': 3572928000, 'eval_count': 119, 'eval_duration': 22823044000}\n",
      "My apologies! Let me create the event for you.\n",
      "\n",
      "I have created an event named \"Jog\" with a start time of 7:00 AM tomorrow (April 4th) and an end time of 8:00 AM. The event ID is \"6d851ccms5kfjmfgn9rj3cg515\". Is that correct?\n",
      "\n",
      "Please let me know if you want to make any changes or if you're ready for me to move on to the next task\n",
      "{'model': 'llama2', 'created_at': '2024-04-03T21:34:28.574322Z', 'message': {'role': 'assistant', 'content': 'Great! I\\'ve created the event for you. Here is the updated calendar information:\\n\\nToday\\'s date and time is: 2024-04-03T17:14:06.199272Z\\n\\nHere are your upcoming events:\\n\\n* \"Jog\" on April 4th at 7:00 AM - 8:00 AM (event ID: \"6d851ccms5kfjmfgn9rj3cg515\")\\n\\nPlease let me know if you want to make any changes or if you\\'re ready for me to move on to the next task.\\n\\nDo you have any other tasks you would like me to assist you with?'}, 'done': True, 'total_duration': 35983502351, 'load_duration': 3639211, 'prompt_eval_count': 20, 'prompt_eval_duration': 2371388000, 'eval_count': 169, 'eval_duration': 33603308000}\n",
      "Great! I've created the event for you. Here is the updated calendar information:\n",
      "\n",
      "Today's date and time is: 2024-04-03T17:14:06.199272Z\n",
      "\n",
      "Here are your upcoming events:\n",
      "\n",
      "* \"Jog\" on April 4th at 7:00 AM - 8:00 AM (event ID: \"6d851ccms5kfjmfgn9rj3cg515\")\n",
      "\n",
      "Please let me know if you want to make any changes or if you're ready for me to move on to the next task.\n",
      "\n",
      "Do you have any other tasks you would like me to assist you with?\n",
      "{'model': 'llama2', 'created_at': '2024-04-03T21:35:17.779292Z', 'message': {'role': 'assistant', 'content': \"Great, thank you for letting me know! If you need any assistance in the future, don't hesitate to reach out. Have a great day!\"}, 'done': True, 'total_duration': 9120073198, 'load_duration': 5496230, 'prompt_eval_count': 20, 'prompt_eval_duration': 2883140000, 'eval_count': 34, 'eval_duration': 6222449000}\n",
      "Great, thank you for letting me know! If you need any assistance in the future, don't hesitate to reach out. Have a great day!\n"
     ]
    }
   ],
   "source": [
    "finalized_response = False\n",
    "client = Client(host='http://localhost:11434')\n",
    "#establishing feedback loop to chat with user\n",
    "while not finalized_response:\n",
    "    response = llama2(client, messages)\n",
    "    print(response)\n",
    "    log_message(\"assistant\", response)\n",
    "    messages.append({\n",
    "        \"role\": \"assistant\",\n",
    "        \"content\": response\n",
    "    })\n",
    "    if re.compile(r'\\?').search(response):\n",
    "        finalized_response = False\n",
    "        user_feedback = input()\n",
    "        messages.append({\n",
    "            \"role\": \"user\",\n",
    "            \"content\": user_feedback\n",
    "        })\n",
    "        log_message(\"user\", user_feedback)\n",
    "    else:\n",
    "        finalized_response = True\n"
   ]
  },
  {
   "cell_type": "code",
   "execution_count": 9,
   "metadata": {},
   "outputs": [],
   "source": [
    "#get Llama2 to output the function calls I need to make to the calendar API\n",
    "instruction2 = \"\"\"\\nBased on the user's request you've just processed, please output the appropriate function call(s) to interact with the Google Calendar API. Format your response as a single string containing one or more function calls separated by semicolons. Do not include explanations or additional text.\n",
    "All dates should be in 'YYYY-MM-DD' format, and times should be in 24-hour format 'HH:MM'. Additionally, for functions requiring a datetime range (such as 'checkSchedule' and 'ListEvents'), the datetime should be in ISO 8601 format 'YYYY-MM-DDTHH:MM:SSZ'.\n",
    "Available function templates to include in the response string:\n",
    "- createEvent(description, date:default=today, time, duration:default=1)\n",
    "- moveEvent(event_id, new_date, new_time)\n",
    "- updateEvent(event_id, new_description, new_duration, new_location)\n",
    "- deleteEvent(event_id)\n",
    "- createRecurringEvent(description, date, time, duration, frequency, until)\n",
    "- deleteRecurringEvent(event_id)\n",
    "- updateRecurringEvent(event_id, new_description, new_duration, new_location)\n",
    "\n",
    "Make sure to fill in the required information, such as event names, IDs, dates, times, etc., based on the user's request context. Replace placeholders like 'today' or 'tomorrow' with specific dates in the format YYYY-MM-DD. If more details are needed from the user for a function call, use your best judgment to complete the function with the information available.\n",
    "\n",
    "The following are examples:\n",
    "Example input: 'Schedule a team meeting for Friday afternoon at 3pm'\n",
    "Example output: 'createEvent(\"Team Meeting\", \"2024-03-12\", \"15:00\", 1)'\n",
    "\n",
    "Now, based on the user's request you just processed and the event that you have now modified / created, please generate the necessary function call and ONLY output the function with filled in information based on the user's information you just processed. Based on my request, format the action that you provided accurately based on the above descriptions. Make sure each parameter is formatted correctly.\"\"\""
   ]
  },
  {
   "cell_type": "code",
   "execution_count": 10,
   "metadata": {},
   "outputs": [
    {
     "name": "stdout",
     "output_type": "stream",
     "text": [
      "messages:  [{'role': 'system', 'content': \"Here's my calendar for the week, store it for your reference. Today's date and time is: 2024-04-03T17:14:06.199272Z\\n{'name': '545 Project Meeting', 'datetime_start': '2024-04-04T14:00:00-04:00', 'datetime_end': '2024-04-04T14:30:00-04:00', 'id': '4k8s6unih4r88130q6cccmv2tq_20240404T180000Z'}\\n{'name': 'roomie brunch', 'datetime_start': '2024-04-05T10:30:00-04:00', 'datetime_end': '2024-04-05T12:00:00-04:00', 'id': '6d851ccms5kfjmfgn9rj3cg515'}\\n{'name': 'Flight to Atlanta', 'datetime_start': '2024-04-05T14:30:00-04:00', 'datetime_end': '2024-04-05T15:30:00-04:00', 'id': '0pcp0a45mek9n4fi0i71g94bm0'}\\n{'name': 'Flight back to Detroit ', 'datetime_start': '2024-04-07T16:00:00-04:00', 'datetime_end': '2024-04-07T17:00:00-04:00', 'id': '3ekshci1a26b43t9hj0vpm6k67'}\\n{'name': '545 Project Meeting', 'datetime_start': '2024-04-08T16:00:00-04:00', 'datetime_end': '2024-04-08T18:00:00-04:00', 'id': '33pmlrcvmobnp4oc9t4d64ib2o_20240408T200000Z'}\\n{'name': '598 paper pres', 'datetime_start': '2024-04-09T14:00:00-04:00', 'datetime_end': '2024-04-09T15:00:00-04:00', 'id': '41c16hmreaqmj6ebj1u19ecr6i'}\\n\\nAs my virtual assistant, you are an expert with managing the calendar.\\nYou can create, move, check, list, update, delete, and handle recurring events based on the user's requests.\\nWhen the user doesn't provide enough information, you can ask for more details, up to 3 times. Otherwise use your best judgement.\\nWhen the user wants to create an event or move an event and if the user hasn't specified when they want it scheduled, then refer to the calendar and use your best judgement to schedule the event. Keep in mind when the user would normally eat or sleep. Assume default duration for any event as 1 hour.\\nCheck for any conflicts before scheduling an event.\\nAlways ask for confirmation before making any changes to the calendar, if the user doesn't agree, then generate another suitable time slot.\\nWhen you are done, please let the user know that the task has been completed, and don't ask any more questions. If you aren't done, end with a question mark.\\nPlease perform the necessary actions using the Google Calendar API.\\n\"}, {'role': 'user', 'content': 'schedule me a jog tomorrow morning'}, {'role': 'assistant', 'content': \"Great, I'm happy to help! Based on your calendar information, it looks like there are no conflicts for a jog tomorrow morning. How about we schedule the jog for 7:00 AM tomorrow? Would that work for you?\"}, {'role': 'user', 'content': 'yes'}, {'role': 'assistant', 'content': 'Great! I\\'ve created an event named \"Jog\" with a start time of 7:00 AM tomorrow (April 4th) and an end time of 8:00 AM. The event id is \"545 Project Meeting\". Is that correct?\\n\\nPlease let me know if you want to make any changes or if you\\'re ready for me to move on to the next task.'}, {'role': 'user', 'content': 'there is no event ID '}, {'role': 'assistant', 'content': 'My apologies! Let me create the event for you.\\n\\nI have created an event named \"Jog\" with a start time of 7:00 AM tomorrow (April 4th) and an end time of 8:00 AM. The event ID is \"6d851ccms5kfjmfgn9rj3cg515\". Is that correct?\\n\\nPlease let me know if you want to make any changes or if you\\'re ready for me to move on to the next task'}, {'role': 'user', 'content': 'yes'}, {'role': 'assistant', 'content': 'Great! I\\'ve created the event for you. Here is the updated calendar information:\\n\\nToday\\'s date and time is: 2024-04-03T17:14:06.199272Z\\n\\nHere are your upcoming events:\\n\\n* \"Jog\" on April 4th at 7:00 AM - 8:00 AM (event ID: \"6d851ccms5kfjmfgn9rj3cg515\")\\n\\nPlease let me know if you want to make any changes or if you\\'re ready for me to move on to the next task.\\n\\nDo you have any other tasks you would like me to assist you with?'}, {'role': 'user', 'content': 'no'}, {'role': 'assistant', 'content': \"Great, thank you for letting me know! If you need any assistance in the future, don't hesitate to reach out. Have a great day!\"}, {'role': 'system', 'content': '\\nBased on the user\\'s request you\\'ve just processed, please output the appropriate function call(s) to interact with the Google Calendar API. Format your response as a single string containing one or more function calls separated by semicolons. Do not include explanations or additional text.\\nAll dates should be in \\'YYYY-MM-DD\\' format, and times should be in 24-hour format \\'HH:MM\\'. Additionally, for functions requiring a datetime range (such as \\'checkSchedule\\' and \\'ListEvents\\'), the datetime should be in ISO 8601 format \\'YYYY-MM-DDTHH:MM:SSZ\\'.\\nAvailable function templates to include in the response string:\\n- createEvent(description, date:default=today, time, duration:default=1)\\n- moveEvent(event_id, new_date, new_time)\\n- updateEvent(event_id, new_description, new_duration, new_location)\\n- deleteEvent(event_id)\\n- createRecurringEvent(description, date, time, duration, frequency, until)\\n- deleteRecurringEvent(event_id)\\n- updateRecurringEvent(event_id, new_description, new_duration, new_location)\\n\\nMake sure to fill in the required information, such as event names, IDs, dates, times, etc., based on the user\\'s request context. Replace placeholders like \\'today\\' or \\'tomorrow\\' with specific dates in the format YYYY-MM-DD. If more details are needed from the user for a function call, use your best judgment to complete the function with the information available.\\n\\nThe following are examples:\\nExample input: \\'Schedule a team meeting for Friday afternoon at 3pm\\'\\nExample output: \\'createEvent(\"Team Meeting\", \"2024-03-12\", \"15:00\", 1)\\'\\n\\nNow, based on the user\\'s request you just processed and the event that you have now modified / created, please generate the necessary function call and ONLY output the function with filled in information based on the user\\'s information you just processed. Based on my request, format the action that you provided accurately based on the above descriptions. Make sure each parameter is formatted correctly.'}]\n",
      "{'model': 'llama2', 'created_at': '2024-04-03T21:36:10.294698Z', 'message': {'role': 'assistant', 'content': 'createEvent(\"Jog\", \"2024-04-04\", \"7:00\", 1);'}, 'done': True, 'total_duration': 44894424617, 'load_duration': 4600805, 'prompt_eval_count': 518, 'prompt_eval_duration': 40127966000, 'eval_count': 28, 'eval_duration': 4753095000}\n",
      "createEvent(\"Jog\", \"2024-04-04\", \"7:00\", 1);\n"
     ]
    }
   ],
   "source": [
    "messages.append({\n",
    "    \"role\": \"system\",\n",
    "    \"content\": instruction2\n",
    "})\n",
    "print('messages: ', messages)\n",
    "function_call = llama2(client, messages)\n",
    "print(function_call)\n",
    "#Example of function call: createEvent(\"Meeting with John\", \"2022-12-31\", \"10:00 AM\", 2)"
   ]
  },
  {
   "cell_type": "code",
   "execution_count": 20,
   "metadata": {},
   "outputs": [
    {
     "name": "stdout",
     "output_type": "stream",
     "text": [
      "['createEvent(\"Jog\", \"2024-04-04\", \"7:00\", 1)', '']\n",
      "Create event called\n",
      "The data and time is  2024-04-04 / 7:00\n",
      "UTC start time:  2024-04-04 11:00:00+00:00 UTC end time:  2024-04-04 12:00:00+00:00\n",
      "Event created: Jog on 2024-04-04 at 7:00 for duration of 1 hours.\n"
     ]
    }
   ],
   "source": [
    "function_calls = [line.strip() for line in function_call.split(';')]\n",
    "print(function_calls)\n",
    "\n",
    "# Define a dictionary mapping function names to their corresponding Python functions\n",
    "functions = {\n",
    "    \"createEvent\": methods.createEvent,\n",
    "    \"moveEvent\": methods.moveEvent,\n",
    "    \"checkSchedule\": methods.checkSchedule,\n",
    "}\n",
    "\n",
    "#TODO: works for createEvent, gotta change other functions in methods file to accept arguments as strings and convert them to appropriate data types\n",
    "# Iterate through the function calls\n",
    "for call in function_calls:\n",
    "    # Split the string to extract function name and arguments\n",
    "    if call == '': continue\n",
    "    parts = call.split('(')\n",
    "    function_name = parts[0]\n",
    "\n",
    "    arguments = parts[1].rstrip(')').split(', ')\n",
    "    \n",
    "\n",
    "    # Call the corresponding function with the provided arguments\n",
    "    if function_name in functions:\n",
    "        functions[function_name](*arguments)\n",
    "    else:\n",
    "        print(f\"Function '{function_name}' not found.\")"
   ]
  }
 ],
 "metadata": {
  "kernelspec": {
   "display_name": "venv",
   "language": "python",
   "name": "python3"
  },
  "language_info": {
   "codemirror_mode": {
    "name": "ipython",
    "version": 3
   },
   "file_extension": ".py",
   "mimetype": "text/x-python",
   "name": "python",
   "nbconvert_exporter": "python",
   "pygments_lexer": "ipython3",
   "version": "3.10.14"
  }
 },
 "nbformat": 4,
 "nbformat_minor": 2
}
