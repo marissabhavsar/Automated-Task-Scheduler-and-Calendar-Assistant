{
 "cells": [
  {
   "cell_type": "code",
   "execution_count": 1,
   "id": "c0df8854",
   "metadata": {
    "scrolled": true
   },
   "outputs": [
    {
     "name": "stdout",
     "output_type": "stream",
     "text": [
      "Requirement already satisfied: faiss-cpu==1.7.4 in /opt/anaconda3/lib/python3.11/site-packages (1.7.4)\r\n",
      "Requirement already satisfied: mistralai==0.0.12 in /opt/anaconda3/lib/python3.11/site-packages (0.0.12)\r\n",
      "Requirement already satisfied: httpx<0.26.0,>=0.25.2 in /opt/anaconda3/lib/python3.11/site-packages (from mistralai==0.0.12) (0.25.2)\r\n",
      "Requirement already satisfied: orjson<4.0.0,>=3.9.10 in /opt/anaconda3/lib/python3.11/site-packages (from mistralai==0.0.12) (3.10.0)\r\n",
      "Requirement already satisfied: pydantic<3.0.0,>=2.5.2 in /opt/anaconda3/lib/python3.11/site-packages (from mistralai==0.0.12) (2.6.4)\r\n",
      "Requirement already satisfied: anyio in /opt/anaconda3/lib/python3.11/site-packages (from httpx<0.26.0,>=0.25.2->mistralai==0.0.12) (4.2.0)\r\n",
      "Requirement already satisfied: certifi in /opt/anaconda3/lib/python3.11/site-packages (from httpx<0.26.0,>=0.25.2->mistralai==0.0.12) (2024.2.2)\r\n",
      "Requirement already satisfied: httpcore==1.* in /opt/anaconda3/lib/python3.11/site-packages (from httpx<0.26.0,>=0.25.2->mistralai==0.0.12) (1.0.5)\r\n",
      "Requirement already satisfied: idna in /opt/anaconda3/lib/python3.11/site-packages (from httpx<0.26.0,>=0.25.2->mistralai==0.0.12) (3.4)\r\n",
      "Requirement already satisfied: sniffio in /opt/anaconda3/lib/python3.11/site-packages (from httpx<0.26.0,>=0.25.2->mistralai==0.0.12) (1.3.0)\r\n",
      "Requirement already satisfied: h11<0.15,>=0.13 in /opt/anaconda3/lib/python3.11/site-packages (from httpcore==1.*->httpx<0.26.0,>=0.25.2->mistralai==0.0.12) (0.14.0)\r\n",
      "Requirement already satisfied: annotated-types>=0.4.0 in /opt/anaconda3/lib/python3.11/site-packages (from pydantic<3.0.0,>=2.5.2->mistralai==0.0.12) (0.6.0)\r\n",
      "Requirement already satisfied: pydantic-core==2.16.3 in /opt/anaconda3/lib/python3.11/site-packages (from pydantic<3.0.0,>=2.5.2->mistralai==0.0.12) (2.16.3)\r\n",
      "Requirement already satisfied: typing-extensions>=4.6.1 in /opt/anaconda3/lib/python3.11/site-packages (from pydantic<3.0.0,>=2.5.2->mistralai==0.0.12) (4.9.0)\r\n"
     ]
    }
   ],
   "source": [
    "! pip install faiss-cpu==1.7.4 mistralai==0.0.12"
   ]
  },
  {
   "cell_type": "code",
   "execution_count": 2,
   "id": "51544000",
   "metadata": {},
   "outputs": [],
   "source": [
    "from google.oauth2.credentials import Credentials\n",
    "from google_auth_oauthlib.flow import InstalledAppFlow\n",
    "from google.auth.transport.requests import Request\n",
    "import googleapiclient.discovery"
   ]
  },
  {
   "cell_type": "code",
   "execution_count": 3,
   "id": "33ac7ec9",
   "metadata": {},
   "outputs": [
    {
     "name": "stdout",
     "output_type": "stream",
     "text": [
      "Based on the provided calendar, there are no events scheduled for today (2024-04-01) that match the format you have given."
     ]
    }
   ],
   "source": [
    "import methods \n",
    "import formats\n",
    "import json\n",
    "import os \n",
    "import re\n",
    "\n",
    "from mistralai.client import MistralClient\n",
    "from mistralai.models.chat_completion import ChatMessage\n",
    "\n",
    "google_calendar = methods.get_google_calendar_service()\n",
    "calendar = methods.extractCalendar(google_calendar)\n",
    "client = methods.set_up_MISTRAL(calendar)\n",
    "now = methods.current_time()"
   ]
  },
  {
   "cell_type": "code",
   "execution_count": 7,
   "id": "eeebfc2d",
   "metadata": {},
   "outputs": [
    {
     "name": "stdout",
     "output_type": "stream",
     "text": [
      "createEvent(\"Meeting\", \"2024-04-02\", \"21:00\", 1)\n"
     ]
    }
   ],
   "source": [
    "context = f\"Here's my calendar for the week, store it for your reference. Today's date and time is: {now}\\n{calendar}\"\n",
    "instruction = \"\"\"\\nAs my virtual assistant, you are an expert with managing the calendar.\n",
    "You can create, move, check, list, update, delete, and handle recurring events based on the user's requests.\n",
    "When the user doesn't provide enough information, you can ask for more details, upto 3 times. Otherwise use your best judgement. \n",
    "When the user wants to create an event or move an event and if the user hasn't specified when they want it scheduled, then refer to the calendar and use your best judgement to schedule the event. Keep in mind when the user would normally eat or sleep. Assume default duration for any event as 1 hour.\n",
    "Check for any conflicts before scheduling an event.\n",
    "Always ask for confirmation before making any changes to the calendar, if the user doesn't agree, if the user doesn't agree, then generate another suitable time slot.\n",
    "When you are done, please let the user know that the task has been completed, and don't ask any more questions. If you aren't done, end with a question mark.\n",
    "Please perform the necessary actions using the Google Calendar API.\\n\"\"\"\n",
    "\n",
    "# initial setup\n",
    "initial_prompt = context + instruction\n",
    "\n",
    "instruction2 = \"\"\"Today's date and time is: {now}\\n{calendar}\\\\nBased on the user's request you've just processed, please output the appropriate function call(s) to interact with the Google Calendar API. Format your response as a single string containing one or more function calls separated by semicolons. Do not include explanations or additional text. \n",
    "All dates should be in 'YYYY-MM-DD' format, and times should be in 24-hour format 'HH:MM'. Additionally, for functions requiring a datetime range (such as 'checkSchedule' and 'ListEvents'), the datetime should be in ISO 8601 format 'YYYY-MM-DDTHH:MM:SSZ'.\n",
    "Available function templates to include in the response string:\n",
    "- createEvent(description, date:default=today, time, duration:default=1)\n",
    "- moveEvent(event_id, new_date, new_time)\n",
    "- updateEvent(event_id, new_description, new_duration, new_location)\n",
    "- deleteEvent(event_id)\n",
    "- createRecurringEvent(description, date, time, duration, frequency, until)\n",
    "- deleteRecurringEvent(event_id)\n",
    "- updateRecurringEvent(event_id, new_description, new_duration, new_location)\n",
    "\n",
    "Make sure to fill in the required information, such as event names, IDs, dates, times, etc., based on the user's request context. Replace placeholders like 'today' or 'tomorrow' with specific dates in the format YYYY-MM-DD. If more details are needed from the user for a function call, use your best judgment to complete the function with the information available.\n",
    "\n",
    "Example input: 'Schedule a team meeting for Friday afternoon at 3pm'\n",
    "Example output: 'createEvent(\"Team Meeting\", \"2024-04-05\", \"15:00\", 1)'\n",
    "\n",
    "Now, please generate the necessary function call(s) based on the user's request.\"\"\"\n",
    "user_request = \"Can you schedule a meeting for me tomorrow at 9 PM?\"\n",
    "\n",
    "messages = [\n",
    "    ChatMessage(\n",
    "        role=\"system\",\n",
    "        content=initial_prompt  # System message with instructions and context\n",
    "    ),\n",
    "    ChatMessage(\n",
    "        role=\"system\",\n",
    "        content=instruction2  # System message with instructions and context\n",
    "    ),\n",
    "    ChatMessage(\n",
    "        role=\"user\",\n",
    "        content=user_request  # User's initial request\n",
    "    )\n",
    "]\n",
    "\n",
    "stream_response = client.chat_stream(model=\"open-mistral-7b\", messages=messages)\n",
    "\n",
    "function_call = ''\n",
    "for chunk in stream_response:\n",
    "    function_call += chunk.choices[0].delta.content or \"\"\n",
    "print(function_call)\n"
   ]
  },
  {
   "cell_type": "code",
   "execution_count": 8,
   "id": "71f2ef77",
   "metadata": {},
   "outputs": [
    {
     "name": "stdout",
     "output_type": "stream",
     "text": [
      "['createEvent(\"Meeting\", \"2024-04-02\", \"21:00\", 1)']\n",
      "Create event called\n",
      "The data and time is  2024-04-02 / 21:00\n",
      "UTC start time:  2024-04-03 01:00:00+00:00 UTC end time:  2024-04-03 02:00:00+00:00\n",
      "Event created: Meeting on 2024-04-02 at 21:00 for duration of 1 hours.\n"
     ]
    }
   ],
   "source": [
    "function_calls = [line.strip() for line in function_call.split(';')] \n",
    "print(function_calls)\n",
    "\n",
    "# Define a dictionary mapping function names to their corresponding Python functions\n",
    "functions = {\n",
    "    \"createEvent\": methods.createEvent,\n",
    "    \"moveEvent\": methods.moveEvent,\n",
    "    \"checkSchedule\": methods.checkSchedule,\n",
    "}\n",
    "\n",
    "#TODO: works for createEvent, gotta change other functions in methods file to accept arguments as strings and convert them to appropriate data types\n",
    "# Iterate through the function calls\n",
    "for call in function_calls:\n",
    "    # Split the string to extract function name and arguments\n",
    "    parts = call.split('(')\n",
    "    function_name = parts[0]\n",
    "    arguments = parts[1].rstrip(')').split(', ')\n",
    "    \n",
    "    # Call the corresponding function with the provided arguments\n",
    "    if function_name in functions:\n",
    "        functions[function_name](*arguments)\n",
    "    else:\n",
    "        print(f\"Function '{function_name}' not found.\")"
   ]
  },
  {
   "cell_type": "code",
   "execution_count": null,
   "id": "58aa9f15",
   "metadata": {},
   "outputs": [],
   "source": []
  }
 ],
 "metadata": {
  "kernelspec": {
   "display_name": "Python 3 (ipykernel)",
   "language": "python",
   "name": "python3"
  },
  "language_info": {
   "codemirror_mode": {
    "name": "ipython",
    "version": 3
   },
   "file_extension": ".py",
   "mimetype": "text/x-python",
   "name": "python",
   "nbconvert_exporter": "python",
   "pygments_lexer": "ipython3",
   "version": "3.11.5"
  }
 },
 "nbformat": 4,
 "nbformat_minor": 5
}
