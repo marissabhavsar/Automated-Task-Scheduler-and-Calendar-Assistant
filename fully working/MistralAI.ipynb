{
 "cells": [
  {
   "cell_type": "code",
   "execution_count": 1,
   "id": "c0df8854",
   "metadata": {},
   "outputs": [
    {
     "name": "stdout",
     "output_type": "stream",
     "text": [
      "Requirement already satisfied: faiss-cpu==1.7.4 in /Users/everly/anaconda3/lib/python3.11/site-packages (1.7.4)\n",
      "Requirement already satisfied: mistralai==0.0.12 in /Users/everly/anaconda3/lib/python3.11/site-packages (0.0.12)\n",
      "Requirement already satisfied: httpx<0.26.0,>=0.25.2 in /Users/everly/anaconda3/lib/python3.11/site-packages (from mistralai==0.0.12) (0.25.2)\n",
      "Requirement already satisfied: orjson<4.0.0,>=3.9.10 in /Users/everly/anaconda3/lib/python3.11/site-packages (from mistralai==0.0.12) (3.9.15)\n",
      "Requirement already satisfied: pydantic<3.0.0,>=2.5.2 in /Users/everly/anaconda3/lib/python3.11/site-packages (from mistralai==0.0.12) (2.6.4)\n",
      "Requirement already satisfied: anyio in /Users/everly/anaconda3/lib/python3.11/site-packages (from httpx<0.26.0,>=0.25.2->mistralai==0.0.12) (3.5.0)\n",
      "Requirement already satisfied: certifi in /Users/everly/anaconda3/lib/python3.11/site-packages (from httpx<0.26.0,>=0.25.2->mistralai==0.0.12) (2023.7.22)\n",
      "Requirement already satisfied: httpcore==1.* in /Users/everly/anaconda3/lib/python3.11/site-packages (from httpx<0.26.0,>=0.25.2->mistralai==0.0.12) (1.0.4)\n",
      "Requirement already satisfied: idna in /Users/everly/anaconda3/lib/python3.11/site-packages (from httpx<0.26.0,>=0.25.2->mistralai==0.0.12) (3.4)\n",
      "Requirement already satisfied: sniffio in /Users/everly/anaconda3/lib/python3.11/site-packages (from httpx<0.26.0,>=0.25.2->mistralai==0.0.12) (1.2.0)\n",
      "Requirement already satisfied: h11<0.15,>=0.13 in /Users/everly/anaconda3/lib/python3.11/site-packages (from httpcore==1.*->httpx<0.26.0,>=0.25.2->mistralai==0.0.12) (0.14.0)\n",
      "Requirement already satisfied: annotated-types>=0.4.0 in /Users/everly/anaconda3/lib/python3.11/site-packages (from pydantic<3.0.0,>=2.5.2->mistralai==0.0.12) (0.6.0)\n",
      "Requirement already satisfied: pydantic-core==2.16.3 in /Users/everly/anaconda3/lib/python3.11/site-packages (from pydantic<3.0.0,>=2.5.2->mistralai==0.0.12) (2.16.3)\n",
      "Requirement already satisfied: typing-extensions>=4.6.1 in /Users/everly/anaconda3/lib/python3.11/site-packages (from pydantic<3.0.0,>=2.5.2->mistralai==0.0.12) (4.10.0)\n"
     ]
    }
   ],
   "source": [
    "! pip install faiss-cpu==1.7.4 mistralai==0.0.12"
   ]
  },
  {
   "cell_type": "code",
   "execution_count": 2,
   "id": "33ac7ec9",
   "metadata": {},
   "outputs": [
    {
     "name": "stdout",
     "output_type": "stream",
     "text": [
      "Based on the calendar you provided, there is only one event scheduled for today, March 25, 2024. Here are the details for the event:\n",
      "\n",
      "Event Name: Meeting\n",
      "Start Time: 2024-03-25T11:00:00-04:00 (11:00 AM Eastern Time)\n",
      "End Time: 2024-03-25T12:00:00-04:00 (12:00 PM Eastern Time)\n",
      "Event ID: 'vu7thvdp67tg5ukjoubia7ivl8'\n",
      "\n",
      "So, you have a meeting scheduled today from 11:00 AM to 12:00 PM Eastern Time."
     ]
    }
   ],
   "source": [
    "import methods \n",
    "import formats\n",
    "import json\n",
    "import os \n",
    "from mistralai.client import MistralClient\n",
    "from mistralai.models.chat_completion import ChatMessage\n",
    "\n",
    "google_calendar = methods.get_google_calendar_service()\n",
    "calendar = methods.extractCalendar(google_calendar)\n",
    "client = methods.set_up_MISTRAL(calendar)"
   ]
  },
  {
   "cell_type": "code",
   "execution_count": 3,
   "id": "169c348e",
   "metadata": {},
   "outputs": [
    {
     "name": "stdout",
     "output_type": "stream",
     "text": [
      "can you creat a meeting at 9am tomorrow\n",
      "createEvent\n"
     ]
    }
   ],
   "source": [
    "query = input()\n",
    "\n",
    "prompt2 = f\"Extract intent from the following query meant for a virtual calendar assistant - {query}. Your response should be a single word that describes the intent of the query, and should be one of the following: createEvent, moveEvent, deleteEvent, checkSchedule, listEvents, updateEvent.\"\n",
    "\n",
    "messages = [ChatMessage(role=\"user\", content=prompt2)]\n",
    "stream_response = client.chat_stream(model=\"open-mistral-7b\", messages=messages)\n",
    "\n",
    "intent = ''\n",
    "for chunk in stream_response:\n",
    "    intent += chunk.choices[0].delta.content or \"\"\n",
    "print(intent)"
   ]
  },
  {
   "cell_type": "code",
   "execution_count": 4,
   "id": "3e15e39b",
   "metadata": {},
   "outputs": [
    {
     "ename": "JSONDecodeError",
     "evalue": "Expecting value: line 1 column 1 (char 0)",
     "output_type": "error",
     "traceback": [
      "\u001b[0;31m---------------------------------------------------------------------------\u001b[0m",
      "\u001b[0;31mJSONDecodeError\u001b[0m                           Traceback (most recent call last)",
      "Cell \u001b[0;32mIn[4], line 14\u001b[0m\n\u001b[1;32m     11\u001b[0m \u001b[38;5;28;01mfor\u001b[39;00m chunk \u001b[38;5;129;01min\u001b[39;00m stream_response:\n\u001b[1;32m     12\u001b[0m     response_content \u001b[38;5;241m+\u001b[39m\u001b[38;5;241m=\u001b[39m chunk\u001b[38;5;241m.\u001b[39mchoices[\u001b[38;5;241m0\u001b[39m]\u001b[38;5;241m.\u001b[39mdelta\u001b[38;5;241m.\u001b[39mcontent \u001b[38;5;129;01mor\u001b[39;00m \u001b[38;5;124m\"\u001b[39m\u001b[38;5;124m\"\u001b[39m\n\u001b[0;32m---> 14\u001b[0m json_response \u001b[38;5;241m=\u001b[39m json\u001b[38;5;241m.\u001b[39mloads(response_content)\n\u001b[1;32m     15\u001b[0m \u001b[38;5;28mprint\u001b[39m(json_response)\n\u001b[1;32m     16\u001b[0m entities \u001b[38;5;241m=\u001b[39m \u001b[38;5;28mdict\u001b[39m(json_response)\n",
      "File \u001b[0;32m~/anaconda3/lib/python3.11/json/__init__.py:346\u001b[0m, in \u001b[0;36mloads\u001b[0;34m(s, cls, object_hook, parse_float, parse_int, parse_constant, object_pairs_hook, **kw)\u001b[0m\n\u001b[1;32m    341\u001b[0m     s \u001b[38;5;241m=\u001b[39m s\u001b[38;5;241m.\u001b[39mdecode(detect_encoding(s), \u001b[38;5;124m'\u001b[39m\u001b[38;5;124msurrogatepass\u001b[39m\u001b[38;5;124m'\u001b[39m)\n\u001b[1;32m    343\u001b[0m \u001b[38;5;28;01mif\u001b[39;00m (\u001b[38;5;28mcls\u001b[39m \u001b[38;5;129;01mis\u001b[39;00m \u001b[38;5;28;01mNone\u001b[39;00m \u001b[38;5;129;01mand\u001b[39;00m object_hook \u001b[38;5;129;01mis\u001b[39;00m \u001b[38;5;28;01mNone\u001b[39;00m \u001b[38;5;129;01mand\u001b[39;00m\n\u001b[1;32m    344\u001b[0m         parse_int \u001b[38;5;129;01mis\u001b[39;00m \u001b[38;5;28;01mNone\u001b[39;00m \u001b[38;5;129;01mand\u001b[39;00m parse_float \u001b[38;5;129;01mis\u001b[39;00m \u001b[38;5;28;01mNone\u001b[39;00m \u001b[38;5;129;01mand\u001b[39;00m\n\u001b[1;32m    345\u001b[0m         parse_constant \u001b[38;5;129;01mis\u001b[39;00m \u001b[38;5;28;01mNone\u001b[39;00m \u001b[38;5;129;01mand\u001b[39;00m object_pairs_hook \u001b[38;5;129;01mis\u001b[39;00m \u001b[38;5;28;01mNone\u001b[39;00m \u001b[38;5;129;01mand\u001b[39;00m \u001b[38;5;129;01mnot\u001b[39;00m kw):\n\u001b[0;32m--> 346\u001b[0m     \u001b[38;5;28;01mreturn\u001b[39;00m _default_decoder\u001b[38;5;241m.\u001b[39mdecode(s)\n\u001b[1;32m    347\u001b[0m \u001b[38;5;28;01mif\u001b[39;00m \u001b[38;5;28mcls\u001b[39m \u001b[38;5;129;01mis\u001b[39;00m \u001b[38;5;28;01mNone\u001b[39;00m:\n\u001b[1;32m    348\u001b[0m     \u001b[38;5;28mcls\u001b[39m \u001b[38;5;241m=\u001b[39m JSONDecoder\n",
      "File \u001b[0;32m~/anaconda3/lib/python3.11/json/decoder.py:337\u001b[0m, in \u001b[0;36mJSONDecoder.decode\u001b[0;34m(self, s, _w)\u001b[0m\n\u001b[1;32m    332\u001b[0m \u001b[38;5;28;01mdef\u001b[39;00m \u001b[38;5;21mdecode\u001b[39m(\u001b[38;5;28mself\u001b[39m, s, _w\u001b[38;5;241m=\u001b[39mWHITESPACE\u001b[38;5;241m.\u001b[39mmatch):\n\u001b[1;32m    333\u001b[0m \u001b[38;5;250m    \u001b[39m\u001b[38;5;124;03m\"\"\"Return the Python representation of ``s`` (a ``str`` instance\u001b[39;00m\n\u001b[1;32m    334\u001b[0m \u001b[38;5;124;03m    containing a JSON document).\u001b[39;00m\n\u001b[1;32m    335\u001b[0m \n\u001b[1;32m    336\u001b[0m \u001b[38;5;124;03m    \"\"\"\u001b[39;00m\n\u001b[0;32m--> 337\u001b[0m     obj, end \u001b[38;5;241m=\u001b[39m \u001b[38;5;28mself\u001b[39m\u001b[38;5;241m.\u001b[39mraw_decode(s, idx\u001b[38;5;241m=\u001b[39m_w(s, \u001b[38;5;241m0\u001b[39m)\u001b[38;5;241m.\u001b[39mend())\n\u001b[1;32m    338\u001b[0m     end \u001b[38;5;241m=\u001b[39m _w(s, end)\u001b[38;5;241m.\u001b[39mend()\n\u001b[1;32m    339\u001b[0m     \u001b[38;5;28;01mif\u001b[39;00m end \u001b[38;5;241m!=\u001b[39m \u001b[38;5;28mlen\u001b[39m(s):\n",
      "File \u001b[0;32m~/anaconda3/lib/python3.11/json/decoder.py:355\u001b[0m, in \u001b[0;36mJSONDecoder.raw_decode\u001b[0;34m(self, s, idx)\u001b[0m\n\u001b[1;32m    353\u001b[0m     obj, end \u001b[38;5;241m=\u001b[39m \u001b[38;5;28mself\u001b[39m\u001b[38;5;241m.\u001b[39mscan_once(s, idx)\n\u001b[1;32m    354\u001b[0m \u001b[38;5;28;01mexcept\u001b[39;00m \u001b[38;5;167;01mStopIteration\u001b[39;00m \u001b[38;5;28;01mas\u001b[39;00m err:\n\u001b[0;32m--> 355\u001b[0m     \u001b[38;5;28;01mraise\u001b[39;00m JSONDecodeError(\u001b[38;5;124m\"\u001b[39m\u001b[38;5;124mExpecting value\u001b[39m\u001b[38;5;124m\"\u001b[39m, s, err\u001b[38;5;241m.\u001b[39mvalue) \u001b[38;5;28;01mfrom\u001b[39;00m \u001b[38;5;28;01mNone\u001b[39;00m\n\u001b[1;32m    356\u001b[0m \u001b[38;5;28;01mreturn\u001b[39;00m obj, end\n",
      "\u001b[0;31mJSONDecodeError\u001b[0m: Expecting value: line 1 column 1 (char 0)"
     ]
    }
   ],
   "source": [
    "if intent == 'createEvent':\n",
    "    prompt_for_creation = f\"{query} based on {calendar}\"\n",
    "    messages = [ChatMessage(role=\"user\", content=prompt_for_creation)]\n",
    "    \n",
    "    stream_response = client.chat_stream(\n",
    "        model=\"open-mistral-7b\",\n",
    "        messages=messages\n",
    "    )\n",
    "    \n",
    "    response_content = ''\n",
    "    for chunk in stream_response:\n",
    "        response_content += chunk.choices[0].delta.content or \"\"\n",
    "    \n",
    "    json_response = json.loads(response_content)\n",
    "    print(json_response)\n",
    "    entities = dict(json_response)\n",
    "    methods.createEvent(entities)\n"
   ]
  },
  {
   "cell_type": "code",
   "execution_count": null,
   "id": "1b6fa110",
   "metadata": {},
   "outputs": [],
   "source": []
  },
  {
   "cell_type": "code",
   "execution_count": null,
   "id": "eeebfc2d",
   "metadata": {},
   "outputs": [],
   "source": []
  }
 ],
 "metadata": {
  "kernelspec": {
   "display_name": "Python 3 (ipykernel)",
   "language": "python",
   "name": "python3"
  },
  "language_info": {
   "codemirror_mode": {
    "name": "ipython",
    "version": 3
   },
   "file_extension": ".py",
   "mimetype": "text/x-python",
   "name": "python",
   "nbconvert_exporter": "python",
   "pygments_lexer": "ipython3",
   "version": "3.11.5"
  }
 },
 "nbformat": 4,
 "nbformat_minor": 5
}
