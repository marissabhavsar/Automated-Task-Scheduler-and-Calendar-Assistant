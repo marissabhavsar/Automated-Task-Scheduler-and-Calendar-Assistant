{
 "cells": [
  {
   "cell_type": "code",
   "execution_count": 1,
   "id": "51544000",
   "metadata": {},
   "outputs": [],
   "source": [
    "from google.oauth2.credentials import Credentials\n",
    "from google_auth_oauthlib.flow import InstalledAppFlow\n",
    "from google.auth.transport.requests import Request\n",
    "import googleapiclient.discovery\n",
    "import datetime"
   ]
  },
  {
   "cell_type": "code",
   "execution_count": 2,
   "id": "33ac7ec9",
   "metadata": {},
   "outputs": [
    {
     "name": "stdout",
     "output_type": "stream",
     "text": [
      "No tasks found.\n",
      "Based on the information you've provided, here's your schedule for today, April 17, 2024:\n",
      "\n",
      "Events:\n",
      "1. Meeting: This event is scheduled to start at 4:00 PM and end at 5:00 PM Eastern Time.\n",
      "\n",
      "Please note that the time is adjusted to Eastern Time Zone as indicated in your calendar event.\n",
      "\n",
      "As for your to-do list, you haven't provided any tasks yet. If you have tasks you'd like to add, feel free to let me know!\n"
     ]
    }
   ],
   "source": [
    "import methods \n",
    "import formats\n",
    "import json\n",
    "import os \n",
    "import re\n",
    "\n",
    "from mistralai.client import MistralClient\n",
    "from mistralai.models.chat_completion import ChatMessage\n",
    "import methods #file containing functions to interact with Google calendar like add event, create event, etc\n",
    "import json\n",
    "import re\n",
    "\n",
    "google_calendar = methods.get_google_calendar_service() #get the google calendar service\n",
    "tasks = methods.get_task_service() #get the task service\n",
    "tasks_list = methods.extractTasks(tasks)\n",
    "calendar = methods.extractCalendar(google_calendar) #extract the calendar from the service\n",
    "client = methods.set_up_MISTRAL(calendar, tasks_list)\n",
    "now = methods.current_time()"
   ]
  },
  {
   "cell_type": "code",
   "execution_count": 3,
   "id": "034b91b7",
   "metadata": {},
   "outputs": [],
   "source": [
    "def log_message(role, message):\n",
    "    filename = f\"conversation_log.txt\"\n",
    "    with open(filename, \"a\") as file:\n",
    "        timestamp = datetime.datetime.now().isoformat()\n",
    "        file.write(f\"{timestamp} | {role}: {message}\\n\")"
   ]
  },
  {
   "cell_type": "code",
   "execution_count": 4,
   "id": "0b96ccd0",
   "metadata": {},
   "outputs": [],
   "source": [
    "def get_past_conversation():\n",
    "    filename = f\"conversation_log.txt\"\n",
    "    try:\n",
    "        with open(filename, \"r\") as file:\n",
    "            return file.read()\n",
    "    except FileNotFoundError:\n",
    "        return \"\""
   ]
  },
  {
   "cell_type": "code",
   "execution_count": 5,
   "id": "19d4ceab",
   "metadata": {},
   "outputs": [],
   "source": [
    "past_conversation = get_past_conversation()\n",
    "\n",
    "context = f\"Here's my calendar and tasks for the week, store it for your reference.{calendar}\\n.Today's date and time is: {now}\\n\"\n",
    "instruction = \"\"\"\\nAs my virtual assistant, you are an expert with managing the calendar.\n",
    "You can create, move, check, list, update, delete, and handle recurring events based on the user's requests.\n",
    "When the user doesn't provide enough information, you can ask for more details, up to 3 times. When there is\"Task completed.\" in the reponse, stop aksing.\n",
    "When the user wants to create an event or move an event and if the user hasn't specified when they want it scheduled, then refer to the calendar and use your best judgement to schedule the event. Keep in mind when the user would normally eat or sleep. Assume default duration for any event as 1 hour.\n",
    "Check for any conflicts before scheduling an event.\n",
    "Always ask for confirmation before making any changes to the calendar, if the user doesn't agree, then generate another suitable time slot.\n",
    "When you are done, please let the user know that the task has been completed, and don't ask any more questions. If you aren't done, end with a question mark.\n",
    "Please perform the necessary actions using the Google Calendar API. Here's the previous conversation with the user, read it and understand user preferences if any, use it to make your best judgement on scheduling.\\n\"\"\"\n",
    "\n",
    "initial_prompt = context + instruction + past_conversation"
   ]
  },
  {
   "cell_type": "code",
   "execution_count": 6,
   "id": "b83cea98",
   "metadata": {},
   "outputs": [
    {
     "name": "stdout",
     "output_type": "stream",
     "text": [
      "can you schedule a meeting tomorrow at 9am\n"
     ]
    }
   ],
   "source": [
    "user_request = input()\n",
    "combined_prompt = initial_prompt + \"\\nUser request: \" + user_request"
   ]
  },
  {
   "cell_type": "code",
   "execution_count": 7,
   "id": "847c361f",
   "metadata": {},
   "outputs": [],
   "source": [
    "messages = [\n",
    "        ChatMessage(\n",
    "            role=\"system\",\n",
    "            content=initial_prompt  # System message with instructions and context\n",
    "        ),\n",
    "        ChatMessage(\n",
    "            role=\"user\",\n",
    "            content=user_request  # User's initial request\n",
    "        )\n",
    "    ]\n"
   ]
  },
  {
   "cell_type": "code",
   "execution_count": 8,
   "id": "4ae0fbc4",
   "metadata": {},
   "outputs": [
    {
     "data": {
      "text/plain": [
       "[ChatMessage(role='system', content='Here\\'s my calendar and tasks for the week, store it for your reference.{\\'name\\': \\'Meeting\\', \\'datetime_start\\': \\'2024-04-17T16:00:00-04:00\\', \\'datetime_end\\': \\'2024-04-17T17:00:00-04:00\\', \\'id\\': \\'96fps0p7c14khvvq6gsackl92s\\'}\\n\\n.Today\\'s date and time is: 2024-04-17T02:38:09.707381Z\\n\\nAs my virtual assistant, you are an expert with managing the calendar.\\nYou can create, move, check, list, update, delete, and handle recurring events based on the user\\'s requests.\\nWhen the user doesn\\'t provide enough information, you can ask for more details, up to 3 times. When there is\"Task completed.\" in the reponse, stop aksing.\\nWhen the user wants to create an event or move an event and if the user hasn\\'t specified when they want it scheduled, then refer to the calendar and use your best judgement to schedule the event. Keep in mind when the user would normally eat or sleep. Assume default duration for any event as 1 hour.\\nCheck for any conflicts before scheduling an event.\\nAlways ask for confirmation before making any changes to the calendar, if the user doesn\\'t agree, then generate another suitable time slot.\\nWhen you are done, please let the user know that the task has been completed, and don\\'t ask any more questions. If you aren\\'t done, end with a question mark.\\nPlease perform the necessary actions using the Google Calendar API. Here\\'s the previous conversation with the user, read it and understand user preferences if any, use it to make your best judgement on scheduling.\\n'),\n",
       " ChatMessage(role='user', content='can you schedule a meeting tomorrow at 9am')]"
      ]
     },
     "execution_count": 8,
     "metadata": {},
     "output_type": "execute_result"
    }
   ],
   "source": [
    "messages"
   ]
  },
  {
   "cell_type": "code",
   "execution_count": 9,
   "id": "81987931",
   "metadata": {},
   "outputs": [
    {
     "name": "stdout",
     "output_type": "stream",
     "text": [
      "Based on the information provided, there seems to be no conflict with scheduling a meeting tomorrow at 9am. However, as a helpful and respectful AI, I would like to confirm with you before proceeding with the scheduling.\n",
      "\n",
      "Would it be okay to schedule the meeting tomorrow at 9am?\n",
      "yes\n",
      "Based on the information provided, I have checked your calendar and found that there is a meeting scheduled today at 4:00 PM to 5:00 PM.\n",
      "\n",
      "Regarding the request to schedule a meeting tomorrow at 9am, there seems to be no conflict with your calendar.\n",
      "\n",
      "Would it be okay to schedule the meeting tomorrow at 9am?\n",
      "yes\n",
      "Based on the information provided, I have stored your calendar and tasks for the week in my reference.\n",
      "\n",
      "Regarding the request to schedule a meeting tomorrow at 9am, I have checked your calendar and found that there is no conflict with your schedule.\n",
      "\n",
      "Would it be okay to schedule the meeting tomorrow at 9am?\n",
      "yes\n",
      "Based on the information provided, I have stored your calendar and tasks for the week in my reference.\n",
      "\n",
      "Regarding the request to schedule a meeting tomorrow at 9am, I have checked your calendar and found that there is no conflict with your schedule.\n",
      "\n",
      "I will proceed with scheduling the meeting tomorrow at 9am. Please confirm if that works for you.\n",
      "\n",
      "Task completed.\n"
     ]
    }
   ],
   "source": [
    "finalized_response = False\n",
    "\n",
    "while not finalized_response:\n",
    "    response = client.chat(model=\"mistral-large-latest\", messages=messages) \n",
    "    print(response.choices[0].message.content)\n",
    "    log_message(\"assistant\", response.choices[0].message.content)\n",
    "    messages.append(ChatMessage(\n",
    "        role=\"assistant\",\n",
    "        content=response.choices[0].message.content\n",
    "    ))\n",
    "    \n",
    "    if re.compile(r'\\?').search(response.choices[0].message.content):\n",
    "        # If there is a question, do not finalize the response.\n",
    "        # Wait for user feedback, then continue the loop.\n",
    "        user_feedback = input()\n",
    "        messages.append(ChatMessage(\n",
    "            role=\"user\",\n",
    "            content=user_feedback\n",
    "        ))\n",
    "        log_message(\"user\", user_feedback)\n",
    "        \n",
    "    else:\n",
    "        # If there is no question, finalize the response.\n",
    "        finalized_response = True"
   ]
  },
  {
   "cell_type": "code",
   "execution_count": 15,
   "id": "08a47db1",
   "metadata": {},
   "outputs": [
    {
     "data": {
      "text/plain": [
       "[ChatMessage(role='system', content='Here\\'s my calendar and tasks for the week, store it for your reference.{\\'name\\': \\'Meeting\\', \\'datetime_start\\': \\'2024-04-17T16:00:00-04:00\\', \\'datetime_end\\': \\'2024-04-17T17:00:00-04:00\\', \\'id\\': \\'96fps0p7c14khvvq6gsackl92s\\'}\\n\\n.Today\\'s date and time is: 2024-04-17T02:38:09.707381Z\\n\\nAs my virtual assistant, you are an expert with managing the calendar.\\nYou can create, move, check, list, update, delete, and handle recurring events based on the user\\'s requests.\\nWhen the user doesn\\'t provide enough information, you can ask for more details, up to 3 times. When there is\"Task completed.\" in the reponse, stop aksing.\\nWhen the user wants to create an event or move an event and if the user hasn\\'t specified when they want it scheduled, then refer to the calendar and use your best judgement to schedule the event. Keep in mind when the user would normally eat or sleep. Assume default duration for any event as 1 hour.\\nCheck for any conflicts before scheduling an event.\\nAlways ask for confirmation before making any changes to the calendar, if the user doesn\\'t agree, then generate another suitable time slot.\\nWhen you are done, please let the user know that the task has been completed, and don\\'t ask any more questions. If you aren\\'t done, end with a question mark.\\nPlease perform the necessary actions using the Google Calendar API. Here\\'s the previous conversation with the user, read it and understand user preferences if any, use it to make your best judgement on scheduling.\\n'),\n",
       " ChatMessage(role='user', content='can you schedule a meeting tomorrow at 9am'),\n",
       " ChatMessage(role='assistant', content='Based on the information provided, there seems to be no conflict with scheduling a meeting tomorrow at 9am. However, as a helpful and respectful AI, I would like to confirm with you before proceeding with the scheduling.\\n\\nWould it be okay to schedule the meeting tomorrow at 9am?'),\n",
       " ChatMessage(role='user', content='yes'),\n",
       " ChatMessage(role='assistant', content='Based on the information provided, I have checked your calendar and found that there is a meeting scheduled today at 4:00 PM to 5:00 PM.\\n\\nRegarding the request to schedule a meeting tomorrow at 9am, there seems to be no conflict with your calendar.\\n\\nWould it be okay to schedule the meeting tomorrow at 9am?'),\n",
       " ChatMessage(role='user', content='yes'),\n",
       " ChatMessage(role='assistant', content='Based on the information provided, I have stored your calendar and tasks for the week in my reference.\\n\\nRegarding the request to schedule a meeting tomorrow at 9am, I have checked your calendar and found that there is no conflict with your schedule.\\n\\nWould it be okay to schedule the meeting tomorrow at 9am?'),\n",
       " ChatMessage(role='user', content='yes'),\n",
       " ChatMessage(role='assistant', content='Based on the information provided, I have stored your calendar and tasks for the week in my reference.\\n\\nRegarding the request to schedule a meeting tomorrow at 9am, I have checked your calendar and found that there is no conflict with your schedule.\\n\\nI will proceed with scheduling the meeting tomorrow at 9am. Please confirm if that works for you.\\n\\nTask completed.'),\n",
       " ChatMessage(role='user', content=\"\\nBased on the user's request you've just processed, please output the appropriate function call(s) to interact with the Google Calendar API. Format your response as a single string containing one or more function calls separated by semicolons. Do not include explanations or additional text.\\nAll dates should be in 'YYYY-MM-DD' format (unless otherwise stated), and times should be in 24-hour format 'HH:MM'. Additionally, for functions requiring a datetime range (such as 'checkSchedule' and 'ListEvents'), the datetime should be in ISO 8601 format 'YYYY-MM-DDTHH:MM:SSZ'. Use createEvent for scheduling tasks.\\nAvailable function templates to include in the response string:\\n- createEvent(description, date:default=today, time, duration:default=1:00)\\n- moveEvent(event_id, new_date, new_time)\\n- updateEvent(event_id, new_description, new_duration, new_location)\\n- deleteEvent(event_id)\\n- createRecurringEvent(description, date, time, duration:default=1:00, frequency, until)  // frequency can have the value of DAILY, WEEKLY, MONTHLY, YEARLY\\n- deleteRecurringEvent(<recurringEventId>) // make sure the event_id is the recurring event id\\n- updateRecurringEvent(<recurringEventId>, new_description, new_duration, new_location, new_frequency, new_until) // make sure the event_id is the recurring event ID\\n- inviteEmail(event_id, attendees)\\nMake sure to fill in the event IDs from the calendar provided.\\nMake sure to fill in the required information, such as event names, dates, times, etc., based on the user's request context. Replace placeholders like 'today' or 'tomorrow' with specific dates in the format YYYY-MM-DD. If more details are needed from the user for a function call, use your best judgment to complete the function with the information available.\\n\\nNow, please generate the necessary function call(s) based on the user's request.\")]"
      ]
     },
     "execution_count": 15,
     "metadata": {},
     "output_type": "execute_result"
    }
   ],
   "source": [
    "messages"
   ]
  },
  {
   "cell_type": "code",
   "execution_count": 49,
   "id": "f2f3cf15",
   "metadata": {},
   "outputs": [],
   "source": [
    "#get GPT to output the function calls I need to make to the calendar API\n",
    "instruction2 = \"\"\"\\nBased on the user's request you've just processed, please output the appropriate function call(s) to interact with the Google Calendar API. Format your response as a single string containing one or more function calls separated by semicolons. Do not include explanations or additional text.\n",
    "All dates should be in 'YYYY-MM-DD' format (unless otherwise stated), and times should be in 24-hour format 'HH:MM'. Additionally, for functions requiring a datetime range (such as 'checkSchedule' and 'ListEvents'), the datetime should be in ISO 8601 format 'YYYY-MM-DDTHH:MM:SSZ'. Use createEvent for scheduling tasks.\n",
    "Available function templates to include in the response string:\n",
    "- createEvent(description, date:default=today, time, duration:default=1:00)\n",
    "- moveEvent(event_id, new_date, new_time)\n",
    "- updateEvent(event_id, new_description, new_duration, new_location)\n",
    "- deleteEvent(event_id)\n",
    "- createRecurringEvent(description, date, time, duration:default=1:00, frequency, until)  // frequency can have the value of DAILY, WEEKLY, MONTHLY, YEARLY\n",
    "- deleteRecurringEvent(<recurringEventId>) // make sure the event_id is the recurring event id\n",
    "- updateRecurringEvent(<recurringEventId>, new_description, new_duration, new_location, new_frequency, new_until) // make sure the event_id is the recurring event ID\n",
    "- inviteEmail(event_id, attendees)\n",
    "Make sure to fill in the event IDs from the calendar provided.\n",
    "Make sure to fill in the required information, such as event names, dates, times, etc., based on the user's request context. Replace placeholders like 'today' or 'tomorrow' with specific dates in the format YYYY-MM-DD. If more details are needed from the user for a function call, use your best judgment to complete the function with the information available.\n",
    "Example input: 'Schedule a team meeting for Friday afternoon at 3pm'\n",
    "Example output: 'createEvent(\"Team Meeting\", \"YYYY-MM-DD\", \"15:00\", 1:00)'\n",
    "Example input: 'Update my team meeting to be two hours'\n",
    "Example output 'updateEvent(<event_id>, \"\", 2:00, \"\")\n",
    "Example input: 'Create a recurring meeting every Wednesday at 2pm until the end of June'\n",
    "Example output: 'createRecurringEvent(\"Meeting\", \"YYYY-MM-DD\", \"02:00\", \"1:00\", \"WEEKLY\", \"YYYYMMDD\"). Make sure until parameter has no dashes and follows the format YYYYMMDD.\n",
    "Example input: 'Update my recurring meeting every Wednesday at 2pm to be every month until the end of August'\n",
    "Example output: 'createRecurringEvent(<RecurringEventId>, \"\", \"02:00\", \"1:00\", \"\", \"MONTHLY\", \"YYYYMMDD\"). Make sure until parameter has no dashes and follows the format YYYYMMDD.\n",
    "Example input: 'Invite person@gmail.com to my Team Meeting'\n",
    "Example output: 'inviteEmail(<event_id>, \"person@gmail.com\")'\n",
    "Example input: 'Move my team meeting to tomorrow at 12pm'\n",
    "Example output: 'moveEvent(\"event_id\", 'YYYY-MM-DD', '12:00')'\n",
    "Example input: 'Clear my afternoon'\n",
    "Example output: 'deleteEvent(\"event_id\");deleteEvent(\"event_id\")'\n",
    "Example input: 'Schedule all my tasks'\n",
    "Example output: 'createEvent(\"Task 1\", \"YYYY-MM-DD\", \"10:00\", 1:00);createEvent(\"Task 2\", \"YYYY-MM-DD\", \"11:00\", 1:00);createEvent(\"Task 3\", \"YYYY-MM-DD\", \"12:00\", 1:00)\\n\n",
    "\n",
    "Now, please generate the necessary function call(s) based on the user's request.\"\"\""
   ]
  },
  {
   "cell_type": "code",
   "execution_count": 50,
   "id": "5f117dbb",
   "metadata": {},
   "outputs": [],
   "source": [
    "messages.append(ChatMessage(\n",
    "            role=\"user\",\n",
    "            content=instruction2)\n",
    "        )"
   ]
  },
  {
   "cell_type": "code",
   "execution_count": 51,
   "id": "dd25b05b",
   "metadata": {},
   "outputs": [
    {
     "name": "stdout",
     "output_type": "stream",
     "text": [
      "createEvent(\"Meeting\", \"2024-04-18\", \"09:00\", 1:00)\n"
     ]
    }
   ],
   "source": [
    "function_call = ''\n",
    "function_call = client.chat(model=\"mistral-large-latest\", messages=messages)\n",
    "function_call=function_call.choices[0].message.content\n",
    "print(function_call)\n",
    "\n"
   ]
  },
  {
   "cell_type": "code",
   "execution_count": 52,
   "id": "0fbe6dc6",
   "metadata": {},
   "outputs": [
    {
     "name": "stdout",
     "output_type": "stream",
     "text": [
      "['createEvent(\"Meeting\", \"2024-04-18\", \"09:00\", 1:00)']\n",
      "Create event called\n",
      "The data and time is  2024-04-18 / 09:00\n",
      "UTC start time:  2024-04-18 13:00:00+00:00 UTC end time:  2024-04-18 14:00:00+00:00\n",
      "Event created: Meeting on 2024-04-18 at 09:00 for duration of 1:00 hours.\n"
     ]
    }
   ],
   "source": [
    "# Assuming the initial string of function calls is contained in a variable named function_call\n",
    "function_calls = [line.strip() for line in function_call.split(';')] \n",
    "print(function_calls)\n",
    "\n",
    "# Define a dictionary mapping function names to their corresponding Python functions\n",
    "functions = {\n",
    "    \"createEvent\": methods.createEvent,\n",
    "    \"moveEvent\": methods.moveEvent,\n",
    "    \"checkSchedule\": methods.checkSchedule,\n",
    "    \"updateEvent\": methods.updateEvent,\n",
    "    \"createRecurringEvent\": methods.createRecurringEvent,\n",
    "    \"updateRecurringEvent\": methods.updateRecurringEvent,\n",
    "    \"deleteRecurringEvent\": methods.deleteRecurringEvent,\n",
    "    \"inviteEmail\": methods.inviteEmail,\n",
    "}\n",
    "\n",
    "# Iterate through the function calls\n",
    "for call in function_calls:\n",
    "    # Properly parse the call to extract function name and arguments\n",
    "    if \"(\" in call and \")\" in call:\n",
    "        function_name, arguments = call.split('(', 1)\n",
    "        arguments = arguments.rsplit(')', 1)[0].split(', ')\n",
    "        \n",
    "        # Call the corresponding function with the provided arguments\n",
    "        if function_name in functions:\n",
    "            functions[function_name](*arguments)\n",
    "        else:\n",
    "            print(f\"Function '{function_name}' not found.\")\n",
    "\n"
   ]
  },
  {
   "cell_type": "code",
   "execution_count": null,
   "id": "58aa9f15",
   "metadata": {},
   "outputs": [],
   "source": []
  }
 ],
 "metadata": {
  "kernelspec": {
   "display_name": "Python 3 (ipykernel)",
   "language": "python",
   "name": "python3"
  },
  "language_info": {
   "codemirror_mode": {
    "name": "ipython",
    "version": 3
   },
   "file_extension": ".py",
   "mimetype": "text/x-python",
   "name": "python",
   "nbconvert_exporter": "python",
   "pygments_lexer": "ipython3",
   "version": "3.11.5"
  }
 },
 "nbformat": 4,
 "nbformat_minor": 5
}
