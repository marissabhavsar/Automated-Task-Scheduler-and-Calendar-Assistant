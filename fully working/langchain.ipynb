{
 "cells": [
  {
   "cell_type": "markdown",
   "metadata": {},
   "source": [
    "### Get the User's Desired LLM"
   ]
  },
  {
   "cell_type": "code",
   "execution_count": 1,
   "metadata": {},
   "outputs": [
    {
     "name": "stdout",
     "output_type": "stream",
     "text": [
      "Please input your choice of LLM\n",
      "You have chosen ChatGPT\n"
     ]
    }
   ],
   "source": [
    "import langchain_test as lt \n",
    "import methods\n",
    "\n",
    "model = lt.get_user_choice()\n",
    "print(\"You have chosen\", model.name)"
   ]
  },
  {
   "cell_type": "markdown",
   "metadata": {},
   "source": [
    "### Get User's Calendar"
   ]
  },
  {
   "cell_type": "code",
   "execution_count": 2,
   "metadata": {},
   "outputs": [
    {
     "name": "stdout",
     "output_type": "stream",
     "text": [
      "{'name': 'Run', 'datetime_start': '2024-03-26T22:00:00-04:00', 'datetime_end': '2024-03-26T23:00:00-04:00', 'id': '2jdmu23fud2s2pfdt5qvg5gn5p'}\n",
      "{'name': 'EECS 545: Machine Learning', 'datetime_start': '2024-03-27T09:00:00-04:00', 'datetime_end': '2024-03-27T10:30:00-04:00', 'id': '4ja5oo0s5vlt0mk97gaiv38hjj_20240327T130000Z'}\n",
      "{'name': 'STAT 412: Intro to Prob Stat', 'datetime_start': '2024-03-28T10:00:00-04:00', 'datetime_end': '2024-03-28T11:30:00-04:00', 'id': '0s0rgk47g3el2sm6v7rk7f1f3e_20240328T140000Z'}\n",
      "{'name': 'EECS 545: Machine Learning', 'datetime_start': '2024-04-01T09:00:00-04:00', 'datetime_end': '2024-04-01T10:30:00-04:00', 'id': '4ja5oo0s5vlt0mk97gaiv38hjj_20240401T130000Z'}\n",
      "{'name': 'STATS 412: Exam 2', 'datetime_start': '2024-04-02', 'datetime_end': '2024-04-03', 'id': '4bkcu6gf7553aqqderhaaufmka'}\n",
      "{'name': 'STAT 412: Intro to Prob Stat', 'datetime_start': '2024-04-02T10:00:00-04:00', 'datetime_end': '2024-04-02T11:30:00-04:00', 'id': '0s0rgk47g3el2sm6v7rk7f1f3e_20240402T140000Z'}\n",
      "\n",
      "What change would you like to make to your calendar\n"
     ]
    }
   ],
   "source": [
    "calendar = methods.get_calendar()\n",
    "print(calendar)\n",
    "\n",
    "user_query = lt.get_user_query()"
   ]
  },
  {
   "cell_type": "markdown",
   "metadata": {},
   "source": [
    "### Set Up Prompts "
   ]
  },
  {
   "cell_type": "code",
   "execution_count": 3,
   "metadata": {},
   "outputs": [],
   "source": [
    "from langchain_core.prompts import ChatPromptTemplate\n",
    "\n",
    "intent_prompt_template = ChatPromptTemplate.from_messages([\n",
    "    (\"human\", \"Identify the type of query that the following query is: {user_query}. Your response should be a single word that describes the intent of the query, and should be one of the following: createEvent, moveEvent, deleteEvent, checkSchedule, listEvents, updateEvent.\"),\n",
    "])\n",
    "\n",
    "update_prompt_template = ChatPromptTemplate.from_messages([\n",
    "    (\"system\", \"append _format to the following user intent - {user_intent}\"),\n",
    "    (\"system\", \"Only output the appended word. Your answer should be one word in the following format: userintent_format\")\n",
    "])\n",
    "\n",
    "update_json_template = ChatPromptTemplate.from_messages([\n",
    "    (\"system\", \"The following is the user's intent - {user_query}\"),\n",
    "    (\"system\", \"This is the user's calendar - {user_calendar}\"),\n",
    "    (\"system\", \"Explain the update you are making. Create a valid JSON Object for to update Google Calendar based on the following instructions: {format}.\")\n",
    "])\n",
    "\n",
    "parse_answer =  ChatPromptTemplate.from_messages([\n",
    "    (\"system\", \"Parse the following this answer ({answer}) for the JSON Object. Output only the JSON Object. Ensure its correctly formatted\"),\n",
    "])"
   ]
  },
  {
   "cell_type": "markdown",
   "metadata": {},
   "source": [
    "### Build The Chain"
   ]
  },
  {
   "cell_type": "code",
   "execution_count": 4,
   "metadata": {},
   "outputs": [
    {
     "name": "stdout",
     "output_type": "stream",
     "text": [
      "{\n",
      "  \"name\": \"Run\",\n",
      "  \"date\": \"2024-03-26\",\n",
      "  \"time\": \"10:00 PM\",\n",
      "  \"new_date\": \"2024-03-27\",\n",
      "  \"new_time\": \"3:00 PM\"\n",
      "}\n"
     ]
    }
   ],
   "source": [
    "from langchain_core.runnables import RunnablePassthrough\n",
    "import formats\n",
    "\n",
    "lcel_chain = intent_prompt_template | model.llm | {'user_intent':RunnablePassthrough()} |update_prompt_template | model.llm \n",
    "out = lcel_chain.invoke({\"user_query\":user_query})\n",
    "command = out.content\n",
    "\n",
    "lcel_chain_2 = update_json_template | model.llm \n",
    "out = lcel_chain_2.invoke({\"user_query\":user_query, \"user_calendar\":calendar, \"time\":methods.current_time, \"format\": formats.getFormat(command)[0]['parameters']['properties']})\n",
    "print(out.content)"
   ]
  },
  {
   "cell_type": "markdown",
   "metadata": {},
   "source": [
    "### Format JSON\n"
   ]
  },
  {
   "cell_type": "code",
   "execution_count": 5,
   "metadata": {},
   "outputs": [
    {
     "name": "stdout",
     "output_type": "stream",
     "text": [
      "{'name': 'Run', 'date': '2024-03-26', 'time': '10:00 PM', 'new_date': '2024-03-27', 'new_time': '3:00 PM'}\n",
      "{'kind': 'calendar#event', 'etag': '\"3422997059954000\"', 'id': '2jdmu23fud2s2pfdt5qvg5gn5p', 'status': 'confirmed', 'htmlLink': 'https://www.google.com/calendar/event?eid=MmpkbXUyM2Z1ZDJzMnBmZHQ1cXZnNWduNXAgdmFydW4uZDk5QG0', 'created': '2024-03-26T20:45:28.000Z', 'updated': '2024-03-27T00:15:29.977Z', 'summary': 'Run', 'creator': {'email': 'varun.d99@gmail.com', 'self': True}, 'organizer': {'email': 'varun.d99@gmail.com', 'self': True}, 'start': {'dateTime': '2024-03-26T22:00:00-04:00', 'timeZone': 'America/New_York'}, 'end': {'dateTime': '2024-03-26T23:00:00-04:00', 'timeZone': 'America/New_York'}, 'iCalUID': '2jdmu23fud2s2pfdt5qvg5gn5p@google.com', 'sequence': 6, 'reminders': {'useDefault': True}, 'eventType': 'default'}\n",
      "Event \"Run\" moved to 2024-03-27 15:00:00-04:00\n"
     ]
    }
   ],
   "source": [
    "import json\n",
    "\n",
    "json_response = json.loads(out.content)\n",
    "print(json_response)\n",
    "methods.moveEvent(json_response)"
   ]
  }
 ],
 "metadata": {
  "kernelspec": {
   "display_name": "base",
   "language": "python",
   "name": "python3"
  },
  "language_info": {
   "codemirror_mode": {
    "name": "ipython",
    "version": 3
   },
   "file_extension": ".py",
   "mimetype": "text/x-python",
   "name": "python",
   "nbconvert_exporter": "python",
   "pygments_lexer": "ipython3",
   "version": "3.11.8"
  }
 },
 "nbformat": 4,
 "nbformat_minor": 2
}
