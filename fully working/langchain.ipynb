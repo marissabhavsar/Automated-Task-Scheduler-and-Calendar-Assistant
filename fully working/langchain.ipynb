{
 "cells": [
  {
   "cell_type": "markdown",
   "metadata": {},
   "source": [
    "### Get the User's Desired LLM"
   ]
  },
  {
   "cell_type": "code",
   "execution_count": 1,
   "metadata": {},
   "outputs": [
    {
     "name": "stdout",
     "output_type": "stream",
     "text": [
      "Please input your choice of LLM\n",
      "Please enter a number\n",
      "Please enter a number\n",
      "Please enter a number\n",
      "You have chosen ChatGPT\n"
     ]
    }
   ],
   "source": [
    "import langchain_test as lt \n",
    "import methods\n",
    "\n",
    "model = lt.get_user_choice()\n",
    "print(\"You have chosen\", model.name)"
   ]
  },
  {
   "cell_type": "markdown",
   "metadata": {},
   "source": [
    "### Get User's Calendar"
   ]
  },
  {
   "cell_type": "code",
   "execution_count": 2,
   "metadata": {},
   "outputs": [
    {
     "name": "stdout",
     "output_type": "stream",
     "text": [
      "What change would you like to make to your calendar\n"
     ]
    }
   ],
   "source": [
    "calendar = methods.get_calendar()\n",
    "model.llm.invoke(\"Print my calendar for the week\")\n",
    "user_query = lt.get_user_query()"
   ]
  },
  {
   "cell_type": "markdown",
   "metadata": {},
   "source": [
    "### Set Up Prompts "
   ]
  },
  {
   "cell_type": "code",
   "execution_count": 3,
   "metadata": {},
   "outputs": [],
   "source": [
    "from langchain_core.prompts import ChatPromptTemplate\n",
    "\n",
    "intent_prompt_template = ChatPromptTemplate.from_messages([\n",
    "    (\"human\", \"Identify the type of query that the following query is: {user_query}. Your response should be a single word that describes the intent of the query, and should be one of the following: createEvent, moveEvent, deleteEvent, checkSchedule, listEvents, updateEvent.\"),\n",
    "])\n",
    "\n",
    "update_prompt_template = ChatPromptTemplate.from_messages([\n",
    "    (\"system\", \"append _format to the following user intent - {user_intent}\"),\n",
    "    (\"system\", \"Only output the appended word. Your answer should be one word in the following format: userintent_format\")\n",
    "])\n",
    "\n",
    "update_json_template = ChatPromptTemplate.from_messages([\n",
    "    (\"system\", \"You are a virtual calendar assistant helping a user update their calendar by formatting the update for Google Calendars\"),\n",
    "    (\"human\", \"Can you make the following update to my calendar - {user_query}\"),\n",
    "    (\"system\", \"Analyze the following calendar to understand the user's schedule - {user_calendar}\"),\n",
    "    (\"system\", \"Ensure your output is a valid JSON Object. Here is guidance for your output - {format}. Ensure you follow the instructions in the description\"),\n",
    "])"
   ]
  },
  {
   "cell_type": "markdown",
   "metadata": {},
   "source": [
    "### Build The Chain"
   ]
  },
  {
   "cell_type": "code",
   "execution_count": 4,
   "metadata": {},
   "outputs": [
    {
     "name": "stdout",
     "output_type": "stream",
     "text": [
      "{\n",
      "  \"name\": {\n",
      "    \"type\": \"string\",\n",
      "    \"description\": \"Name of the event to be moved.\"\n",
      "  },\n",
      "  \"date\": {\n",
      "    \"type\": \"string\",\n",
      "    \"description\": \"Current date of the event to be moved. Use YYYY-MM-DD format.\"\n",
      "  },\n",
      "  \"time\": {\n",
      "    \"type\": \"string\",\n",
      "    \"description\": \"The time of the event to be moved. Use 12HR format, example: 10:00 AM.\"\n",
      "  },\n",
      "  \"new_date\": {\n",
      "    \"type\": \"string\",\n",
      "    \"description\": \"The date to which the event is to be moved. Use YYYY-MM-DD format.\"\n",
      "  },\n",
      "  \"new_time\": {\n",
      "    \"type\": \"string\",\n",
      "    \"description\": \"The time to which the event is to be moved. Use 12HR format, example: 10:00 AM.\"\n",
      "  }\n",
      "}\n"
     ]
    }
   ],
   "source": [
    "from langchain_core.runnables import RunnablePassthrough\n",
    "import formats\n",
    "\n",
    "lcel_chain = intent_prompt_template | model.llm | {'user_intent':RunnablePassthrough()} |update_prompt_template | model.llm \n",
    "out = lcel_chain.invoke({\"user_query\":user_query})\n",
    "command = out.content\n",
    "\n",
    "lcel_chain_2 = update_json_template | model.llm \n",
    "out = lcel_chain_2.invoke({\"user_query\":user_query, \"user_calendar\":calendar, \"time\":methods.current_time, \"format\": formats.getFormat(command)[0]['parameters']['properties']})\n",
    "print(out.content)"
   ]
  },
  {
   "cell_type": "markdown",
   "metadata": {},
   "source": [
    "### Format JSON"
   ]
  },
  {
   "cell_type": "code",
   "execution_count": 5,
   "metadata": {},
   "outputs": [
    {
     "name": "stdout",
     "output_type": "stream",
     "text": [
      "{'name': {'type': 'string', 'description': 'Name of the event to be moved.'}, 'date': {'type': 'string', 'description': 'Current date of the event to be moved. Use YYYY-MM-DD format.'}, 'time': {'type': 'string', 'description': 'The time of the event to be moved. Use 12HR format, example: 10:00 AM.'}, 'new_date': {'type': 'string', 'description': 'The date to which the event is to be moved. Use YYYY-MM-DD format.'}, 'new_time': {'type': 'string', 'description': 'The time to which the event is to be moved. Use 12HR format, example: 10:00 AM.'}}\n"
     ]
    },
    {
     "ename": "ValueError",
     "evalue": "time data \"{'type': 'string', 'description': 'Current date of the event to be moved. Use YYYY-MM-DD format.'} {'type': 'string', 'description': 'The time of the event to be moved. Use 12HR format, example: 10:00 AM.'}\" does not match format '%Y-%m-%d %I:%M %p'",
     "output_type": "error",
     "traceback": [
      "\u001b[0;31m---------------------------------------------------------------------------\u001b[0m",
      "\u001b[0;31mValueError\u001b[0m                                Traceback (most recent call last)",
      "Cell \u001b[0;32mIn[5], line 6\u001b[0m\n\u001b[1;32m      3\u001b[0m json_response \u001b[38;5;241m=\u001b[39m json\u001b[38;5;241m.\u001b[39mloads(out\u001b[38;5;241m.\u001b[39mcontent)\n\u001b[1;32m      4\u001b[0m \u001b[38;5;28mprint\u001b[39m(json_response)\n\u001b[0;32m----> 6\u001b[0m \u001b[43mmethods\u001b[49m\u001b[38;5;241;43m.\u001b[39;49m\u001b[43mmoveEvent\u001b[49m\u001b[43m(\u001b[49m\u001b[43mjson_response\u001b[49m\u001b[43m)\u001b[49m\n",
      "File \u001b[0;32m~/Documents/GitHub/EECS545/fully working/methods.py:198\u001b[0m, in \u001b[0;36mmoveEvent\u001b[0;34m(event_details)\u001b[0m\n\u001b[1;32m    193\u001b[0m service \u001b[38;5;241m=\u001b[39m get_google_calendar_service()\n\u001b[1;32m    195\u001b[0m \u001b[38;5;28;01mif\u001b[39;00m (\n\u001b[1;32m    196\u001b[0m     date \u001b[38;5;129;01mand\u001b[39;00m time\n\u001b[1;32m    197\u001b[0m ):  \u001b[38;5;66;03m# Eg: move my meeting on 2021-08-20 at 10:00 to 2021-08-21 at 11:00\u001b[39;00m\n\u001b[0;32m--> 198\u001b[0m     current_datetime \u001b[38;5;241m=\u001b[39m \u001b[43mdatetime\u001b[49m\u001b[38;5;241;43m.\u001b[39;49m\u001b[43mstrptime\u001b[49m\u001b[43m(\u001b[49m\u001b[38;5;124;43mf\u001b[39;49m\u001b[38;5;124;43m\"\u001b[39;49m\u001b[38;5;132;43;01m{\u001b[39;49;00m\u001b[43mdate\u001b[49m\u001b[38;5;132;43;01m}\u001b[39;49;00m\u001b[38;5;124;43m \u001b[39;49m\u001b[38;5;132;43;01m{\u001b[39;49;00m\u001b[43mtime\u001b[49m\u001b[38;5;132;43;01m}\u001b[39;49;00m\u001b[38;5;124;43m\"\u001b[39;49m\u001b[43m,\u001b[49m\u001b[43m \u001b[49m\u001b[38;5;124;43m\"\u001b[39;49m\u001b[38;5;124;43m%\u001b[39;49m\u001b[38;5;124;43mY-\u001b[39;49m\u001b[38;5;124;43m%\u001b[39;49m\u001b[38;5;124;43mm-\u001b[39;49m\u001b[38;5;132;43;01m%d\u001b[39;49;00m\u001b[38;5;124;43m \u001b[39;49m\u001b[38;5;124;43m%\u001b[39;49m\u001b[38;5;124;43mI:\u001b[39;49m\u001b[38;5;124;43m%\u001b[39;49m\u001b[38;5;124;43mM \u001b[39;49m\u001b[38;5;124;43m%\u001b[39;49m\u001b[38;5;124;43mp\u001b[39;49m\u001b[38;5;124;43m\"\u001b[39;49m\u001b[43m)\u001b[49m\n\u001b[1;32m    199\u001b[0m \u001b[38;5;28;01melif\u001b[39;00m time:  \u001b[38;5;66;03m# Eg: move my meeting at 10:00 to 11:00\u001b[39;00m\n\u001b[1;32m    200\u001b[0m     current_datetime \u001b[38;5;241m=\u001b[39m datetime\u001b[38;5;241m.\u001b[39mnow()\u001b[38;5;241m.\u001b[39mreplace(hour\u001b[38;5;241m=\u001b[39m\u001b[38;5;28mint\u001b[39m(time\u001b[38;5;241m.\u001b[39msplit(\u001b[38;5;124m\"\u001b[39m\u001b[38;5;124m:\u001b[39m\u001b[38;5;124m\"\u001b[39m)[\u001b[38;5;241m0\u001b[39m]))\n",
      "File \u001b[0;32m~/miniconda3/lib/python3.11/_strptime.py:567\u001b[0m, in \u001b[0;36m_strptime_datetime\u001b[0;34m(cls, data_string, format)\u001b[0m\n\u001b[1;32m    564\u001b[0m \u001b[38;5;28;01mdef\u001b[39;00m \u001b[38;5;21m_strptime_datetime\u001b[39m(\u001b[38;5;28mcls\u001b[39m, data_string, \u001b[38;5;28mformat\u001b[39m\u001b[38;5;241m=\u001b[39m\u001b[38;5;124m\"\u001b[39m\u001b[38;5;132;01m%a\u001b[39;00m\u001b[38;5;124m \u001b[39m\u001b[38;5;124m%\u001b[39m\u001b[38;5;124mb \u001b[39m\u001b[38;5;132;01m%d\u001b[39;00m\u001b[38;5;124m \u001b[39m\u001b[38;5;124m%\u001b[39m\u001b[38;5;124mH:\u001b[39m\u001b[38;5;124m%\u001b[39m\u001b[38;5;124mM:\u001b[39m\u001b[38;5;124m%\u001b[39m\u001b[38;5;124mS \u001b[39m\u001b[38;5;124m%\u001b[39m\u001b[38;5;124mY\u001b[39m\u001b[38;5;124m\"\u001b[39m):\n\u001b[1;32m    565\u001b[0m \u001b[38;5;250m    \u001b[39m\u001b[38;5;124;03m\"\"\"Return a class cls instance based on the input string and the\u001b[39;00m\n\u001b[1;32m    566\u001b[0m \u001b[38;5;124;03m    format string.\"\"\"\u001b[39;00m\n\u001b[0;32m--> 567\u001b[0m     tt, fraction, gmtoff_fraction \u001b[38;5;241m=\u001b[39m \u001b[43m_strptime\u001b[49m\u001b[43m(\u001b[49m\u001b[43mdata_string\u001b[49m\u001b[43m,\u001b[49m\u001b[43m \u001b[49m\u001b[38;5;28;43mformat\u001b[39;49m\u001b[43m)\u001b[49m\n\u001b[1;32m    568\u001b[0m     tzname, gmtoff \u001b[38;5;241m=\u001b[39m tt[\u001b[38;5;241m-\u001b[39m\u001b[38;5;241m2\u001b[39m:]\n\u001b[1;32m    569\u001b[0m     args \u001b[38;5;241m=\u001b[39m tt[:\u001b[38;5;241m6\u001b[39m] \u001b[38;5;241m+\u001b[39m (fraction,)\n",
      "File \u001b[0;32m~/miniconda3/lib/python3.11/_strptime.py:349\u001b[0m, in \u001b[0;36m_strptime\u001b[0;34m(data_string, format)\u001b[0m\n\u001b[1;32m    347\u001b[0m found \u001b[38;5;241m=\u001b[39m format_regex\u001b[38;5;241m.\u001b[39mmatch(data_string)\n\u001b[1;32m    348\u001b[0m \u001b[38;5;28;01mif\u001b[39;00m \u001b[38;5;129;01mnot\u001b[39;00m found:\n\u001b[0;32m--> 349\u001b[0m     \u001b[38;5;28;01mraise\u001b[39;00m \u001b[38;5;167;01mValueError\u001b[39;00m(\u001b[38;5;124m\"\u001b[39m\u001b[38;5;124mtime data \u001b[39m\u001b[38;5;132;01m%r\u001b[39;00m\u001b[38;5;124m does not match format \u001b[39m\u001b[38;5;132;01m%r\u001b[39;00m\u001b[38;5;124m\"\u001b[39m \u001b[38;5;241m%\u001b[39m\n\u001b[1;32m    350\u001b[0m                      (data_string, \u001b[38;5;28mformat\u001b[39m))\n\u001b[1;32m    351\u001b[0m \u001b[38;5;28;01mif\u001b[39;00m \u001b[38;5;28mlen\u001b[39m(data_string) \u001b[38;5;241m!=\u001b[39m found\u001b[38;5;241m.\u001b[39mend():\n\u001b[1;32m    352\u001b[0m     \u001b[38;5;28;01mraise\u001b[39;00m \u001b[38;5;167;01mValueError\u001b[39;00m(\u001b[38;5;124m\"\u001b[39m\u001b[38;5;124munconverted data remains: \u001b[39m\u001b[38;5;132;01m%s\u001b[39;00m\u001b[38;5;124m\"\u001b[39m \u001b[38;5;241m%\u001b[39m\n\u001b[1;32m    353\u001b[0m                       data_string[found\u001b[38;5;241m.\u001b[39mend():])\n",
      "\u001b[0;31mValueError\u001b[0m: time data \"{'type': 'string', 'description': 'Current date of the event to be moved. Use YYYY-MM-DD format.'} {'type': 'string', 'description': 'The time of the event to be moved. Use 12HR format, example: 10:00 AM.'}\" does not match format '%Y-%m-%d %I:%M %p'"
     ]
    }
   ],
   "source": [
    "import json\n",
    "\n",
    "json_response = json.loads(out.content)\n",
    "print(json_response)\n",
    "\n",
    "methods.moveEvent(json_response)"
   ]
  }
 ],
 "metadata": {
  "kernelspec": {
   "display_name": "base",
   "language": "python",
   "name": "python3"
  },
  "language_info": {
   "codemirror_mode": {
    "name": "ipython",
    "version": 3
   },
   "file_extension": ".py",
   "mimetype": "text/x-python",
   "name": "python",
   "nbconvert_exporter": "python",
   "pygments_lexer": "ipython3",
   "version": "3.11.8"
  }
 },
 "nbformat": 4,
 "nbformat_minor": 2
}
