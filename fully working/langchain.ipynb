{
 "cells": [
  {
   "cell_type": "markdown",
   "metadata": {},
   "source": [
    "### Get the User's Desired LLM"
   ]
  },
  {
   "cell_type": "code",
   "execution_count": 1,
   "metadata": {},
   "outputs": [
    {
     "name": "stdout",
     "output_type": "stream",
     "text": [
      "Please input your choice of LLM\n",
      "You have chosen ChatGPT\n"
     ]
    }
   ],
   "source": [
    "import langchain_test as lt \n",
    "import methods\n",
    "\n",
    "model = lt.get_user_choice()\n",
    "print(\"You have chosen\", model.name)"
   ]
  },
  {
   "cell_type": "markdown",
   "metadata": {},
   "source": [
    "### Get User's Calendar"
   ]
  },
  {
   "cell_type": "code",
   "execution_count": 2,
   "metadata": {},
   "outputs": [
    {
     "name": "stdout",
     "output_type": "stream",
     "text": [
      "What change would you like to make to your calendar\n"
     ]
    }
   ],
   "source": [
    "calendar = methods.get_calendar()\n",
    "user_query = lt.get_user_query()"
   ]
  },
  {
   "cell_type": "markdown",
   "metadata": {},
   "source": [
    "### Set Up Prompts "
   ]
  },
  {
   "cell_type": "code",
   "execution_count": 17,
   "metadata": {},
   "outputs": [],
   "source": [
    "from langchain_core.prompts import ChatPromptTemplate\n",
    "\n",
    "intent_prompt_template = ChatPromptTemplate.from_messages([\n",
    "    (\"system\", \"The user's calendar is {user_calendar}\"),\n",
    "    (\"system\", \"Here is the current time - {time}\"),\n",
    "    (\"human\", \"Identify the type of query that the following query is: {user_query}. Your response should be a single word that describes the intent of the query, and should be one of the following: createEvent, moveEvent, deleteEvent, checkSchedule, listEvents, updateEvent.\"),\n",
    "])\n",
    "\n",
    "update_prompt_template = ChatPromptTemplate.from_messages([\n",
    "    (\"system\", \"append _format to the following user intent - {user_intent}\"),\n",
    "    (\"system\", \"Only output the appended word. Your answer should be one word in the following format: userintent_format\")\n",
    "])\n",
    "\n",
    "update_json_template = ChatPromptTemplate.from_messages([\n",
    "    (\"system\", \"Use the current time and user's calendar to update the following format - {format}\"),\n",
    "    (\"human\", \"What was the original query\")\n",
    "])"
   ]
  },
  {
   "cell_type": "markdown",
   "metadata": {},
   "source": [
    "### Build The Chain"
   ]
  },
  {
   "cell_type": "code",
   "execution_count": 18,
   "metadata": {},
   "outputs": [
    {
     "name": "stdout",
     "output_type": "stream",
     "text": [
      "LCEL: updateEvent_format\n"
     ]
    }
   ],
   "source": [
    "from langchain_core.runnables import RunnablePassthrough\n",
    "import formats\n",
    "\n",
    "lcel_chain = intent_prompt_template | model.llm | {'user_intent':RunnablePassthrough()} |update_prompt_template | model.llm | {'format':RunnablePassthrough()} | update_json_template | model.llm\n",
    "\n",
    "out = lcel_chain.invoke({\"user_calendar\":calendar, \"time\":methods.current_time, \"user_query\":user_query})\n",
    "print(\"LCEL:\", out.content)"
   ]
  }
 ],
 "metadata": {
  "kernelspec": {
   "display_name": "base",
   "language": "python",
   "name": "python3"
  },
  "language_info": {
   "codemirror_mode": {
    "name": "ipython",
    "version": 3
   },
   "file_extension": ".py",
   "mimetype": "text/x-python",
   "name": "python",
   "nbconvert_exporter": "python",
   "pygments_lexer": "ipython3",
   "version": "3.11.8"
  }
 },
 "nbformat": 4,
 "nbformat_minor": 2
}
