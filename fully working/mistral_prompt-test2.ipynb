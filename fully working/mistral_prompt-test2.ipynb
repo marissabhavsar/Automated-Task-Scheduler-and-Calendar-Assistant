{
 "cells": [
  {
   "cell_type": "markdown",
   "metadata": {},
   "source": [
    "Extracting User's Google Calendar"
   ]
  },
  {
   "cell_type": "code",
   "execution_count": 1,
   "metadata": {},
   "outputs": [],
   "source": [
    "from google.oauth2.credentials import Credentials\n",
    "from google_auth_oauthlib.flow import InstalledAppFlow\n",
    "from google.auth.transport.requests import Request\n",
    "import googleapiclient.discovery\n",
    "import datetime"
   ]
  },
  {
   "cell_type": "code",
   "execution_count": 2,
   "metadata": {},
   "outputs": [],
   "source": [
    "%load_ext autoreload\n",
    "%autoreload 2"
   ]
  },
  {
   "cell_type": "code",
   "execution_count": 3,
   "metadata": {},
   "outputs": [
    {
     "name": "stdout",
     "output_type": "stream",
     "text": [
      "No tasks found.\n"
     ]
    }
   ],
   "source": [
    "import re\n",
    "import ollama\n",
    "import pandas as pd\n",
    "from ollama import Client\n",
    "from ollama import chat\n",
    "import methods\n",
    "import formats\n",
    "import json\n",
    "\n",
    "\n",
    "\n",
    "google_calendar = methods.get_google_calendar_service() #get the google calendar service\n",
    "tasks = methods.get_task_service() \n",
    "tasks_list = methods.extractTasks(tasks)\n",
    "calendar = methods.extractCalendar(google_calendar)\n",
    "now = methods.current_time()"
   ]
  },
  {
   "cell_type": "markdown",
   "metadata": {},
   "source": [
    "Logging Previous Conversation"
   ]
  },
  {
   "cell_type": "code",
   "execution_count": 4,
   "metadata": {},
   "outputs": [],
   "source": [
    "def log_activity(role, message):\n",
    "    filename = f\"activity_log.txt\"\n",
    "    with open(filename, \"a\") as file:\n",
    "        timestamp = datetime.datetime.now().isoformat()\n",
    "        file.write(f\"{timestamp} | {role}: {message}\\n\")"
   ]
  },
  {
   "cell_type": "code",
   "execution_count": 5,
   "metadata": {},
   "outputs": [],
   "source": [
    "def log_message(role, message):\n",
    "    filename = f\"conversation_log.txt\"\n",
    "    with open(filename, \"a\") as file:\n",
    "        timestamp = datetime.datetime.now().isoformat()\n",
    "        file.write(f\"{timestamp} | {role}: {message}\\n\")"
   ]
  },
  {
   "cell_type": "code",
   "execution_count": 6,
   "metadata": {},
   "outputs": [],
   "source": [
    "def get_past_conversation():\n",
    "    filename = f\"conversation_log.txt\"\n",
    "    try:\n",
    "        with open(filename, \"r\") as file:\n",
    "            return file.read()\n",
    "    except FileNotFoundError:\n",
    "        return \"\""
   ]
  },
  {
   "cell_type": "markdown",
   "metadata": {},
   "source": [
    "Get User's Query"
   ]
  },
  {
   "cell_type": "code",
   "execution_count": 7,
   "metadata": {},
   "outputs": [],
   "source": [
    "\n",
    "# schedule tasks or calendar events\n",
    "\n",
    "context = f\"Here's my calendar and To-Do list for the week, store it for your reference. Calendar: {calendar}\\n To-Do Tasks: {tasks_list} Today's date and time is: {now}\\n\"\n",
    "instruction = \"\"\"\\nAs my trusted virtual assistant, you are an expert in adeptly managing my calendar and assisting with scheduling tasks. Here is what I need from you:\n",
    "\n",
    "1. **Calendar Management**:\n",
    " You have the capability to create, adjust, oversee, list, update, delete, and handle recurring events on my calendar as per my requests.\n",
    "    - In situations where I don't provide enough information, you can ask for more details, upto 4 times, otherwise use your best judgement.\n",
    "    - Should an event require scheduling or rescheduling and I haven't provided a specific time, consult my calendar and deduce a suitable time slot using your best judgement. Consider my usual habits, such as meal and sleep times, and assume a standard event duration of 1 hour unless your judgement suggests otherwise based on the nature of the event.\n",
    "    - Before confirming any scheduling actions, scrutinize for any possible scheduling conflicts.\n",
    "    - Always ask for confirmation before making any changes to the calendar. If I reject the suggested time, offer an alternative time slot.\n",
    "    - Inform me when you have successfully completed your task and ensure there are no more pending queries from your end, otherwise always end with a question mark. \n",
    "   \n",
    "2. **Task Scheduling**:\n",
    "You have the capability to schedule tasks from my To-Do list into my calendar.\n",
    "    - Utilize your best judgement to organize and propose times for scheduling tasks listed in my To-Do list. Prioritize tasks based on urgency and balance throughout the available slots in my schedule.\n",
    "    - Verify the calendar to ensure a task isn't already scheduled before adding it.\n",
    "    - Check for any conflicts that may arise due to overlapping tasks or events.\n",
    "    - Present a thoughtful plan for the scheduled tasks. Use your best judgement to predict task durations based on the nature of each task.\n",
    "    - Ask for my confirmation before finalizing the schedule. \n",
    "    - If I disagree with the proposed times, offer alternatives based on my feedback.\n",
    "    - Always end your messages with a question mark to indicate that you are seeking a response from me, unless it's a confirmation of a task completion.\n",
    "\n",
    "For example, if I request: 'Schedule a meeting with the design team on Wednesday,' your response might be: 'Based on your current calendar, Wednesday 10 AM is available and seems like a quiet time for you. Should I schedule the meeting for then?' \n",
    "Example request: 'schedule all my tasks'\n",
    "Example response: 'Sure! Here's a proposed schedule for all your tasks. Is there anything you'd like to change?\n",
    "- Task 1: Apr 2nd, 10:00 AM - 11:00 AM\n",
    "- Task 2: Apr 2nd, 11:00 AM - 12:00 PM\n",
    "- Task 3: Apr 2nd, 12:00 PM - 1:00 PM\n",
    "Please perform the necessary actions using the Google Calendar API.\\n\n",
    "Here's the previous conversation with the user, read it and understand user preferences if any, use it to make your best judgement on scheduling.\\n\"\"\"\n",
    "# initial setup\n",
    "\n",
    "initial_prompt = context + instruction"
   ]
  },
  {
   "cell_type": "code",
   "execution_count": 8,
   "metadata": {},
   "outputs": [
    {
     "name": "stdout",
     "output_type": "stream",
     "text": [
      "Move my jog to day after tomorrow\n"
     ]
    }
   ],
   "source": [
    "user_request = input()\n",
    "combined_prompt = initial_prompt + \"\\nUser request: \" + user_request\n"
   ]
  },
  {
   "cell_type": "code",
   "execution_count": 9,
   "metadata": {},
   "outputs": [],
   "source": [
    "def mistral(client, messages):\n",
    "    response = ollama.chat(model='mistral', messages=messages)\n",
    "    return response['message']['content']\n",
    "\n",
    "messages = [\n",
    "    {\n",
    "        \"role\": \"system\",\n",
    "        \"content\": initial_prompt\n",
    "    },\n",
    "    {\n",
    "        \"role\": \"user\",\n",
    "        \"content\": user_request\n",
    "    }\n",
    "]\n",
    "\n",
    "log_activity(\"system\", context+instruction)\n",
    "log_activity(\"user\", user_request)\n",
    "\n",
    "log_message(\"user\", user_request)"
   ]
  },
  {
   "cell_type": "code",
   "execution_count": 11,
   "metadata": {},
   "outputs": [
    {
     "data": {
      "text/plain": [
       "{'status': 'success'}"
      ]
     },
     "execution_count": 11,
     "metadata": {},
     "output_type": "execute_result"
    }
   ],
   "source": [
    "ollama.pull(\"mistral\")"
   ]
  },
  {
   "cell_type": "code",
   "execution_count": 12,
   "metadata": {},
   "outputs": [
    {
     "name": "stdout",
     "output_type": "stream",
     "text": [
      " Based on your preference for working out every day and the current calendar showing no conflicts, I propose moving your jog event to the day after tomorrow at its regular time of 6:30 AM. Is this a suitable suggestion for you?\n",
      "yes\n",
      " I have moved your jog event to the day after tomorrow at 6:30 AM as per your instructions. There are no conflicts in your calendar at that time. Let me know if there's anything else you need assistance with or any other tasks that can be scheduled for now.\n",
      "\n",
      "Is there a specific task you would like to schedule next? If not, I'll wait here for your further instruction or request.\n",
      "\n",
      "[Your assistant]\n",
      "no\n",
      " Understood. In that case, I will remain on standby and await any tasks or requests you may have in the future. Have a productive day!\n",
      "\n",
      "Is there anything else you would like me to do before we conclude our session? If not, I'll sign off for now.\n",
      "\n",
      "Your assistant[question mark]\n",
      "no\n",
      " Alright then, I will be here whenever you need assistance with managing your calendar or scheduling tasks. Don't hesitate to reach out if anything comes up or if there are any new tasks that need attention.\n",
      "\n",
      "Take care and have a great day!\n",
      "\n",
      "Your assistant[question mark]\n"
     ]
    }
   ],
   "source": [
    "finalized_response = False\n",
    "client = Client(host='http://localhost:11434')\n",
    "#establishing feedback loop to chat with user\n",
    "while not finalized_response:\n",
    "    response = mistral(client, messages)\n",
    "    log_activity(\"assistant\", response)\n",
    "    print(response)\n",
    "    log_message(\"assistant\", response)\n",
    "    messages.append({\n",
    "        \"role\": \"assistant\",\n",
    "        \"content\": response\n",
    "    })\n",
    "    if re.compile(r'\\?').search(response):\n",
    "        finalized_response = False\n",
    "        user_feedback = input()\n",
    "        messages.append({\n",
    "            \"role\": \"user\",\n",
    "            \"content\": user_feedback\n",
    "        })\n",
    "        log_message(\"user\", user_feedback)\n",
    "        log_activity(\"user\", user_feedback)\n",
    "    else:\n",
    "        finalized_response = True\n"
   ]
  },
  {
   "cell_type": "code",
   "execution_count": 13,
   "metadata": {},
   "outputs": [],
   "source": [
    "#get GPT to output the function calls I need to make to the calendar API\n",
    "instruction2 = \"\"\"\\nBased on the user's request you've just processed, please output the appropriate function call(s) to interact with the Google Calendar API. Format your response as a single string containing one or more function calls separated by semicolons. Do not include explanations or additional text.\n",
    "All dates should be in 'YYYY-MM-DD' format, and times should be in 24-hour format 'HH:MM'. Additionally, assume default duration as 1 hour for any event. Use createEvent for scheduling tasks on the to-do list.\n",
    "Available function templates to include in the response string:\n",
    "- createEvent(description, date, time, duration)\n",
    "- moveEvent(event_id, new_date, new_time)\n",
    "- updateEvent(event_id, new_color, new_duration, new_location)\n",
    "- deleteEvent(event_id)\n",
    "- createRecurringEvent(description, start_date, time, duration, frequency, until_date). Frequency can have the value of DAILY, WEEKLY, MONTHLY, YEARLY.\n",
    "- deleteRecurringEvent(recurring_event_id) \n",
    "- updateRecurringEvent(recurring_event_id, new_color, new_duration, new_location, new_frequency, new_until)\n",
    "For all functions other than createEvent and createRecurringEvent, make sure to fill in the id of the event you are referring to from the calendar provided.\n",
    "Make sure to fill in the required information, such as event names, dates, times, etc., based on the user's request context. Replace placeholders like 'today' or 'tomorrow' with specific dates in the format YYYY-MM-DD. If more details are needed from the user for a function call, use your best judgment to complete the function with the information available.\n",
    "\n",
    "Example input5: 'Move my team meeting to tomorrow at 12pm'\n",
    "Example output5: 'moveEvent(\"event_id\", 'YYYY-MM-DD', '12:00')'\n",
    "fill the input of the fucntion based on previous response of the assistant\n",
    "\n",
    "Now, please generate the necessary function call(s) based on the user's request.\"\"\""
   ]
  },
  {
   "cell_type": "code",
   "execution_count": 14,
   "metadata": {},
   "outputs": [
    {
     "name": "stdout",
     "output_type": "stream",
     "text": [
      " moveEvent(\"nr1nvn7mkenn49rghqegm1vhl8\", \"2024-04-21\", \"06:30\")\n"
     ]
    }
   ],
   "source": [
    "messages.append({\n",
    "    \"role\": \"system\",\n",
    "    \"content\": instruction2}\n",
    ")\n",
    "log_activity(\"system\", instruction2)\n",
    "function_call = mistral(client, messages)\n",
    "log_activity(\"assistant\", function_call)\n",
    "print(function_call)"
   ]
  },
  {
   "cell_type": "code",
   "execution_count": 16,
   "metadata": {},
   "outputs": [
    {
     "data": {
      "text/plain": [
       "[{'role': 'system',\n",
       "  'content': \"Here's my calendar and To-Do list for the week, store it for your reference. Calendar: {'name': 'Jog', 'datetime_start': '2024-04-19T06:30:00-04:00', 'datetime_end': '2024-04-19T07:30:00-04:00', 'id': 'nr1nvn7mkenn49rghqegm1vhl8'}\\n{'name': 'meeting', 'datetime_start': '2024-04-19T12:00:00-04:00', 'datetime_end': '2024-04-19T13:00:00-04:00', 'id': '6gnbk2dhgharjj429amrrh4m14'}\\n\\n To-Do Tasks:  Today's date and time is: 2024-04-18T15:30:57.335493Z\\n\\nAs my trusted virtual assistant, you are an expert in adeptly managing my calendar and assisting with scheduling tasks. Here is what I need from you:\\n\\n1. **Calendar Management**:\\n You have the capability to create, adjust, oversee, list, update, delete, and handle recurring events on my calendar as per my requests.\\n    - In situations where I don't provide enough information, you can ask for more details, upto 4 times, otherwise use your best judgement.\\n    - Should an event require scheduling or rescheduling and I haven't provided a specific time, consult my calendar and deduce a suitable time slot using your best judgement. Consider my usual habits, such as meal and sleep times, and assume a standard event duration of 1 hour unless your judgement suggests otherwise based on the nature of the event.\\n    - Before confirming any scheduling actions, scrutinize for any possible scheduling conflicts.\\n    - Always ask for confirmation before making any changes to the calendar. If I reject the suggested time, offer an alternative time slot.\\n    - Inform me when you have successfully completed your task and ensure there are no more pending queries from your end, otherwise always end with a question mark. \\n   \\n2. **Task Scheduling**:\\nYou have the capability to schedule tasks from my To-Do list into my calendar.\\n    - Utilize your best judgement to organize and propose times for scheduling tasks listed in my To-Do list. Prioritize tasks based on urgency and balance throughout the available slots in my schedule.\\n    - Verify the calendar to ensure a task isn't already scheduled before adding it.\\n    - Check for any conflicts that may arise due to overlapping tasks or events.\\n    - Present a thoughtful plan for the scheduled tasks. Use your best judgement to predict task durations based on the nature of each task.\\n    - Ask for my confirmation before finalizing the schedule. \\n    - If I disagree with the proposed times, offer alternatives based on my feedback.\\n    - Always end your messages with a question mark to indicate that you are seeking a response from me, unless it's a confirmation of a task completion.\\n\\nFor example, if I request: 'Schedule a meeting with the design team on Wednesday,' your response might be: 'Based on your current calendar, Wednesday 10 AM is available and seems like a quiet time for you. Should I schedule the meeting for then?' \\nExample request: 'schedule all my tasks'\\nExample response: 'Sure! Here's a proposed schedule for all your tasks. Is there anything you'd like to change?\\n- Task 1: Apr 2nd, 10:00 AM - 11:00 AM\\n- Task 2: Apr 2nd, 11:00 AM - 12:00 PM\\n- Task 3: Apr 2nd, 12:00 PM - 1:00 PM\\nPlease perform the necessary actions using the Google Calendar API.\\n\\nHere's the previous conversation with the user, read it and understand user preferences if any, use it to make your best judgement on scheduling.\\n\"},\n",
       " {'role': 'user', 'content': 'Move my jog to day after tomorrow'},\n",
       " {'role': 'assistant',\n",
       "  'content': ' Based on your preference for working out every day and the current calendar showing no conflicts, I propose moving your jog event to the day after tomorrow at its regular time of 6:30 AM. Is this a suitable suggestion for you?'},\n",
       " {'role': 'user', 'content': 'yes'},\n",
       " {'role': 'assistant',\n",
       "  'content': \" I have moved your jog event to the day after tomorrow at 6:30 AM as per your instructions. There are no conflicts in your calendar at that time. Let me know if there's anything else you need assistance with or any other tasks that can be scheduled for now.\\n\\nIs there a specific task you would like to schedule next? If not, I'll wait here for your further instruction or request.\\n\\n[Your assistant]\"},\n",
       " {'role': 'user', 'content': 'no'},\n",
       " {'role': 'assistant',\n",
       "  'content': \" Understood. In that case, I will remain on standby and await any tasks or requests you may have in the future. Have a productive day!\\n\\nIs there anything else you would like me to do before we conclude our session? If not, I'll sign off for now.\\n\\nYour assistant[question mark]\"},\n",
       " {'role': 'user', 'content': 'no'},\n",
       " {'role': 'assistant',\n",
       "  'content': \" Alright then, I will be here whenever you need assistance with managing your calendar or scheduling tasks. Don't hesitate to reach out if anything comes up or if there are any new tasks that need attention.\\n\\nTake care and have a great day!\\n\\nYour assistant[question mark]\"},\n",
       " {'role': 'system',\n",
       "  'content': '\\nBased on the user\\'s request you\\'ve just processed, please output the appropriate function call(s) to interact with the Google Calendar API. Format your response as a single string containing one or more function calls separated by semicolons. Do not include explanations or additional text.\\nAll dates should be in \\'YYYY-MM-DD\\' format, and times should be in 24-hour format \\'HH:MM\\'. Additionally, assume default duration as 1 hour for any event. Use createEvent for scheduling tasks on the to-do list.\\nAvailable function templates to include in the response string:\\n- createEvent(description, date, time, duration)\\n- moveEvent(event_id, new_date, new_time)\\n- updateEvent(event_id, new_color, new_duration, new_location)\\n- deleteEvent(event_id)\\n- createRecurringEvent(description, start_date, time, duration, frequency, until_date). Frequency can have the value of DAILY, WEEKLY, MONTHLY, YEARLY.\\n- deleteRecurringEvent(recurring_event_id) \\n- updateRecurringEvent(recurring_event_id, new_color, new_duration, new_location, new_frequency, new_until)\\nFor all functions other than createEvent and createRecurringEvent, make sure to fill in the id of the event you are referring to from the calendar provided.\\nMake sure to fill in the required information, such as event names, dates, times, etc., based on the user\\'s request context. Replace placeholders like \\'today\\' or \\'tomorrow\\' with specific dates in the format YYYY-MM-DD. If more details are needed from the user for a function call, use your best judgment to complete the function with the information available.\\n\\nExample input5: \\'Move my team meeting to tomorrow at 12pm\\'\\nExample output5: \\'moveEvent(\"event_id\", \\'YYYY-MM-DD\\', \\'12:00\\')\\'\\nfill the input of the fucntion based on previous response of the assistant\\n\\nNow, please generate the necessary function call(s) based on the user\\'s request.'}]"
      ]
     },
     "execution_count": 16,
     "metadata": {},
     "output_type": "execute_result"
    }
   ],
   "source": [
    "messages"
   ]
  },
  {
   "cell_type": "code",
   "execution_count": 15,
   "metadata": {},
   "outputs": [
    {
     "name": "stdout",
     "output_type": "stream",
     "text": [
      "['moveEvent(\"nr1nvn7mkenn49rghqegm1vhl8\", \"2024-04-21\", \"06:30\")']\n",
      "duration:  1:00:00\n",
      "UTC start time:  2024-04-21 10:30:00+00:00 UTC end time:  2024-04-21 11:30:00+00:00\n",
      "Event \"{'kind': 'calendar#event', 'etag': '\"3426934021454000\"', 'id': 'nr1nvn7mkenn49rghqegm1vhl8', 'status': 'confirmed', 'htmlLink': 'https://www.google.com/calendar/event?eid=bnIxbnZuN21rZW5uNDlyZ2hxZWdtMXZobDggeGluaHd1QHVtaWNoLmVkdQ', 'created': '2024-04-18T19:03:30.000Z', 'updated': '2024-04-18T19:03:30.727Z', 'summary': 'Jog', 'creator': {'email': 'xinhwu@umich.edu', 'self': True}, 'organizer': {'email': 'xinhwu@umich.edu', 'self': True}, 'start': {'dateTime': '2024-04-21T10:30:00+00:00', 'timeZone': 'UTC'}, 'end': {'dateTime': '2024-04-21T11:30:00+00:00', 'timeZone': 'UTC'}, 'iCalUID': 'nr1nvn7mkenn49rghqegm1vhl8@google.com', 'sequence': 0, 'reminders': {'useDefault': True}, 'eventType': 'default'}\" moved to 2024-04-21 06:30:00-04:00\n"
     ]
    }
   ],
   "source": [
    "if '(' in function_call:\n",
    "    function_calls = [line.strip() for line in function_call.split(';')]\n",
    "    print(function_calls)\n",
    "\n",
    "    # Define a dictionary mapping function names to their corresponding Python functions\n",
    "    functions = {\n",
    "        \"createEvent\": methods.createEvent,\n",
    "        \"moveEvent\": methods.moveEvent,\n",
    "        \"updateEvent\": methods.updateEvent,\n",
    "        \"deleteEvent\": methods.deleteEvent,\n",
    "        \"createRecurringEvent\": methods.createRecurringEvent,\n",
    "        \"updateRecurringEvent\": methods.updateRecurringEvent,\n",
    "        \"deleteRecurringEvent\": methods.deleteRecurringEvent,\n",
    "    }\n",
    "\n",
    "    # Iterate through the function calls\n",
    "    for call in function_calls:\n",
    "        # Split the string to extract function name and arguments\n",
    "        if call != '':\n",
    "            parts = call.split('(')\n",
    "            function_name = parts[0]\n",
    "            arguments = parts[1].rstrip(')').split(', ')\n",
    "\n",
    "        # Call the corresponding function with the provided arguments\n",
    "        if function_name in functions:\n",
    "            functions[function_name](*arguments)\n",
    "        else:\n",
    "            print(f\"Function '{function_name}' not found.\")"
   ]
  },
  {
   "cell_type": "code",
   "execution_count": null,
   "metadata": {},
   "outputs": [],
   "source": []
  }
 ],
 "metadata": {
  "kernelspec": {
   "display_name": "Python 3 (ipykernel)",
   "language": "python",
   "name": "python3"
  },
  "language_info": {
   "codemirror_mode": {
    "name": "ipython",
    "version": 3
   },
   "file_extension": ".py",
   "mimetype": "text/x-python",
   "name": "python",
   "nbconvert_exporter": "python",
   "pygments_lexer": "ipython3",
   "version": "3.11.5"
  }
 },
 "nbformat": 4,
 "nbformat_minor": 2
}
