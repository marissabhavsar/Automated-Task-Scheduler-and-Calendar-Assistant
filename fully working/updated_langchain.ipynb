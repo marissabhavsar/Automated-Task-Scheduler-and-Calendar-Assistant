{
 "cells": [
  {
   "cell_type": "markdown",
   "metadata": {},
   "source": [
    "### Get the User's Desired LLM"
   ]
  },
  {
   "cell_type": "code",
   "execution_count": 1,
   "metadata": {},
   "outputs": [
    {
     "name": "stdout",
     "output_type": "stream",
     "text": [
      "Please input your choice of LLM\n",
      "You have chosen ChatGPT\n"
     ]
    }
   ],
   "source": [
    "import langchain_methods as lt \n",
    "import methods\n",
    "\n",
    "calendar = methods.get_calendar()\n",
    "model = lt.get_user_choice(calendar)\n",
    "print(\"You have chosen\", model.name)"
   ]
  },
  {
   "cell_type": "markdown",
   "metadata": {},
   "source": [
    "### Set Up Prompts"
   ]
  },
  {
   "cell_type": "code",
   "execution_count": 5,
   "metadata": {},
   "outputs": [],
   "source": [
    "from langchain_core.prompts import PromptTemplate, ChatPromptTemplate\n",
    "\n",
    "set_up_prompt = PromptTemplate(input_variables=['entities', 'history', 'input'], template=\"\"\"You are a virtual assistant powered by a large language model. You are an expert at managing the user’s Google Calendar. As a language model, you are able to generate human-like text based on the input you receive, allowing you to engage in natural-sounding conversations and provide responses that are coherent and relevant to the topic at hand.\\n\\nYou are constantly learning and improving, and your capabilities are constantly evolving. You are able to process and understand large amounts of text, interpret the user’s calendar and can use this knowledge to provide accurate and informative responses and updates to their calendar. Specifically, you can create, move, check, list, update, delete, and handle recurring events based on the user’s request. If the user does not provide enough information for an update, reference the user’s calendar for more information. If you still need more information, you may ask the user up to three questions. If you still do not have enough information use your best judgement. Account for time conflicts and when the user normally sleeps. Always ask for confirmation before making any changes to the calendar. If the user doesn't agree, then generate another suitable time slot. When you are done, let the user know what change you made to the calendar. If you aren't done, end with a question mark.\n",
    "Format the update as a call to the Google Calendar API.\\n\\nContext:\\n{entities}\\n\\nCurrent conversation:\\n{history}\\nLast line:\\nHuman: {input}\\nYou:\"\"\")\n",
    "\n",
    "context = \"Today's date and time is + \" + methods.current_time() + \"Here's my calendar for the week, store it for your reference.\" + calendar\n",
    "instruction = \"\"\"\\nAs my virtual assistant, you are an expert with managing the calendar.\n",
    "You can create, move, check, list, update, delete, and handle recurring events based on the user's requests.\n",
    "When the user doesn't provide enough information, you can ask for more details, upto 3 times. Otherwise use your best judgement. \n",
    "When the user wants to create an event or move an event and if the user hasn't specified when they want it scheduled, then refer to the calendar and use your best judgement to schedule the event. Keep in mind when the user would normally eat or sleep. Assume default duration for any event as 1 hour.\n",
    "Check for any conflicts before scheduling an event.\n",
    "Always ask for confirmation before making any changes to the calendar, if the user doesn't agree, if the user doesn't agree, then generate another suitable time slot.\n",
    "When you are done, please let the user know that the task has been completed, and don't ask any more questions. If you aren't done, end with a question mark.\n",
    "Please perform the necessary actions using the Google Calendar API.\\n\"\"\"\n",
    "\n",
    "# initial setup\n",
    "initial_prompt = context + instruction\n",
    "\n",
    "chat_template = ChatPromptTemplate.from_messages([\n",
    "    (\"human\", \"{user_query}\"),\n",
    "])"
   ]
  },
  {
   "cell_type": "code",
   "execution_count": 6,
   "metadata": {},
   "outputs": [
    {
     "name": "stdout",
     "output_type": "stream",
     "text": [
      "I'm unable to physically print your calendar, but I can certainly provide you with a summary of your events for the week. Would you like me to do that?\n"
     ]
    }
   ],
   "source": [
    "from langchain import ConversationChain\n",
    "\n",
    "conversation = ConversationChain(\n",
    "    llm=model.llm, \n",
    "    verbose=False,\n",
    "    memory=model.memory\n",
    ")\n",
    "\n",
    "print(initial_prompt)\n",
    "\n",
    "conversation.predict(input=initial_prompt)\n",
    "user_input = input()\n",
    "while user_input != \"!\":\n",
    "    response =  conversation.predict(input=user_input)\n",
    "    print(response)\n",
    "    user_input = input()\n",
    "\n",
    "print(model.memory.entity_cache)"
   ]
  }
 ],
 "metadata": {
  "kernelspec": {
   "display_name": "Python 3",
   "language": "python",
   "name": "python3"
  },
  "language_info": {
   "codemirror_mode": {
    "name": "ipython",
    "version": 3
   },
   "file_extension": ".py",
   "mimetype": "text/x-python",
   "name": "python",
   "nbconvert_exporter": "python",
   "pygments_lexer": "ipython3",
   "version": "3.11.8"
  }
 },
 "nbformat": 4,
 "nbformat_minor": 2
}
