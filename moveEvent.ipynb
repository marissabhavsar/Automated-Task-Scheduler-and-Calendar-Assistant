{
 "cells": [
  {
   "cell_type": "code",
   "execution_count": 57,
   "metadata": {},
   "outputs": [],
   "source": [
    "import spacy\n",
    "from datetime import datetime, timedelta\n"
   ]
  },
  {
   "cell_type": "code",
   "execution_count": 58,
   "metadata": {},
   "outputs": [],
   "source": [
    "from google.oauth2.credentials import Credentials\n",
    "from google_auth_oauthlib.flow import InstalledAppFlow\n",
    "from google.auth.transport.requests import Request\n",
    "import googleapiclient.discovery\n",
    "import os"
   ]
  },
  {
   "cell_type": "code",
   "execution_count": 59,
   "metadata": {},
   "outputs": [
    {
     "data": {
      "text/plain": [
       "<googleapiclient.discovery.Resource at 0x1d054b24090>"
      ]
     },
     "execution_count": 59,
     "metadata": {},
     "output_type": "execute_result"
    }
   ],
   "source": [
    "def get_google_calendar_service():\n",
    "    # Set up the Google Calendar API credentials (you need to replace 'token.json' with your token file)\n",
    "    creds = None\n",
    "    SCOPES = ['https://www.googleapis.com/auth/calendar']\n",
    "\n",
    "    if os.path.exists('token.json'):\n",
    "        creds = Credentials.from_authorized_user_file('token.json')\n",
    "\n",
    "    if not creds or not creds.valid:\n",
    "        if creds and creds.expired and creds.refresh_token:\n",
    "            creds.refresh(Request())\n",
    "        else:\n",
    "            flow = InstalledAppFlow.from_client_secrets_file(\n",
    "                'credentials.json', SCOPES)\n",
    "            creds = flow.run_local_server(port=0)\n",
    "\n",
    "        with open('token.json', 'w') as token:\n",
    "            token.write(creds.to_json())\n",
    "\n",
    "    # Build and return the Google Calendar API service\n",
    "    service = googleapiclient.discovery.build('calendar', 'v3', credentials=creds)\n",
    "    return service\n",
    "\n",
    "get_google_calendar_service()"
   ]
  },
  {
   "cell_type": "code",
   "execution_count": 60,
   "metadata": {},
   "outputs": [
    {
     "name": "stdout",
     "output_type": "stream",
     "text": [
      "2024-03-11T09:00:00-04:00 EECS 545\n",
      "2024-03-11T14:30:00-04:00 STATS 426\n",
      "2024-03-12T16:00:00-04:00 SI 649\n",
      "2024-03-13T09:00:00-04:00 EECS 545\n",
      "2024-03-13T14:30:00-04:00 STATS 426\n",
      "2024-03-13T16:00:00-04:00 SI 649 - DIS\n",
      "2024-03-14T12:00:00-04:00 Company Day\n",
      "2024-03-14T13:00:00-04:00 Dwaine Campbell\n",
      "2024-03-18T09:00:00-04:00 EECS 545\n",
      "2024-03-18T14:30:00-04:00 STATS 426\n"
     ]
    }
   ],
   "source": [
    "def get_events():\n",
    "    # Call the Calendar API\n",
    "    service = get_google_calendar_service()\n",
    "    now = datetime.utcnow().isoformat() + 'Z'  # 'Z' indicates UTC time\n",
    "    events_result = service.events().list(calendarId='primary', timeMin=now,\n",
    "                                          maxResults=10, singleEvents=True,\n",
    "                                          orderBy='startTime').execute()\n",
    "    events = events_result.get('items', [])\n",
    "\n",
    "    if not events:\n",
    "        print('No upcoming events found.')\n",
    "    for event in events:\n",
    "        start = event['start'].get('dateTime', event['start'].get('date'))\n",
    "        print(start, event['summary'])\n",
    "get_events()"
   ]
  },
  {
   "cell_type": "code",
   "execution_count": 63,
   "metadata": {},
   "outputs": [],
   "source": [
    "def moveEvent(event_details):\n",
    "    event_title = event_details.get('name', '')\n",
    "    date = event_details.get('date', '')\n",
    "    time = event_details.get('time', '')\n",
    "    new_date = event_details.get('new_date', '')\n",
    "    new_time = event_details.get('new_time', '')\n",
    "    service = get_google_calendar_service()\n",
    "\n",
    "    print(event_title, date, time)\n",
    "\n",
    "    if new_date and new_time:\n",
    "        new_datetime = datetime.strptime(f'{new_date} {new_time}', '%Y-%m-%d %I:%M %p')\n",
    "\n",
    "    elif new_time:\n",
    "        new_datetime = datetime.now().replace(hour=int(time.split(':')[0]), minute=int(time.split(':')[1]))\n",
    "    else:\n",
    "        #TODO: add subfunction to ask LLM for new date or time\n",
    "        print('Please provide a new date or time to move the event to.') \n",
    "        return\n",
    "    \n",
    "    if date and time:\n",
    "        current_datetime = datetime.strptime(f'{date} {time}', '%Y-%m-%d %I:%M %p')\n",
    "    elif time:\n",
    "        current_datetime = datetime.now().replace(hour=int(time.split(':')[0]), minute=int(time.split(':')[1]))\n",
    "    elif date:\n",
    "        current_datetime = datetime.strptime(date, '%Y-%m-%d').replace(hour=0, minute=0, second=0)\n",
    "\n",
    "    if not date and not time:   \n",
    "        now = datetime.utcnow().isoformat() + 'Z'\n",
    "        events_result = service.events().list(calendarId='primary', timeMin=now, orderBy='startTime', singleEvents=True, q=f'{event_title.lower()}').execute() #matches with mispelled event names or lower case\n",
    "        events = events_result.get('items', [])\n",
    "        if events:\n",
    "            event_to_move = events[0]\n",
    "        else:\n",
    "            print(f'Event \"{event_title}\" not found.')\n",
    "            return\n",
    "    else:\n",
    "        events_result = service.events().list(calendarId='primary', timeMin=current_datetime.isoformat()+'Z', orderBy='startTime', singleEvents=True, q=f'{event_title.lower()}').execute() #matches with mispelled event names or lower case\n",
    "        events = events_result.get('items', [])\n",
    "        if events:\n",
    "            event_to_move = events[0]\n",
    "        else:\n",
    "            print(f'Event \"{event_title}\" not found.')\n",
    "            return\n",
    "\n",
    "    print(event_to_move)\n",
    "    start_datetime = datetime.fromisoformat(event_to_move['start']['dateTime'])  \n",
    "    end_datetime = datetime.fromisoformat(event_to_move['end']['dateTime'])\n",
    "    event_duration = end_datetime - start_datetime\n",
    "    new_datetime_end = new_datetime + event_duration\n",
    "    event_to_move['start']['dateTime'] = new_datetime.isoformat()\n",
    "    event_to_move['end']['dateTime'] = new_datetime_end.isoformat()\n",
    "\n",
    "    # Update the event\n",
    "    updated_event = service.events().update(\n",
    "    calendarId='primary', eventId=event_to_move['id'], body=event_to_move).execute()\n",
    "\n",
    "    print(f'Event \"{event_title}\" moved to {updated_event[\"start\"][\"dateTime\"]}')\n",
    "\n",
    "   \n",
    "    #expand scope: queries like move all my meetings on saturday to monday\n",
    "    "
   ]
  },
  {
   "cell_type": "code",
   "execution_count": 66,
   "metadata": {},
   "outputs": [
    {
     "name": "stdout",
     "output_type": "stream",
     "text": [
      "EECS 2024-03-13 \n",
      "{'kind': 'calendar#event', 'etag': '\"3409717985262000\"', 'id': 'cdi3iophc8p38bb471i3cb9k6dgjab9occq36b9m60q3idr36dj64p1m6s_20240313T130000Z', 'status': 'confirmed', 'htmlLink': 'https://www.google.com/calendar/event?eid=Y2RpM2lvcGhjOHAzOGJiNDcxaTNjYjlrNmRnamFiOW9jY3EzNmI5bTYwcTNpZHIzNmRqNjRwMW02c18yMDI0MDMxM1QxMzAwMDBaIHNocml5YXNlQHVtaWNoLmVkdQ', 'created': '2024-01-10T03:56:11.000Z', 'updated': '2024-01-10T03:56:32.631Z', 'summary': 'EECS 545', 'location': 'STAMPS', 'colorId': '1', 'creator': {'email': 'shriyase@umich.edu', 'self': True}, 'organizer': {'email': 'shriyase@umich.edu', 'self': True}, 'start': {'dateTime': '2024-03-13T09:00:00-04:00', 'timeZone': 'America/New_York'}, 'end': {'dateTime': '2024-03-13T10:30:00-04:00', 'timeZone': 'America/New_York'}, 'recurringEventId': 'cdi3iophc8p38bb471i3cb9k6dgjab9occq36b9m60q3idr36dj64p1m6s', 'originalStartTime': {'dateTime': '2024-03-13T09:00:00-04:00', 'timeZone': 'America/New_York'}, 'iCalUID': 'cdi3iophc8p38bb471i3cb9k6dgjab9occq36b9m60q3idr36dj64p1m6s@google.com', 'sequence': 0, 'reminders': {'useDefault': True}, 'eventType': 'default'}\n",
      "Event \"EECS\" moved to 2024-03-12T11:00:00-04:00\n"
     ]
    }
   ],
   "source": [
    "user_entities = {'name':'EECS', 'date':'2024-03-13', 'new_date':'2024-03-12', 'new_time':'11:00 AM'}\n",
    "moveEvent(user_entities) \n",
    "\n",
    "#issue: doesn't work when name partially matches "
   ]
  }
 ],
 "metadata": {
  "kernelspec": {
   "display_name": "venv",
   "language": "python",
   "name": "python3"
  },
  "language_info": {
   "codemirror_mode": {
    "name": "ipython",
    "version": 3
   },
   "file_extension": ".py",
   "mimetype": "text/x-python",
   "name": "python",
   "nbconvert_exporter": "python",
   "pygments_lexer": "ipython3",
   "version": "3.11.7"
  }
 },
 "nbformat": 4,
 "nbformat_minor": 2
}
