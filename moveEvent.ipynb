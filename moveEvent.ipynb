{
 "cells": [
  {
   "cell_type": "code",
   "execution_count": 17,
   "metadata": {},
   "outputs": [],
   "source": [
    "import spacy\n",
    "from datetime import datetime, timedelta\n"
   ]
  },
  {
   "cell_type": "code",
   "execution_count": 18,
   "metadata": {},
   "outputs": [],
   "source": [
    "from google.oauth2.credentials import Credentials\n",
    "from google_auth_oauthlib.flow import InstalledAppFlow\n",
    "from google.auth.transport.requests import Request\n",
    "import googleapiclient.discovery\n",
    "import os"
   ]
  },
  {
   "cell_type": "code",
   "execution_count": 19,
   "metadata": {},
   "outputs": [
    {
     "data": {
      "text/plain": [
       "<googleapiclient.discovery.Resource at 0x2472fdaf3d0>"
      ]
     },
     "execution_count": 19,
     "metadata": {},
     "output_type": "execute_result"
    }
   ],
   "source": [
    "def get_google_calendar_service():\n",
    "    # Set up the Google Calendar API credentials (you need to replace 'token.json' with your token file)\n",
    "    creds = None\n",
    "    SCOPES = ['https://www.googleapis.com/auth/calendar']\n",
    "\n",
    "    if os.path.exists('token.json'):\n",
    "        creds = Credentials.from_authorized_user_file('token.json')\n",
    "\n",
    "    if not creds or not creds.valid:\n",
    "        if creds and creds.expired and creds.refresh_token:\n",
    "            creds.refresh(Request())\n",
    "        else:\n",
    "            flow = InstalledAppFlow.from_client_secrets_file(\n",
    "                'credentials.json', SCOPES)\n",
    "            creds = flow.run_local_server(port=0)\n",
    "\n",
    "        with open('token.json', 'w') as token:\n",
    "            token.write(creds.to_json())\n",
    "\n",
    "    # Build and return the Google Calendar API service\n",
    "    service = googleapiclient.discovery.build('calendar', 'v3', credentials=creds)\n",
    "    return service\n",
    "\n",
    "get_google_calendar_service()"
   ]
  },
  {
   "cell_type": "code",
   "execution_count": 21,
   "metadata": {},
   "outputs": [
    {
     "name": "stdout",
     "output_type": "stream",
     "text": [
      "2024-03-11T09:00:00-04:00 EECS 545\n",
      "2024-03-11T14:30:00-04:00 STATS 426\n",
      "2024-03-12T11:00:00-04:00 EECS 545\n",
      "2024-03-12T16:00:00-04:00 SI 649\n",
      "2024-03-13T14:30:00-04:00 STATS 426\n",
      "2024-03-13T16:00:00-04:00 SI 649 - DIS\n",
      "2024-03-14T12:00:00-04:00 Company Day\n",
      "2024-03-14T13:00:00-04:00 Dwaine Campbell\n",
      "2024-03-18T09:00:00-04:00 EECS 545\n",
      "2024-03-18T14:30:00-04:00 STATS 426\n"
     ]
    }
   ],
   "source": [
    "def get_events():\n",
    "    # Call the Calendar API\n",
    "    service = get_google_calendar_service()\n",
    "    now = datetime.utcnow().isoformat() + 'Z'  # 'Z' indicates UTC time\n",
    "    events_result = service.events().list(calendarId='primary', timeMin=now,\n",
    "                                          maxResults=10, singleEvents=True,\n",
    "                                          orderBy='startTime').execute()\n",
    "    events = events_result.get('items', [])\n",
    "\n",
    "    if not events:\n",
    "        print('No upcoming events found.')\n",
    "    for event in events:\n",
    "        start = event['start'].get('dateTime', event['start'].get('date'))\n",
    "        print(start, event['summary'])\n",
    "get_events()"
   ]
  },
  {
   "cell_type": "code",
   "execution_count": 30,
   "metadata": {},
   "outputs": [],
   "source": [
    "def moveEvent(event_details):\n",
    "    event_title = event_details.get('name', '')\n",
    "    date = event_details.get('date', '')\n",
    "    time = event_details.get('time', '')\n",
    "    new_date = event_details.get('new_date', '')\n",
    "    new_time = event_details.get('new_time', '')\n",
    "    service = get_google_calendar_service()\n",
    "\n",
    "    if new_date and new_time: #if both new date and time are provided\n",
    "        new_datetime = datetime.strptime(f'{new_date} {new_time}', '%Y-%m-%d %I:%M %p')\n",
    "\n",
    "    elif new_time: #if only new time is provided\n",
    "        new_datetime = datetime.now().replace(hour=int(time.split(':')[0]), minute=int(time.split(':')[1]))\n",
    "    else: #if time is not provided, automated scheduling is done\n",
    "        #TODO: add subfunction to ask LLM for new date or time\n",
    "        print('Please specify the time to move the event to.') \n",
    "        return\n",
    "    \n",
    "    if date and time: #Eg: move my meeting on 2021-08-20 at 10:00 to 2021-08-21 at 11:00\n",
    "        current_datetime = datetime.strptime(f'{date} {time}', '%Y-%m-%d %I:%M %p')\n",
    "    elif time: #Eg: move my meeting at 10:00 to 11:00\n",
    "        current_datetime = datetime.now().replace(hour=int(time.split(':')[0]), minute=int(time.split(':')[1]))\n",
    "    elif date: #Eg: move my meeting on 2021-08-20 to 2021-08-21 at 11:00\n",
    "        current_datetime = datetime.strptime(date, '%Y-%m-%d').replace(hour=0, minute=0, second=0)\n",
    "\n",
    "    if not date and not time:  #Eg move my meeting to 11:00 \n",
    "        now = datetime.utcnow().isoformat() + 'Z'\n",
    "        events_result = service.events().list(calendarId='primary', timeMin=now, orderBy='startTime', singleEvents=True, q=f'{event_title.lower()}').execute() #matches with mispelled event names or lower case\n",
    "        events = events_result.get('items', [])\n",
    "        if events:\n",
    "            event_to_move = events[0]\n",
    "        else:\n",
    "            print(f'Event \"{event_title}\" not found.')\n",
    "            return\n",
    "    elif not event_title: #Eg: move my 2pm to monday 11am\n",
    "        events_result = service.events().list(calendarId='primary', timeMin=current_datetime, timeMax= (new_datetime + timedelta(hours=1)).isoformat(), orderBy='startTime', singleEvents=True).execute()\n",
    "        events = events_result.get('items', [])\n",
    "        if events:\n",
    "            event_to_move = events[0]\n",
    "        else:\n",
    "            print(f'Event not found.')\n",
    "            return\n",
    "    else: #Eg: move my meeting on 2021-08-20 at 10:00 to 2021-08-21 at 11:00\n",
    "        events_result = service.events().list(calendarId='primary', timeMin=current_datetime.isoformat()+'Z', orderBy='startTime', singleEvents=True, q=f'{event_title.lower()}').execute() #matches with mispelled event names or lower case\n",
    "        events = events_result.get('items', [])\n",
    "        if events:\n",
    "            event_to_move = events[0]\n",
    "        else:\n",
    "            print(f'Event \"{event_title}\" not found.')\n",
    "            return\n",
    "    \n",
    "    #check if new date and time is available\n",
    "    if new_datetime < datetime.now():\n",
    "        print('The new date and time should be in the future.')\n",
    "        return\n",
    "    time_min = new_datetime.isoformat() + 'Z'\n",
    "    time_max = (new_datetime + timedelta(hours=1)).isoformat() + 'Z'\n",
    "\n",
    "# Make the query\n",
    "    check_availability = service.freebusy().query(\n",
    "        body={\n",
    "            'timeMin': time_min,\n",
    "            'timeMax': time_max,\n",
    "            'items': [{'id': 'primary'}]\n",
    "        }\n",
    "    ).execute()\n",
    "    if check_availability['calendars']['primary']['busy']:\n",
    "        print(f'The new date and time is not available. Please choose another date and time.')\n",
    "        return\n",
    "\n",
    "    print(event_to_move)\n",
    "    start_datetime = datetime.fromisoformat(event_to_move['start']['dateTime'])  \n",
    "    end_datetime = datetime.fromisoformat(event_to_move['end']['dateTime'])\n",
    "    event_duration = end_datetime - start_datetime #to make sure duration of event is maintained when moving \n",
    "    new_datetime_end = new_datetime + event_duration\n",
    "    event_to_move['start']['dateTime'] = new_datetime.isoformat()\n",
    "    event_to_move['end']['dateTime'] = new_datetime_end.isoformat()\n",
    "\n",
    "    # Update the event\n",
    "    updated_event = service.events().update(\n",
    "    calendarId='primary', eventId=event_to_move['id'], body=event_to_move).execute()\n",
    "\n",
    "    print(f'Event \"{event_title}\" moved to {datetime.fromisoformat(updated_event[\"start\"][\"dateTime\"])}')\n",
    "\n",
    "   \n",
    "  \n",
    "    "
   ]
  },
  {
   "cell_type": "code",
   "execution_count": 31,
   "metadata": {},
   "outputs": [
    {
     "name": "stdout",
     "output_type": "stream",
     "text": [
      "{'kind': 'calendar#event', 'etag': '\"3409717985262000\"', 'id': 'cdi3iophc8p38bb471i3cb9k6dgjab9occq36b9m60q3idr36dj64p1m6s_20240318T130000Z', 'status': 'confirmed', 'htmlLink': 'https://www.google.com/calendar/event?eid=Y2RpM2lvcGhjOHAzOGJiNDcxaTNjYjlrNmRnamFiOW9jY3EzNmI5bTYwcTNpZHIzNmRqNjRwMW02c18yMDI0MDMxOFQxMzAwMDBaIHNocml5YXNlQHVtaWNoLmVkdQ', 'created': '2024-01-10T03:56:11.000Z', 'updated': '2024-01-10T03:56:32.631Z', 'summary': 'EECS 545', 'location': 'STAMPS', 'colorId': '1', 'creator': {'email': 'shriyase@umich.edu', 'self': True}, 'organizer': {'email': 'shriyase@umich.edu', 'self': True}, 'start': {'dateTime': '2024-03-18T09:00:00-04:00', 'timeZone': 'America/New_York'}, 'end': {'dateTime': '2024-03-18T10:30:00-04:00', 'timeZone': 'America/New_York'}, 'recurringEventId': 'cdi3iophc8p38bb471i3cb9k6dgjab9occq36b9m60q3idr36dj64p1m6s', 'originalStartTime': {'dateTime': '2024-03-18T09:00:00-04:00', 'timeZone': 'America/New_York'}, 'iCalUID': 'cdi3iophc8p38bb471i3cb9k6dgjab9occq36b9m60q3idr36dj64p1m6s@google.com', 'sequence': 0, 'reminders': {'useDefault': True}, 'eventType': 'default'}\n",
      "Event \"EECS\" moved to 2024-03-12 11:00:00-04:00\n"
     ]
    }
   ],
   "source": [
    "user_entities = {'name':'EECS', 'date':'2024-03-13', 'new_date':'2024-03-12', 'new_time':'11:00 AM'}\n",
    "moveEvent(user_entities) "
   ]
  },
  {
   "cell_type": "code",
   "execution_count": 34,
   "metadata": {},
   "outputs": [],
   "source": [
    "def deleteEvent(event_details):\n",
    "    event_name = event_details.get('name', '')\n",
    "    date = event_details.get('date', '')\n",
    "    time = event_details.get('time', '')\n",
    "\n",
    "    if True:\n",
    "        if event_name: #when name is given\n",
    "            service = get_google_calendar_service()\n",
    "            if date and time:\n",
    "                current_datetime = datetime.strptime(f'{date} {time}', '%Y-%m-%d %I:%M %p').isoformat() + 'Z'\n",
    "            elif time:\n",
    "                current_datetime = datetime.now().replace(hour=int(time.split(':')[0]), minute=int(time.split(':')[1])).isoformat() + 'Z'\n",
    "            elif date:\n",
    "                current_datetime = datetime.strptime(date, '%Y-%m-%d').replace(hour=0, minute=0, second=0).isoformat() + 'Z'\n",
    "            else:\n",
    "                current_datetime = datetime.utcnow().isoformat() + 'Z'\n",
    "            \n",
    "            events_result = service.events().list(calendarId='primary', timeMin=current_datetime, orderBy='startTime', singleEvents=True, q=f'{event_name.lower()}').execute()\n",
    "            events = events_result.get('items', [])\n",
    "            if events:\n",
    "                event_to_delete = events[0]\n",
    "            else:\n",
    "                print(f'Event \"{event_name}\" not found.')\n",
    "                return\n",
    "            event_id = event_to_delete['id']\n",
    "            service.events().delete(calendarId='primary', eventId=event_id).execute()\n",
    "            print(f'Event \"{event_name}\" deleted.')\n",
    "\n",
    "        elif time: #when no name just time is given\n",
    "            current_datetime = datetime.now().replace(hour=int(time.split(':')[0]), minute=int(time.split(':')[1])).isoformat() + 'Z'\n",
    "            events_result = service.events().list(calendarId='primary', timeMin=current_datetime, orderBy='startTime', singleEvents=True).execute()\n",
    "            events = events_result.get('items', [])\n",
    "            if events:\n",
    "                event_to_delete = events[0]\n",
    "            else:\n",
    "                print(f'Event at {time} not found.')\n",
    "                return\n",
    "            event_id = event_to_delete['id']\n",
    "            service.events().delete(calendarId='primary', eventId=event_id).execute()\n",
    "            print(f'Event at {time} deleted.')\n",
    "\n",
    "    ##For multiple events\n",
    "    '''else:\n",
    "        if event_name: #eg: cancel my meetings in the afternoon\n",
    "            service = get_google_calendar_service()\n",
    "            if date and time: #eg: cancel my meetings on monday afternoon\n",
    "                current_datetime = datetime.strptime(f'{date} {time}', '%Y-%m-%d %I:%M %p').isoformat() + 'Z'\n",
    "            elif time: #eg: cancel my meetings in the afternoon\n",
    "                current_datetime = datetime.now().replace(hour=int(time.split(':')[0]), minute=int(time.split(':')[1])).isoformat() + 'Z'\n",
    "            elif date: #eg: cancel my meetings on monday\n",
    "                current_datetime = datetime.strptime(date, '%Y-%m-%d').replace(hour=0, minute=0, second=0).isoformat() + 'Z'\n",
    "            else:\n",
    "                current_datetime = datetime.utcnow().isoformat() + 'Z'\n",
    "            events_result = service.events().list(calendarId='primary', timeMin=current_datetime, orderBy='startTime', singleEvents=True, q=f'{event_name.lower()}').execute()\n",
    "            events = events_result.get('items', [])\n",
    "            if events:\n",
    "                for event in events:\n",
    "                    event_id = event['id']\n",
    "                    service.events().delete(calendarId='primary', eventId=event_id).execute()\n",
    "            else:\n",
    "                print(f'Event \"{event_name}\" not found.')\n",
    "                return'''\n",
    "  \n",
    "        \n"
   ]
  },
  {
   "cell_type": "code",
   "execution_count": 35,
   "metadata": {},
   "outputs": [],
   "source": [
    "deleteEvent({'name':'EECS', 'date':'2024-03-13', 'time':'10:00 AM'})"
   ]
  },
  {
   "cell_type": "code",
   "execution_count": null,
   "metadata": {},
   "outputs": [],
   "source": []
  },
  {
   "cell_type": "code",
   "execution_count": null,
   "metadata": {},
   "outputs": [],
   "source": []
  },
  {
   "cell_type": "code",
   "execution_count": 14,
   "metadata": {},
   "outputs": [],
   "source": [
    "'''service = get_google_calendar_service()\n",
    "now = datetime.utcnow().isoformat() + 'Z'\n",
    "events_result = service.events().list(calendarId='primary', timeMin=now,\n",
    "                                        maxResults=10, singleEvents=True,\n",
    "                                        orderBy='startTime').execute()\n",
    "events = events_result.get('items', [])\n",
    "for event in events:\n",
    "    name = event['summary']\n",
    "    start = event['start'].get('dateTime', event['start'].get('date'))\n",
    "    end = event['end'].get('dateTime', event['end'].get('date'))\n",
    "    id = event['id']\n",
    "    event_details = {'name':name, 'datetime_start':start, 'datetime_end':end, 'id':id}\n",
    "    f = open(\"events.txt\", \"a\")\n",
    "    f.write(f'{event_details}\\n')'''\n"
   ]
  },
  {
   "cell_type": "code",
   "execution_count": null,
   "metadata": {},
   "outputs": [],
   "source": []
  }
 ],
 "metadata": {
  "kernelspec": {
   "display_name": "venv",
   "language": "python",
   "name": "python3"
  },
  "language_info": {
   "codemirror_mode": {
    "name": "ipython",
    "version": 3
   },
   "file_extension": ".py",
   "mimetype": "text/x-python",
   "name": "python",
   "nbconvert_exporter": "python",
   "pygments_lexer": "ipython3",
   "version": "3.11.7"
  }
 },
 "nbformat": 4,
 "nbformat_minor": 2
}
